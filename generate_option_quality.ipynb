{
 "cells": [
  {
   "cell_type": "code",
   "execution_count": 1,
   "metadata": {
    "collapsed": true
   },
   "outputs": [],
   "source": [
    "import pandas as pd\n",
    "from settings import CHAT_GPT_API_KEY"
   ]
  },
  {
   "cell_type": "code",
   "execution_count": 2,
   "outputs": [],
   "source": [
    "df = pd.concat([pd.read_csv('aramis.csv'), pd.read_csv('aramis2.csv'), pd.read_csv('aramis3.csv')])"
   ],
   "metadata": {
    "collapsed": false
   }
  },
  {
   "cell_type": "code",
   "execution_count": null,
   "outputs": [],
   "source": [
    "import json"
   ],
   "metadata": {
    "collapsed": false
   }
  },
  {
   "cell_type": "code",
   "execution_count": 3,
   "outputs": [],
   "source": [
    "import openai\n",
    "MODEL = 'text-davinci-003'\n",
    "\n",
    "openai.api_key = CHAT_GPT_API_KEY"
   ],
   "metadata": {
    "collapsed": false
   }
  },
  {
   "cell_type": "code",
   "execution_count": 4,
   "outputs": [],
   "source": [
    "prompt = \"\"\"Voici une liste de catégories d'options de véhicules:\n",
    "'''Matériaux de l'habitacle\n",
    "Système d'infodivertissement avancé\n",
    "Assistance à la conduite\n",
    "Performance et ingénierie\n",
    "Sécurité\n",
    "Personnalisation\n",
    "Technologies écologiques\n",
    "Éléments extérieurs\n",
    "Confort\n",
    "Garanties et services\n",
    "Prestige de la marque\n",
    "Performances électroniques'''\n",
    "\n",
    "il faut en plus de la catégorie donner un indice de qualité, basique, intermédiaire, premium,\n",
    "Est-ce que tu peux me donner pour équipement , sa catégorie et son indique de qualité sous format JSON avec 3 clés equipment, categorie, quality?\n",
    "\n",
    "'''{}'''\n",
    "\n",
    "\"\"\""
   ],
   "metadata": {
    "collapsed": false
   }
  },
  {
   "cell_type": "code",
   "execution_count": 20,
   "outputs": [],
   "source": [
    "def generate_responses(prompt, equipments):\n",
    "    response = openai.ChatCompletion.create(\n",
    "        model=\"gpt-4\",\n",
    "        messages=[\n",
    "            {\"role\": \"user\", \"content\": prompt.format(equipments)},\n",
    "        ],\n",
    "        temperature=.9\n",
    "    )\n",
    "\n",
    "    return response['choices'][0]['message']['content']\n"
   ],
   "metadata": {
    "collapsed": false
   }
  },
  {
   "cell_type": "code",
   "execution_count": 18,
   "outputs": [
    {
     "data": {
      "text/plain": "\"Voici une liste de catégories d'options de véhicules:\\n'''Matériaux de l'habitacle\\nSystème d'infodivertissement avancé\\nAssistance à la conduite\\nPerformance et ingénierie\\nSécurité\\nPersonnalisation\\nTechnologies écologiques\\nÉléments extérieurs\\nConfort\\nGaranties et services\\nPrestige de la marque\\nPerformances électroniques'''\\n\\nil faut en plus de la catégorie donner un indice de qualité, basique, intermédiaire, premium,\\nEst-ce que tu peux me donner pour équipement , sa catégorie et son indique de qualité sous format JSON avec 3 clés equipment, categorie, quality? \\n\\n'''{}'''\\n\\n\""
     },
     "execution_count": 18,
     "metadata": {},
     "output_type": "execute_result"
    }
   ],
   "source": [
    "prompt"
   ],
   "metadata": {
    "collapsed": false
   }
  },
  {
   "cell_type": "code",
   "execution_count": 24,
   "outputs": [],
   "source": [
    "df['equipments'] = df['equipments'].apply(eval)"
   ],
   "metadata": {
    "collapsed": false
   }
  },
  {
   "cell_type": "code",
   "execution_count": 27,
   "outputs": [],
   "source": [
    "responses = []"
   ],
   "metadata": {
    "collapsed": false
   }
  },
  {
   "cell_type": "code",
   "execution_count": 30,
   "outputs": [],
   "source": [
    "from tqdm import tqdm"
   ],
   "metadata": {
    "collapsed": false
   }
  },
  {
   "cell_type": "code",
   "execution_count": 31,
   "outputs": [
    {
     "name": "stderr",
     "output_type": "stream",
     "text": [
      "100it [2:05:05, 75.05s/it]\n"
     ]
    }
   ],
   "source": [
    "for _, row in tqdm(df.iloc[:100].iterrows()):\n",
    "    responses.append(generate_responses(prompt, row['equipments']))"
   ],
   "metadata": {
    "collapsed": false
   }
  },
  {
   "cell_type": "code",
   "execution_count": 5,
   "outputs": [],
   "source": [
    "import json"
   ],
   "metadata": {
    "collapsed": false
   }
  },
  {
   "cell_type": "code",
   "execution_count": 38,
   "outputs": [],
   "source": [
    "with open('responses.txt', 'w') as f:\n",
    "    f.write(json.dumps(responses))"
   ],
   "metadata": {
    "collapsed": false
   }
  },
  {
   "cell_type": "code",
   "execution_count": 33,
   "outputs": [
    {
     "data": {
      "text/plain": "                                                    0\n0   Je suis désolé, mais en tant qu'IA, je n'ai pa...\n1   {\\n\"equipments\": [\\n    {\\n    \"equipment\": \"A...\n2   {\\n\"equipments\": [\\n{\\n\"equipment\": \"Climatisa...\n3   Voici la représentation JSON:\\n\\n```json\\n[\\n ...\n4   Voici le format JSON que vous avez demandé :\\n...\n..                                                ...\n95  Voici la liste des équipements avec leur catég...\n96  [\\n    {\\n        \"equipment\": \"Eclairage diur...\n97  [\\n  {\\n    \"equipment\": \"Accoudoir central AV...\n98  [\\n  {\\n    \"equipment\": \"Châssis sport\",\\n   ...\n99  ''[\\n  {\"equipment\":\"Sièges avants chauffants\"...\n\n[100 rows x 1 columns]",
      "text/html": "<div>\n<style scoped>\n    .dataframe tbody tr th:only-of-type {\n        vertical-align: middle;\n    }\n\n    .dataframe tbody tr th {\n        vertical-align: top;\n    }\n\n    .dataframe thead th {\n        text-align: right;\n    }\n</style>\n<table border=\"1\" class=\"dataframe\">\n  <thead>\n    <tr style=\"text-align: right;\">\n      <th></th>\n      <th>0</th>\n    </tr>\n  </thead>\n  <tbody>\n    <tr>\n      <th>0</th>\n      <td>Je suis désolé, mais en tant qu'IA, je n'ai pa...</td>\n    </tr>\n    <tr>\n      <th>1</th>\n      <td>{\\n\"equipments\": [\\n    {\\n    \"equipment\": \"A...</td>\n    </tr>\n    <tr>\n      <th>2</th>\n      <td>{\\n\"equipments\": [\\n{\\n\"equipment\": \"Climatisa...</td>\n    </tr>\n    <tr>\n      <th>3</th>\n      <td>Voici la représentation JSON:\\n\\n```json\\n[\\n ...</td>\n    </tr>\n    <tr>\n      <th>4</th>\n      <td>Voici le format JSON que vous avez demandé :\\n...</td>\n    </tr>\n    <tr>\n      <th>...</th>\n      <td>...</td>\n    </tr>\n    <tr>\n      <th>95</th>\n      <td>Voici la liste des équipements avec leur catég...</td>\n    </tr>\n    <tr>\n      <th>96</th>\n      <td>[\\n    {\\n        \"equipment\": \"Eclairage diur...</td>\n    </tr>\n    <tr>\n      <th>97</th>\n      <td>[\\n  {\\n    \"equipment\": \"Accoudoir central AV...</td>\n    </tr>\n    <tr>\n      <th>98</th>\n      <td>[\\n  {\\n    \"equipment\": \"Châssis sport\",\\n   ...</td>\n    </tr>\n    <tr>\n      <th>99</th>\n      <td>''[\\n  {\"equipment\":\"Sièges avants chauffants\"...</td>\n    </tr>\n  </tbody>\n</table>\n<p>100 rows × 1 columns</p>\n</div>"
     },
     "execution_count": 33,
     "metadata": {},
     "output_type": "execute_result"
    }
   ],
   "source": [
    "pd.DataFrame(responses)"
   ],
   "metadata": {
    "collapsed": false
   }
  },
  {
   "cell_type": "code",
   "execution_count": 21,
   "outputs": [
    {
     "data": {
      "text/plain": "'{\\n    \"equipments\": [\\n        {\\n            \"equipment\": \"Climatisation manuelle\",\\n            \"categorie\": \"Confort\",\\n            \"quality\": \"Basique\"\\n        },\\n        {\\n            \"equipment\": \"Appuie-tête à sécurité optimisée à l\\'avant\",\\n            \"categorie\": \"Sécurité\",\\n            \"quality\": \"Intermédiaire\"\\n        },\\n        {\\n            \"equipment\": \"Boîte à gants avec possibilité de réfrigération\",\\n            \"categorie\": \"Confort\",\\n            \"quality\": \"Intermédiaire\"\\n        },\\n        {\\n            \"equipment\": \"Colonne de direction réglable en hauteur et profondeur\",\\n            \"categorie\": \"Confort\",\\n            \"quality\": \"Basique\"\\n        },\\n        {\\n            \"equipment\": \"Direction Assistée électro-hydraulique régulée\",\\n            \"categorie\": \"Assistance à la conduite\",\\n            \"quality\": \"Intermédiaire\"\\n        },\\n        {\\n            \"equipment\": \"Double plancher de coffre à bagages\",\\n            \"categorie\": \"Confort\",\\n            \"quality\": \"Intermédiaire\"\\n        },\\n        {\\n            \"equipment\": \"Miroir de courtoisie éclairé dans le pare-soleil du conducteur\",\\n            \"categorie\": \"Confort\",\\n            \"quality\": \"Basique\"\\n        },\\n        {\\n            \"equipment\": \"Miroir de courtoisie éclairé dans le pare-soleil du passager avant\",\\n            \"categorie\": \"Confort\",\\n            \"quality\": \"Basique\"\\n        },\\n        {\\n            \"equipment\": \"Régulateur de vitesse\",\\n            \"categorie\": \"Assistance à la conduite\",\\n            \"quality\": \"Intermédiaire\"\\n        },\\n        {\\n            \"equipment\": \"Rétroviseur intérieur de sécurité à réglage jour/nuit\",\\n            \"categorie\": \"Sécurité\",\\n            \"quality\": \"Basique\"\\n        },\\n        {\\n            \"equipment\": \"Vitres AV électriques\",\\n            \"categorie\": \"Confort\",\\n            \"quality\": \"Basique\"\\n        },\\n        {\\n            \"equipment\": \"Double de clé disponible\",\\n            \"categorie\": \"Garanties et services\",\\n            \"quality\": \"Basique\"\\n        },\\n        {\\n            \"equipment\": \"Affichage multifonction\",\\n            \"categorie\": \"Système d\\'infodivertissement avancé\",\\n            \"quality\": \"Intermédiaire\"\\n        },\\n        {\\n            \"equipment\": \"6 Haut-parleurs (passifs)\",\\n            \"categorie\": \"Système d\\'infodivertissement avancé\",\\n            \"quality\": \"Premium\"\\n        },\\n        {\\n            \"equipment\": \"Radionavigation ‘Blaupunkt Philadelphia 835’ 6 haut-parleurs (4 x 20 W) : Ecran couleur tactile 7’’, Cartographie de l’Europe de l’ouest sur micro-carte SD fournie, Vue d’ensemble du parcours planifié, Affichage de la carte en 2D ou 3D, Affichage des limi\",\\n            \"categorie\": \"Système d\\'infodivertissement avancé\",\\n            \"quality\": \"Premium\"\\n        },\\n        {\\n            \"equipment\": \"Banquette et dossier arrière asymétriques, rabattables 1/3 et 2/3\",\\n            \"categorie\": \"Confort\",\\n            \"quality\": \"Intermédiaire\"\\n        },\\n        {\\n            \"equipment\": \"Eclairage du coffre à bagages\",\\n            \"categorie\": \"Confort\",\\n            \"quality\": \"Basique\"\\n        },\\n        {\\n            \"equipment\": \"Fourreau de levier de vitesses en similicuir\",\\n            \"categorie\": \"Confort\",\\n            \"quality\": \"Intermédiaire\"\\n        },\\n        {\\n            \"equipment\": \"Garniture de plancher du coffre à bagages, feutre aiguilleté\",\\n            \"categorie\": \"Confort\",\\n            \"quality\": \"Basique\"\\n        },\\n        {\\n            \"equipment\": \"Habillage complet du coffre à bagages en feutre\",\\n            \"categorie\": \"Confort\",\\n            \"quality\": \"Intermédiaire\"\\n        },\\n        {\\n            \"equipment\": \"Plafonnier à l\\'avant avec extinction retardée et contacteurs dans toutes les portes\",\\n            \"categorie\": \"Confort\",\\n            \"quality\": \"Basique\"\\n        },\\n        {\\n            \"equipment\": \"Poignée de frein à main en cuir\",\\n            \"categorie\": \"Matériaux de l\\'habitacle\",\\n            \"quality\": \"Premium\"\\n        },\\n        {\\n            \"equipment\": \"Pommeau du levier de vitesses en cuir\",\\n            \"categorie\": \"Matériaux de l\\'habitacle\",\\n            \"quality\": \"Premium\"\\n        },\\n        {\\n            \"equipment\": \"Sellerie en tissu, dessin \"\"Fonzie\"\"\",\\n            \"categorie\": \"Matériaux de l\\'habitacle\",\\n            \"quality\": \"Basique\"\\n        },\\n        {\\n            \"equipment\": \"Sièges Avant avec réglage en hauteur\",\\n            \"categorie\": \"Confort\",\\n            \"quality\": \"Intermédiaire\"\\n        },\\n        {\\n            \"equipment\": \"Vide-poches au dos des sièges Avant\",\\n            \"categorie\": \"Confort\",\\n            \"quality\": \"Basique\"\\n        },\\n        {\\n            \"equipment\": \"Volant cuir (croûte de cuir, 3 branches) avec placages en chrome mat\",\\n            \"categorie\": \"Matériaux de l\\'habitacle\",\\n            \"quality\": \"Premium\"\\n        },\\n        {\\n            \"equipment\": \"Volant cuir multifonction (3 branches) avec placages en chrome mat\",\\n            \"categorie\": \"Matériaux de l\\'habitacle\",\\n            \"quality\": \"Premium\"\\n        },\\n        {\\n            \"equipment\": \"Jantes en alliage léger \"\"Spokane\"\" 6 J x 15\",\\n            \"categorie\": \"Éléments extérieurs\",\\n            \"quality\": \"Premium\"\\n        },\\n        {\\n            \"equipment\": \"Rétroviseur extérieur côté conducteur, asphérique\",\\n            \"categorie\": \"Éléments extérieurs\",\\n            \"quality\": \"Basique\"\\n        },\\n        {\\n            \"equipment\": \"Rétroviseur extérieur réglable/dégivrant électrique\",\\n            \"categorie\": \"Éléments extérieurs\",\\n            \"quality\": \"Intermédiaire\"\\n        },\\n        {\\n            \"equipment\": \"Vitres arrière et lunette arrière surteintées à 65%\",\\n            \"categorie\": \"Éléments extérieurs\",\\n            \"quality\": \"Premium\"\\n        },\\n        {\\n            \"equipment\": \"Affichage du contrôle de la pression des pneus\",\\n            \"categorie\": \"Sécurité\",\\n            \"quality\": \"Basique\"\\n        },\\n        {\\n            \"equipment\": \"Antidémarrage électronique\",\\n            \"categorie\": \"Sécurité\",\\n            \"quality\": \"Intermédiaire\"\\n        },\\n        {\\n            \"equipment\": \"Contrôle électronique de stabilisation y compris ABS avec assistance au freinage, ASR, EDS et MSR\",\\n            \"categorie\": \"Sécurité\",\\n            \"quality\": \"Premium\"\\n        },\\n        {\\n            \"equipment\": \"Contrôle électronique de stabilisation y compris assistant de démarrage en côte\",\\n            \"categorie\": \"Sécurité\",\\n            \"quality\": \"Intermédiaire\"\\n        },\\n        {\\n            \"equipment\": \"Oeillets d arrimage ISOFIX (dispositif pour fixation de 2 sièges-enfant sur la banquette arrière)\",\\n            \"categorie\": \"Sécurité\",\\n            \"quality\": \"Intermédiaire\"\\n        },\\n        {\\n            \"equipment\": \"Protection des piétons en cas de collision\",\\n            \"categorie\": \"Sécurité\",\\n            \"quality\": \"Premium\"\\n        },\\n        {\\n            \"equipment\": \"Réglage du site des phares\",\\n            \"categorie\": \"Sécurité\",\\n            \"quality\": \"Basique\"\\n        },\\n        {\\n            \"equipment\": \"Verrouillage central sans dispositif de sécurité Safe\",\\n            \"categorie\": \"Sécurité\",\\n            \"quality\": \"Basique\"\\n        },\\n        {\\n            \"equipment\": \"Roue de secours normale\",\\n            \"categorie\": \"Garanties et services\",\\n            \"quality\": \"Intermédiaire\"\\n        }\\n    ]\\n}'"
     },
     "execution_count": 21,
     "metadata": {},
     "output_type": "execute_result"
    }
   ],
   "source": [
    "generate_responses(prompt, ['Climatisation manuelle', \"Appuie-tête à sécurité optimisée à l'avant\", 'Boîte à gants avec possibilité de réfrigération', 'Colonne de direction réglable en hauteur et profondeur', 'Direction Assistée électro-hydraulique régulée', 'Double plancher de coffre à bagages', 'Miroir de courtoisie éclairé dans le pare-soleil du conducteur', 'Miroir de courtoisie éclairé dans le pare-soleil du passager avant', 'Régulateur de vitesse', 'Rétroviseur intérieur de sécurité à réglage jour/nuit', 'Vitres AV électriques', 'Double de clé disponible', 'Affichage multifonction', '6 Haut-parleurs (passifs)', 'Radionavigation ‘Blaupunkt Philadelphia 835’ 6 haut-parleurs (4 x 20 W) : Ecran couleur tactile 7’’, Cartographie de l’Europe de l’ouest sur micro-carte SD fournie, Vue d’ensemble du parcours planifié, Affichage de la carte en 2D ou 3D, Affichage des limi', 'Banquette et dossier arrière asymétriques, rabattables 1/3 et 2/3', 'Eclairage du coffre à bagages', 'Fourreau de levier de vitesses en similicuir', 'Garniture de plancher du coffre à bagages, feutre aiguilleté', 'Habillage complet du coffre à bagages en feutre', \"Plafonnier à l'avant avec extinction retardée et contacteurs dans toutes les portes\", 'Poignée de frein à main en cuir', 'Pommeau du levier de vitesses en cuir', 'Sellerie en tissu, dessin \"\"Fonzie\"\"', 'Sièges Avant avec réglage en hauteur', 'Vide-poches au dos des sièges Avant', 'Volant cuir (croûte de cuir, 3 branches) avec placages en chrome mat', 'Volant cuir multifonction (3 branches) avec placages en chrome mat', 'Jantes en alliage léger \"\"Spokane\"\" 6 J x 15', 'Rétroviseur extérieur côté conducteur, asphérique', 'Rétroviseur extérieur réglable/dégivrant électrique', 'Vitres arrière et lunette arrière surteintées à 65%', 'Affichage du contrôle de la pression des pneus', 'Antidémarrage électronique', 'Contrôle électronique de stabilisation y compris ABS avec assistance au freinage, ASR, EDS et MSR', 'Contrôle électronique de stabilisation y compris assistant de démarrage en côte', 'Oeillets d arrimage ISOFIX (dispositif pour fixation de 2 sièges-enfant sur la banquette arrière)', 'Protection des piétons en cas de collision', 'Réglage du site des phares', 'Verrouillage central sans dispositif de sécurité Safe', 'Roue de secours normale'])"
   ],
   "metadata": {
    "collapsed": false
   }
  },
  {
   "cell_type": "code",
   "execution_count": 67,
   "outputs": [],
   "source": [
    "responses = json.load(open('esponses.txt', 'r'))"
   ],
   "metadata": {
    "collapsed": false
   }
  },
  {
   "cell_type": "code",
   "execution_count": 68,
   "outputs": [],
   "source": [
    "def clean_responses(responses):\n",
    "    for response in responses:\n",
    "        list_index = response.find('[')\n",
    "        bracket_index = response.find('{')\n",
    "        response = response[min(list_index, bracket_index):]\n",
    "        last_list_index = response.rfind(']')\n",
    "        last_bracket_index = response.rfind('}')\n",
    "        try:\n",
    "            result = json.loads(response[:max(last_bracket_index, last_list_index) + 1])\n",
    "            if isinstance(result, dict):\n",
    "                yield result['equipments']\n",
    "            else:\n",
    "                yield result\n",
    "        except:\n",
    "            pass"
   ],
   "metadata": {
    "collapsed": false
   }
  },
  {
   "cell_type": "code",
   "execution_count": 69,
   "outputs": [],
   "source": [
    "responses = list(clean_responses(responses))"
   ],
   "metadata": {
    "collapsed": false
   }
  },
  {
   "cell_type": "code",
   "execution_count": 64,
   "outputs": [
    {
     "data": {
      "text/plain": "{'equipments': [{'equipment': 'Climatisation manuelle',\n   'categorie': 'Confort',\n   'quality': 'Basic'},\n  {'equipment': \"Appuie-tête à sécurité optimisée à l'avant\",\n   'categorie': 'Sécurité',\n   'quality': 'Intermediate'},\n  {'equipment': 'Boîte à gants avec possibilité de réfrigération',\n   'categorie': 'Confort',\n   'quality': 'Basic'},\n  {'equipment': 'Colonne de direction réglable en hauteur et profondeur',\n   'categorie': 'Confort',\n   'quality': 'Intermediate'},\n  {'equipment': 'Direction Assistée électro-hydraulique régulée',\n   'categorie': 'Performance et ingénierie',\n   'quality': 'Premium'},\n  {'equipment': 'Double plancher de coffre à bagages',\n   'categorie': 'Confort',\n   'quality': 'Intermediate'},\n  {'equipment': 'Miroir de courtoisie éclairé dans le pare-soleil du conducteur',\n   'categorie': 'Confort',\n   'quality': 'Intermediate'},\n  {'equipment': 'Miroir de courtoisie éclairé dans le pare-soleil du passager avant',\n   'categorie': 'Confort',\n   'quality': 'Intermediate'},\n  {'equipment': 'Régulateur de vitesse',\n   'categorie': 'Assistance à la conduite',\n   'quality': 'Basic'},\n  {'equipment': 'Rétroviseur intérieur de sécurité à réglage jour/nuit',\n   'categorie': 'Sécurité',\n   'quality': 'Basic'},\n  {'equipment': 'Vitres AV électriques',\n   'categorie': 'Confort',\n   'quality': 'Basic'},\n  {'equipment': 'Double de clé disponible',\n   'categorie': 'Sécurité',\n   'quality': 'Basic'},\n  {'equipment': 'Affichage multifonction',\n   'categorie': \"Système d'infodivertissement avancé\",\n   'quality': 'Intermediate'},\n  {'equipment': '6 Haut-parleurs (passifs)',\n   'categorie': \"Système d'infodivertissement avancé\",\n   'quality': 'Basic'},\n  {'equipment': 'Radionavigation ‘Blaupunkt Philadelphia 835’ 6 haut-parleurs (4 x 20 W)',\n   'categorie': \"Système d'infodivertissement avancé\",\n   'quality': 'Premium'},\n  {'equipment': 'Banquette et dossier arrière asymétriques, rabattables 1/3 et 2/3',\n   'categorie': 'Confort',\n   'quality': 'Intermediate'},\n  {'equipment': 'Eclairage du coffre à bagages',\n   'categorie': 'Confort',\n   'quality': 'Basic'},\n  {'equipment': 'Fourreau de levier de vitesses en similicuir',\n   'categorie': \"Matériaux de l'habitacle\",\n   'quality': 'Basic'},\n  {'equipment': 'Garniture de plancher du coffre à bagages, feutre aiguilleté',\n   'categorie': \"Matériaux de l'habitacle\",\n   'quality': 'Basic'},\n  {'equipment': 'Habillage complet du coffre à bagages en feutre',\n   'categorie': \"Matériaux de l'habitacle\",\n   'quality': 'Basic'},\n  {'equipment': \"Plafonnier à l'avant avec extinction retardée et contacteurs dans toutes les portes\",\n   'categorie': 'Confort',\n   'quality': 'Basic'},\n  {'equipment': 'Poignée de frein à main en cuir',\n   'categorie': \"Matériaux de l'habitacle\",\n   'quality': 'Premium'},\n  {'equipment': 'Pommeau du levier de vitesses en cuir',\n   'categorie': \"Matériaux de l'habitacle\",\n   'quality': 'Premium'},\n  {'equipment': 'Sellerie en tissu, dessin Fonzie',\n   'categorie': \"Matériaux de l'habitacle\",\n   'quality': 'Basic'},\n  {'equipment': 'Sièges Avant avec réglage en hauteur',\n   'categorie': 'Confort',\n   'quality': 'Intermediate'},\n  {'equipment': 'Vide-poches au dos des sièges Avant',\n   'categorie': 'Confort',\n   'quality': 'Basic'},\n  {'equipment': 'Volant cuir (croûte de cuir, 3 branches) avec placages en chrome mat',\n   'categorie': \"Matériaux de l'habitacle\",\n   'quality': 'Premium'},\n  {'equipment': 'Volant cuir multifonction (3 branches) avec placages en chrome mat',\n   'categorie': \"Matériaux de l'habitacle\",\n   'quality': 'Premium'},\n  {'equipment': 'Jantes en alliage léger Spokane 6 J x 15',\n   'categorie': 'Éléments extérieurs',\n   'quality': 'Premium'},\n  {'equipment': 'Rétroviseur extérieur côté conducteur, asphérique',\n   'categorie': 'Éléments extérieurs',\n   'quality': 'Basic'},\n  {'equipment': 'Rétroviseur extérieur réglable/dégivrant électrique',\n   'categorie': 'Éléments extérieurs',\n   'quality': 'Intermediate'},\n  {'equipment': 'Vitres arrière et lunette arrière surteintées à 65%',\n   'categorie': 'Éléments extérieurs',\n   'quality': 'Intermediate'},\n  {'equipment': 'Affichage du contrôle de la pression des pneus',\n   'categorie': 'Sécurité',\n   'quality': 'Intermediate'},\n  {'equipment': 'Antidémarrage électronique',\n   'categorie': 'Sécurité',\n   'quality': 'Basic'},\n  {'equipment': 'Contrôle électronique de stabilisation y compris ABS avec assistance au freinage, ASR, EDS et MSR',\n   'categorie': 'Sécurité',\n   'quality': 'Premium'},\n  {'equipment': 'Contrôle électronique de stabilisation y compris assistant de démarrage en côte',\n   'categorie': 'Sécurité',\n   'quality': 'Premium'},\n  {'equipment': 'Oeillets d arrimage ISOFIX (dispositif pour fixation de 2 sièges-enfant sur la banquette arrière)',\n   'categorie': 'Sécurité',\n   'quality': 'Premium'},\n  {'equipment': 'Protection des piétons en cas de collision',\n   'categorie': 'Sécurité',\n   'quality': 'Premium'},\n  {'equipment': 'Réglage du site des phares',\n   'categorie': 'Sécurité',\n   'quality': 'Basic'},\n  {'equipment': 'Verrouillage central sans dispositif de sécurité Safe',\n   'categorie': 'Sécurité',\n   'quality': 'Basic'},\n  {'equipment': 'Roue de secours normale',\n   'categorie': 'Garanties et services',\n   'quality': 'Basic'}]}"
     },
     "execution_count": 64,
     "metadata": {},
     "output_type": "execute_result"
    }
   ],
   "source": [
    "responses[1]"
   ],
   "metadata": {
    "collapsed": false
   }
  },
  {
   "cell_type": "code",
   "execution_count": 74,
   "outputs": [],
   "source": [
    "df = pd.DataFrame(sum(responses, []))"
   ],
   "metadata": {
    "collapsed": false
   }
  },
  {
   "cell_type": "code",
   "execution_count": 99,
   "outputs": [
    {
     "data": {
      "text/plain": "{'Assistance à la conduite',\n 'Confort',\n 'Eléments extérieurs',\n 'Garanties et services',\n \"Matériaux de l'habitacle\",\n 'Performance et ingénierie',\n 'Performances électroniques',\n 'Personalisation',\n 'Personnalisation',\n 'Pratique',\n 'Prestige de la marque',\n \"Système d'infodivertissement avancé\",\n 'Sécurité',\n 'Technologies écologiques',\n 'Éléments extérieurs'}"
     },
     "execution_count": 99,
     "metadata": {},
     "output_type": "execute_result"
    }
   ],
   "source": [
    "set(df['category'])"
   ],
   "metadata": {
    "collapsed": false
   }
  },
  {
   "cell_type": "code",
   "execution_count": 79,
   "outputs": [],
   "source": [
    "import numpy as np"
   ],
   "metadata": {
    "collapsed": false
   }
  },
  {
   "cell_type": "code",
   "execution_count": 83,
   "outputs": [],
   "source": [
    "df['category'] = df.apply(lambda row: row['categorie'] if not row['categorie'] is np.nan else row['category'], axis=1)"
   ],
   "metadata": {
    "collapsed": false
   }
  },
  {
   "cell_type": "code",
   "execution_count": 84,
   "outputs": [],
   "source": [
    "df = df[['equipment', 'category', 'quality']]"
   ],
   "metadata": {
    "collapsed": false
   }
  },
  {
   "cell_type": "code",
   "execution_count": 87,
   "outputs": [
    {
     "ename": "ValueError",
     "evalue": "Number of classes, 70, does not match size of target_names, 85. Try specifying the labels parameter",
     "output_type": "error",
     "traceback": [
      "\u001B[1;31m---------------------------------------------------------------------------\u001B[0m",
      "\u001B[1;31mValueError\u001B[0m                                Traceback (most recent call last)",
      "Input \u001B[1;32mIn [87]\u001B[0m, in \u001B[0;36m<cell line: 36>\u001B[1;34m()\u001B[0m\n\u001B[0;32m     34\u001B[0m \u001B[38;5;66;03m# Évaluation du modèle\u001B[39;00m\n\u001B[0;32m     35\u001B[0m predictions \u001B[38;5;241m=\u001B[39m pipeline\u001B[38;5;241m.\u001B[39mpredict(X_test)\n\u001B[1;32m---> 36\u001B[0m \u001B[38;5;28mprint\u001B[39m(\u001B[43mclassification_report\u001B[49m\u001B[43m(\u001B[49m\u001B[43my_test\u001B[49m\u001B[43m,\u001B[49m\u001B[43m \u001B[49m\u001B[43mpredictions\u001B[49m\u001B[43m,\u001B[49m\u001B[43m \u001B[49m\u001B[43mtarget_names\u001B[49m\u001B[38;5;241;43m=\u001B[39;49m\u001B[43mlabel_encoder\u001B[49m\u001B[38;5;241;43m.\u001B[39;49m\u001B[43mclasses_\u001B[49m\u001B[43m)\u001B[49m)\n\u001B[0;32m     38\u001B[0m \u001B[38;5;66;03m# Pour prédire la catégorie et la qualité d'un nouvel équipement\u001B[39;00m\n\u001B[0;32m     39\u001B[0m new_equipments \u001B[38;5;241m=\u001B[39m [\u001B[38;5;124m'\u001B[39m\u001B[38;5;124mVotre nouvel équipement ici\u001B[39m\u001B[38;5;124m'\u001B[39m]\n",
      "File \u001B[1;32m~\\anaconda3\\lib\\site-packages\\sklearn\\metrics\\_classification.py:2132\u001B[0m, in \u001B[0;36mclassification_report\u001B[1;34m(y_true, y_pred, labels, target_names, sample_weight, digits, output_dict, zero_division)\u001B[0m\n\u001B[0;32m   2126\u001B[0m         warnings\u001B[38;5;241m.\u001B[39mwarn(\n\u001B[0;32m   2127\u001B[0m             \u001B[38;5;124m\"\u001B[39m\u001B[38;5;124mlabels size, \u001B[39m\u001B[38;5;132;01m{0}\u001B[39;00m\u001B[38;5;124m, does not match size of target_names, \u001B[39m\u001B[38;5;132;01m{1}\u001B[39;00m\u001B[38;5;124m\"\u001B[39m\u001B[38;5;241m.\u001B[39mformat(\n\u001B[0;32m   2128\u001B[0m                 \u001B[38;5;28mlen\u001B[39m(labels), \u001B[38;5;28mlen\u001B[39m(target_names)\n\u001B[0;32m   2129\u001B[0m             )\n\u001B[0;32m   2130\u001B[0m         )\n\u001B[0;32m   2131\u001B[0m     \u001B[38;5;28;01melse\u001B[39;00m:\n\u001B[1;32m-> 2132\u001B[0m         \u001B[38;5;28;01mraise\u001B[39;00m \u001B[38;5;167;01mValueError\u001B[39;00m(\n\u001B[0;32m   2133\u001B[0m             \u001B[38;5;124m\"\u001B[39m\u001B[38;5;124mNumber of classes, \u001B[39m\u001B[38;5;132;01m{0}\u001B[39;00m\u001B[38;5;124m, does not match size of \u001B[39m\u001B[38;5;124m\"\u001B[39m\n\u001B[0;32m   2134\u001B[0m             \u001B[38;5;124m\"\u001B[39m\u001B[38;5;124mtarget_names, \u001B[39m\u001B[38;5;132;01m{1}\u001B[39;00m\u001B[38;5;124m. Try specifying the labels \u001B[39m\u001B[38;5;124m\"\u001B[39m\n\u001B[0;32m   2135\u001B[0m             \u001B[38;5;124m\"\u001B[39m\u001B[38;5;124mparameter\u001B[39m\u001B[38;5;124m\"\u001B[39m\u001B[38;5;241m.\u001B[39mformat(\u001B[38;5;28mlen\u001B[39m(labels), \u001B[38;5;28mlen\u001B[39m(target_names))\n\u001B[0;32m   2136\u001B[0m         )\n\u001B[0;32m   2137\u001B[0m \u001B[38;5;28;01mif\u001B[39;00m target_names \u001B[38;5;129;01mis\u001B[39;00m \u001B[38;5;28;01mNone\u001B[39;00m:\n\u001B[0;32m   2138\u001B[0m     target_names \u001B[38;5;241m=\u001B[39m [\u001B[38;5;124m\"\u001B[39m\u001B[38;5;132;01m%s\u001B[39;00m\u001B[38;5;124m\"\u001B[39m \u001B[38;5;241m%\u001B[39m l \u001B[38;5;28;01mfor\u001B[39;00m l \u001B[38;5;129;01min\u001B[39;00m labels]\n",
      "\u001B[1;31mValueError\u001B[0m: Number of classes, 70, does not match size of target_names, 85. Try specifying the labels parameter"
     ]
    }
   ],
   "source": [
    "import pandas as pd\n",
    "from sklearn.feature_extraction.text import TfidfVectorizer\n",
    "from sklearn.model_selection import train_test_split\n",
    "from sklearn.linear_model import SGDClassifier\n",
    "from sklearn.pipeline import Pipeline\n",
    "from sklearn.metrics import classification_report\n",
    "from sklearn.preprocessing import LabelEncoder\n",
    "\n",
    "# Supposons que `data` est un DataFrame Pandas avec deux colonnes : 'equipement' et 'label'\n",
    "# où 'label' est une combinaison de la catégorie et de la qualité de l'équipement\n",
    "# Par exemple, 'Sécurité-Premium', 'Confort-Basique', etc.\n",
    "\n",
    "# Chargement de votre dataset (à remplacer avec le chemin vers votre fichier de données)\n",
    "data = df.copy()\n",
    "data['label'] = data['category'] + ' - ' + data['quality']\n",
    "# Encodage des labels en valeurs numériques\n",
    "label_encoder = LabelEncoder()\n",
    "data['label_encoded'] = label_encoder.fit_transform(data['label'])\n",
    "\n",
    "# Séparation des données en ensemble d'entraînement et de test\n",
    "X_train, X_test, y_train, y_test = train_test_split(\n",
    "    data['equipment'], data['label_encoded'], test_size=0.2, random_state=42\n",
    ")\n",
    "\n",
    "# Création du pipeline de traitement avec TF-IDF et un classificateur linéaire\n",
    "pipeline = Pipeline([\n",
    "    ('tfidf', TfidfVectorizer()),\n",
    "    ('classifier', SGDClassifier(loss='hinge', penalty='l2', alpha=1e-3, random_state=42, max_iter=5, tol=None))\n",
    "])\n",
    "\n",
    "pipeline.fit(X_train, y_train)\n",
    "\n",
    "predictions = pipeline.predict(X_test)\n",
    "\n"
   ],
   "metadata": {
    "collapsed": false
   }
  },
  {
   "cell_type": "code",
   "execution_count": 101,
   "outputs": [
    {
     "data": {
      "text/plain": "{'Basic',\n 'Basique',\n 'Intermediate',\n 'Intermédiaire',\n 'Premier',\n 'Premium',\n 'basique',\n 'intermediaire',\n 'intermédiaire',\n 'premium'}"
     },
     "execution_count": 101,
     "metadata": {},
     "output_type": "execute_result"
    }
   ],
   "source": [
    "quality_map ="
   ],
   "metadata": {
    "collapsed": false
   }
  },
  {
   "cell_type": "code",
   "execution_count": 95,
   "outputs": [
    {
     "name": "stdout",
     "output_type": "stream",
     "text": [
      "              precision    recall  f1-score   support\n",
      "\n",
      "           0       0.00      0.00      0.00         1\n",
      "           1       0.00      0.00      0.00        11\n",
      "           2       0.00      0.00      0.00         6\n",
      "           4       0.00      0.00      0.00         8\n",
      "           5       0.00      0.00      0.00         8\n",
      "           6       0.21      0.38      0.27        16\n",
      "           7       0.33      0.29      0.31         7\n",
      "           9       0.44      0.36      0.40        53\n",
      "          10       0.00      0.00      0.00         2\n",
      "          11       0.10      0.16      0.12        19\n",
      "          12       0.33      0.29      0.31         7\n",
      "          13       0.21      0.24      0.23        38\n",
      "          14       0.36      0.31      0.33        42\n",
      "          15       0.00      0.00      0.00         3\n",
      "          16       0.00      0.00      0.00         1\n",
      "          19       0.00      0.00      0.00         1\n",
      "          20       0.00      0.00      0.00         2\n",
      "          21       0.00      0.00      0.00         3\n",
      "          23       0.33      1.00      0.50         1\n",
      "          24       0.00      0.00      0.00         3\n",
      "          25       0.40      0.50      0.44         4\n",
      "          26       0.30      0.33      0.32         9\n",
      "          27       0.50      0.25      0.33         4\n",
      "          29       0.00      0.00      0.00         5\n",
      "          30       0.00      0.00      0.00         1\n",
      "          32       0.00      0.00      0.00         3\n",
      "          34       0.00      0.00      0.00         2\n",
      "          35       0.00      0.00      0.00         2\n",
      "          37       0.00      0.00      0.00         3\n",
      "          38       0.00      0.00      0.00         1\n",
      "          41       0.00      0.00      0.00         2\n",
      "          43       0.00      0.00      0.00         1\n",
      "          45       1.00      0.33      0.50         3\n",
      "          46       0.33      0.25      0.29         4\n",
      "          49       0.00      0.00      0.00         1\n",
      "          50       0.00      0.00      0.00         1\n",
      "          53       0.00      0.00      0.00         9\n",
      "          55       0.36      0.26      0.30        19\n",
      "          56       0.15      0.33      0.21         6\n",
      "          57       0.14      0.25      0.18         4\n",
      "          59       0.29      0.31      0.30        13\n",
      "          60       0.43      0.43      0.43        14\n",
      "          61       0.00      0.00      0.00         1\n",
      "          62       0.23      0.26      0.25        27\n",
      "          64       0.07      0.10      0.08        21\n",
      "          65       0.27      0.40      0.32        10\n",
      "          66       0.17      0.19      0.18        21\n",
      "          68       0.05      0.03      0.04        31\n",
      "          69       0.42      0.29      0.34        17\n",
      "          71       0.00      0.00      0.00         1\n",
      "          72       0.00      0.00      0.00         2\n",
      "          74       0.00      0.00      0.00         2\n",
      "          77       0.43      0.30      0.35        10\n",
      "          78       0.00      0.00      0.00         1\n",
      "          79       0.23      0.21      0.22        14\n",
      "          80       0.07      0.12      0.09         8\n",
      "          81       0.25      0.22      0.24         9\n",
      "          83       0.23      0.22      0.22        23\n",
      "          84       0.00      0.00      0.00         8\n",
      "\n",
      "   micro avg       0.22      0.21      0.22       549\n",
      "   macro avg       0.15      0.15      0.14       549\n",
      "weighted avg       0.23      0.21      0.22       549\n",
      "\n"
     ]
    },
    {
     "name": "stderr",
     "output_type": "stream",
     "text": [
      "C:\\Users\\Enzo\\anaconda3\\lib\\site-packages\\sklearn\\metrics\\_classification.py:1318: UndefinedMetricWarning: Precision and F-score are ill-defined and being set to 0.0 in labels with no predicted samples. Use `zero_division` parameter to control this behavior.\n",
      "  _warn_prf(average, modifier, msg_start, len(result))\n",
      "C:\\Users\\Enzo\\anaconda3\\lib\\site-packages\\sklearn\\metrics\\_classification.py:1318: UndefinedMetricWarning: Precision and F-score are ill-defined and being set to 0.0 in labels with no predicted samples. Use `zero_division` parameter to control this behavior.\n",
      "  _warn_prf(average, modifier, msg_start, len(result))\n",
      "C:\\Users\\Enzo\\anaconda3\\lib\\site-packages\\sklearn\\metrics\\_classification.py:1318: UndefinedMetricWarning: Precision and F-score are ill-defined and being set to 0.0 in labels with no predicted samples. Use `zero_division` parameter to control this behavior.\n",
      "  _warn_prf(average, modifier, msg_start, len(result))\n"
     ]
    }
   ],
   "source": [
    "labels = sorted(set(y_test))\n",
    "print(classification_report(y_test, predictions, labels=labels, target_names=[str(lbl) for lbl in labels]))"
   ],
   "metadata": {
    "collapsed": false
   }
  },
  {
   "cell_type": "code",
   "execution_count": 103,
   "outputs": [
    {
     "ename": "ValueError",
     "evalue": "Found array with 0 sample(s) (shape=(0, 1510)) while a minimum of 1 is required.",
     "output_type": "error",
     "traceback": [
      "\u001B[1;31m---------------------------------------------------------------------------\u001B[0m",
      "\u001B[1;31mValueError\u001B[0m                                Traceback (most recent call last)",
      "Input \u001B[1;32mIn [103]\u001B[0m, in \u001B[0;36m<cell line: 2>\u001B[1;34m()\u001B[0m\n\u001B[0;32m      1\u001B[0m new_equipments \u001B[38;5;241m=\u001B[39m []\n\u001B[1;32m----> 2\u001B[0m predicted_labels \u001B[38;5;241m=\u001B[39m \u001B[43mpipeline\u001B[49m\u001B[38;5;241;43m.\u001B[39;49m\u001B[43mpredict\u001B[49m\u001B[43m(\u001B[49m\u001B[43mnew_equipments\u001B[49m\u001B[43m)\u001B[49m\n\u001B[0;32m      3\u001B[0m predicted_labels_decoded \u001B[38;5;241m=\u001B[39m label_encoder\u001B[38;5;241m.\u001B[39minverse_transform(predicted_labels)\n\u001B[0;32m      4\u001B[0m \u001B[38;5;28mprint\u001B[39m(predicted_labels_decoded)\n",
      "File \u001B[1;32m~\\anaconda3\\lib\\site-packages\\sklearn\\utils\\metaestimators.py:113\u001B[0m, in \u001B[0;36m_AvailableIfDescriptor.__get__.<locals>.<lambda>\u001B[1;34m(*args, **kwargs)\u001B[0m\n\u001B[0;32m    110\u001B[0m         \u001B[38;5;28;01mraise\u001B[39;00m attr_err\n\u001B[0;32m    112\u001B[0m     \u001B[38;5;66;03m# lambda, but not partial, allows help() to work with update_wrapper\u001B[39;00m\n\u001B[1;32m--> 113\u001B[0m     out \u001B[38;5;241m=\u001B[39m \u001B[38;5;28;01mlambda\u001B[39;00m \u001B[38;5;241m*\u001B[39margs, \u001B[38;5;241m*\u001B[39m\u001B[38;5;241m*\u001B[39mkwargs: \u001B[38;5;28mself\u001B[39m\u001B[38;5;241m.\u001B[39mfn(obj, \u001B[38;5;241m*\u001B[39margs, \u001B[38;5;241m*\u001B[39m\u001B[38;5;241m*\u001B[39mkwargs)  \u001B[38;5;66;03m# noqa\u001B[39;00m\n\u001B[0;32m    114\u001B[0m \u001B[38;5;28;01melse\u001B[39;00m:\n\u001B[0;32m    116\u001B[0m     \u001B[38;5;28;01mdef\u001B[39;00m \u001B[38;5;21mfn\u001B[39m(\u001B[38;5;241m*\u001B[39margs, \u001B[38;5;241m*\u001B[39m\u001B[38;5;241m*\u001B[39mkwargs):\n",
      "File \u001B[1;32m~\\anaconda3\\lib\\site-packages\\sklearn\\pipeline.py:469\u001B[0m, in \u001B[0;36mPipeline.predict\u001B[1;34m(self, X, **predict_params)\u001B[0m\n\u001B[0;32m    467\u001B[0m Xt \u001B[38;5;241m=\u001B[39m X\n\u001B[0;32m    468\u001B[0m \u001B[38;5;28;01mfor\u001B[39;00m _, name, transform \u001B[38;5;129;01min\u001B[39;00m \u001B[38;5;28mself\u001B[39m\u001B[38;5;241m.\u001B[39m_iter(with_final\u001B[38;5;241m=\u001B[39m\u001B[38;5;28;01mFalse\u001B[39;00m):\n\u001B[1;32m--> 469\u001B[0m     Xt \u001B[38;5;241m=\u001B[39m \u001B[43mtransform\u001B[49m\u001B[38;5;241;43m.\u001B[39;49m\u001B[43mtransform\u001B[49m\u001B[43m(\u001B[49m\u001B[43mXt\u001B[49m\u001B[43m)\u001B[49m\n\u001B[0;32m    470\u001B[0m \u001B[38;5;28;01mreturn\u001B[39;00m \u001B[38;5;28mself\u001B[39m\u001B[38;5;241m.\u001B[39msteps[\u001B[38;5;241m-\u001B[39m\u001B[38;5;241m1\u001B[39m][\u001B[38;5;241m1\u001B[39m]\u001B[38;5;241m.\u001B[39mpredict(Xt, \u001B[38;5;241m*\u001B[39m\u001B[38;5;241m*\u001B[39mpredict_params)\n",
      "File \u001B[1;32m~\\anaconda3\\lib\\site-packages\\sklearn\\feature_extraction\\text.py:2102\u001B[0m, in \u001B[0;36mTfidfVectorizer.transform\u001B[1;34m(self, raw_documents)\u001B[0m\n\u001B[0;32m   2099\u001B[0m check_is_fitted(\u001B[38;5;28mself\u001B[39m, msg\u001B[38;5;241m=\u001B[39m\u001B[38;5;124m\"\u001B[39m\u001B[38;5;124mThe TF-IDF vectorizer is not fitted\u001B[39m\u001B[38;5;124m\"\u001B[39m)\n\u001B[0;32m   2101\u001B[0m X \u001B[38;5;241m=\u001B[39m \u001B[38;5;28msuper\u001B[39m()\u001B[38;5;241m.\u001B[39mtransform(raw_documents)\n\u001B[1;32m-> 2102\u001B[0m \u001B[38;5;28;01mreturn\u001B[39;00m \u001B[38;5;28;43mself\u001B[39;49m\u001B[38;5;241;43m.\u001B[39;49m\u001B[43m_tfidf\u001B[49m\u001B[38;5;241;43m.\u001B[39;49m\u001B[43mtransform\u001B[49m\u001B[43m(\u001B[49m\u001B[43mX\u001B[49m\u001B[43m,\u001B[49m\u001B[43m \u001B[49m\u001B[43mcopy\u001B[49m\u001B[38;5;241;43m=\u001B[39;49m\u001B[38;5;28;43;01mFalse\u001B[39;49;00m\u001B[43m)\u001B[49m\n",
      "File \u001B[1;32m~\\anaconda3\\lib\\site-packages\\sklearn\\feature_extraction\\text.py:1660\u001B[0m, in \u001B[0;36mTfidfTransformer.transform\u001B[1;34m(self, X, copy)\u001B[0m\n\u001B[0;32m   1643\u001B[0m \u001B[38;5;28;01mdef\u001B[39;00m \u001B[38;5;21mtransform\u001B[39m(\u001B[38;5;28mself\u001B[39m, X, copy\u001B[38;5;241m=\u001B[39m\u001B[38;5;28;01mTrue\u001B[39;00m):\n\u001B[0;32m   1644\u001B[0m     \u001B[38;5;124;03m\"\"\"Transform a count matrix to a tf or tf-idf representation.\u001B[39;00m\n\u001B[0;32m   1645\u001B[0m \n\u001B[0;32m   1646\u001B[0m \u001B[38;5;124;03m    Parameters\u001B[39;00m\n\u001B[1;32m   (...)\u001B[0m\n\u001B[0;32m   1658\u001B[0m \u001B[38;5;124;03m        Tf-idf-weighted document-term matrix.\u001B[39;00m\n\u001B[0;32m   1659\u001B[0m \u001B[38;5;124;03m    \"\"\"\u001B[39;00m\n\u001B[1;32m-> 1660\u001B[0m     X \u001B[38;5;241m=\u001B[39m \u001B[38;5;28;43mself\u001B[39;49m\u001B[38;5;241;43m.\u001B[39;49m\u001B[43m_validate_data\u001B[49m\u001B[43m(\u001B[49m\n\u001B[0;32m   1661\u001B[0m \u001B[43m        \u001B[49m\u001B[43mX\u001B[49m\u001B[43m,\u001B[49m\u001B[43m \u001B[49m\u001B[43maccept_sparse\u001B[49m\u001B[38;5;241;43m=\u001B[39;49m\u001B[38;5;124;43m\"\u001B[39;49m\u001B[38;5;124;43mcsr\u001B[39;49m\u001B[38;5;124;43m\"\u001B[39;49m\u001B[43m,\u001B[49m\u001B[43m \u001B[49m\u001B[43mdtype\u001B[49m\u001B[38;5;241;43m=\u001B[39;49m\u001B[43mFLOAT_DTYPES\u001B[49m\u001B[43m,\u001B[49m\u001B[43m \u001B[49m\u001B[43mcopy\u001B[49m\u001B[38;5;241;43m=\u001B[39;49m\u001B[43mcopy\u001B[49m\u001B[43m,\u001B[49m\u001B[43m \u001B[49m\u001B[43mreset\u001B[49m\u001B[38;5;241;43m=\u001B[39;49m\u001B[38;5;28;43;01mFalse\u001B[39;49;00m\n\u001B[0;32m   1662\u001B[0m \u001B[43m    \u001B[49m\u001B[43m)\u001B[49m\n\u001B[0;32m   1663\u001B[0m     \u001B[38;5;28;01mif\u001B[39;00m \u001B[38;5;129;01mnot\u001B[39;00m sp\u001B[38;5;241m.\u001B[39missparse(X):\n\u001B[0;32m   1664\u001B[0m         X \u001B[38;5;241m=\u001B[39m sp\u001B[38;5;241m.\u001B[39mcsr_matrix(X, dtype\u001B[38;5;241m=\u001B[39mnp\u001B[38;5;241m.\u001B[39mfloat64)\n",
      "File \u001B[1;32m~\\anaconda3\\lib\\site-packages\\sklearn\\base.py:566\u001B[0m, in \u001B[0;36mBaseEstimator._validate_data\u001B[1;34m(self, X, y, reset, validate_separately, **check_params)\u001B[0m\n\u001B[0;32m    564\u001B[0m     \u001B[38;5;28;01mraise\u001B[39;00m \u001B[38;5;167;01mValueError\u001B[39;00m(\u001B[38;5;124m\"\u001B[39m\u001B[38;5;124mValidation should be done on X, y or both.\u001B[39m\u001B[38;5;124m\"\u001B[39m)\n\u001B[0;32m    565\u001B[0m \u001B[38;5;28;01melif\u001B[39;00m \u001B[38;5;129;01mnot\u001B[39;00m no_val_X \u001B[38;5;129;01mand\u001B[39;00m no_val_y:\n\u001B[1;32m--> 566\u001B[0m     X \u001B[38;5;241m=\u001B[39m check_array(X, \u001B[38;5;241m*\u001B[39m\u001B[38;5;241m*\u001B[39mcheck_params)\n\u001B[0;32m    567\u001B[0m     out \u001B[38;5;241m=\u001B[39m X\n\u001B[0;32m    568\u001B[0m \u001B[38;5;28;01melif\u001B[39;00m no_val_X \u001B[38;5;129;01mand\u001B[39;00m \u001B[38;5;129;01mnot\u001B[39;00m no_val_y:\n",
      "File \u001B[1;32m~\\anaconda3\\lib\\site-packages\\sklearn\\utils\\validation.py:805\u001B[0m, in \u001B[0;36mcheck_array\u001B[1;34m(array, accept_sparse, accept_large_sparse, dtype, order, copy, force_all_finite, ensure_2d, allow_nd, ensure_min_samples, ensure_min_features, estimator)\u001B[0m\n\u001B[0;32m    803\u001B[0m     n_samples \u001B[38;5;241m=\u001B[39m _num_samples(array)\n\u001B[0;32m    804\u001B[0m     \u001B[38;5;28;01mif\u001B[39;00m n_samples \u001B[38;5;241m<\u001B[39m ensure_min_samples:\n\u001B[1;32m--> 805\u001B[0m         \u001B[38;5;28;01mraise\u001B[39;00m \u001B[38;5;167;01mValueError\u001B[39;00m(\n\u001B[0;32m    806\u001B[0m             \u001B[38;5;124m\"\u001B[39m\u001B[38;5;124mFound array with \u001B[39m\u001B[38;5;132;01m%d\u001B[39;00m\u001B[38;5;124m sample(s) (shape=\u001B[39m\u001B[38;5;132;01m%s\u001B[39;00m\u001B[38;5;124m) while a\u001B[39m\u001B[38;5;124m\"\u001B[39m\n\u001B[0;32m    807\u001B[0m             \u001B[38;5;124m\"\u001B[39m\u001B[38;5;124m minimum of \u001B[39m\u001B[38;5;132;01m%d\u001B[39;00m\u001B[38;5;124m is required\u001B[39m\u001B[38;5;132;01m%s\u001B[39;00m\u001B[38;5;124m.\u001B[39m\u001B[38;5;124m\"\u001B[39m\n\u001B[0;32m    808\u001B[0m             \u001B[38;5;241m%\u001B[39m (n_samples, array\u001B[38;5;241m.\u001B[39mshape, ensure_min_samples, context)\n\u001B[0;32m    809\u001B[0m         )\n\u001B[0;32m    811\u001B[0m \u001B[38;5;28;01mif\u001B[39;00m ensure_min_features \u001B[38;5;241m>\u001B[39m \u001B[38;5;241m0\u001B[39m \u001B[38;5;129;01mand\u001B[39;00m array\u001B[38;5;241m.\u001B[39mndim \u001B[38;5;241m==\u001B[39m \u001B[38;5;241m2\u001B[39m:\n\u001B[0;32m    812\u001B[0m     n_features \u001B[38;5;241m=\u001B[39m array\u001B[38;5;241m.\u001B[39mshape[\u001B[38;5;241m1\u001B[39m]\n",
      "\u001B[1;31mValueError\u001B[0m: Found array with 0 sample(s) (shape=(0, 1510)) while a minimum of 1 is required."
     ]
    }
   ],
   "source": [
    "new_equipments = []\n",
    "predicted_labels = pipeline.predict(new_equipments)\n",
    "predicted_labels_decoded = label_encoder.inverse_transform(predicted_labels)\n",
    "print(predicted_labels_decoded)"
   ],
   "metadata": {
    "collapsed": false
   }
  },
  {
   "cell_type": "code",
   "execution_count": 96,
   "outputs": [],
   "source": [
    "import pickle"
   ],
   "metadata": {
    "collapsed": false
   }
  },
  {
   "cell_type": "code",
   "execution_count": 98,
   "outputs": [],
   "source": [
    "with open('model_equipments.pkl', 'wb') as model_file:\n",
    "    pickle.dump((label_encoder, pipeline), model_file)"
   ],
   "metadata": {
    "collapsed": false
   }
  }
 ],
 "metadata": {
  "kernelspec": {
   "display_name": "Python 3",
   "language": "python",
   "name": "python3"
  },
  "language_info": {
   "codemirror_mode": {
    "name": "ipython",
    "version": 2
   },
   "file_extension": ".py",
   "mimetype": "text/x-python",
   "name": "python",
   "nbconvert_exporter": "python",
   "pygments_lexer": "ipython2",
   "version": "2.7.6"
  }
 },
 "nbformat": 4,
 "nbformat_minor": 0
}
