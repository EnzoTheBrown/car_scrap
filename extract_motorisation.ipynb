{
 "cells": [
  {
   "cell_type": "code",
   "execution_count": 163,
   "outputs": [],
   "source": [
    "import pandas as pd\n",
    "import os"
   ],
   "metadata": {
    "collapsed": false
   }
  },
  {
   "cell_type": "code",
   "execution_count": 164,
   "outputs": [],
   "source": [
    "df = pd.concat([pd.read_csv('motorisations/' + f, sep='\\t') for f in os.listdir('motorisations') if f != '1.csv'])"
   ],
   "metadata": {
    "collapsed": false
   }
  },
  {
   "cell_type": "code",
   "execution_count": 165,
   "outputs": [],
   "source": [
    "import re"
   ],
   "metadata": {
    "collapsed": false
   }
  },
  {
   "cell_type": "code",
   "execution_count": 172,
   "outputs": [],
   "source": [
    "regex_cylindree = re.compile(r'(\\d+\\.\\d+)\\s?L?\\s?')\n",
    "regex_gamme = re.compile(r'(:?\\d\\.\\d)?\\s?L\\s(.*)')"
   ],
   "metadata": {
    "collapsed": false
   }
  },
  {
   "cell_type": "code",
   "execution_count": 168,
   "outputs": [
    {
     "data": {
      "text/plain": "                                             Véhicule  \\\n0   Renault Trafic combi L2 2.0 dCi 120ch S&S Zen ...   \n1   Mini Countryman Cooper SE 136ch + 88ch Busines...   \n2   Nissan Qashqai 1.3 DIG-T 140ch N-Connecta 2019...   \n3   Renault Austral 1.2 E-Tech full hybrid 200ch I...   \n4                            1.0 VVT-i X-Play X-Shift   \n..                                                ...   \n43                                     0.9 TCe Intens   \n44          BMW Serie 3 Touring 320dA MH 190ch Luxury   \n45  Peugeot 308 1.2 PureTech 130ch E6.c S&S Tech E...   \n46  Citroen Grand C4 SpaceTourer BlueHDi 130ch S&S...   \n47                               1.5 BlueHDi 100 BVM6   \n\n                   Cylindrée Puissance         Transmission  \\\n0                  2.0 L dCi       120                    -   \n1             Plug-in Hybrid       224        Automatic BVA   \n2                1.3 L DIG-T       140                    -   \n3   1.2 L E-Tech Full Hybrid       200                    -   \n4                1.0 L VVT-i         -              X-Shift   \n..                       ...       ...                  ...   \n43                 0.9 L TCe         -                    -   \n44  2.0 L Diesel Mild Hybrid       190            Automatic   \n45            1.2 L PureTech       130            Auto EAT8   \n46             1.5 L BlueHDi       130                    -   \n47             1.5 L BlueHDi       100  Manuelle 6 vitesses   \n\n            Additional Features Rapports Caractéristiques supplémentaires  \n0    Zen, 9 seats, Stop & Start      NaN                              NaN  \n1                Business, ALL4      NaN                              NaN  \n2        N-Connecta, Euro6-EVAP      NaN                              NaN  \n3         Iconic, esprit Alpine      NaN                              NaN  \n4                        X-Play      NaN                              NaN  \n..                          ...      ...                              ...  \n43                       Intens      NaN                              NaN  \n44                       Luxury      NaN                              NaN  \n45  Tech Edition, S&S, Euro 6.c      NaN                              NaN  \n46      Business, S&S, Euro 6.d      NaN                              NaN  \n47                            -      NaN                              NaN  \n\n[522 rows x 7 columns]",
      "text/html": "<div>\n<style scoped>\n    .dataframe tbody tr th:only-of-type {\n        vertical-align: middle;\n    }\n\n    .dataframe tbody tr th {\n        vertical-align: top;\n    }\n\n    .dataframe thead th {\n        text-align: right;\n    }\n</style>\n<table border=\"1\" class=\"dataframe\">\n  <thead>\n    <tr style=\"text-align: right;\">\n      <th></th>\n      <th>Véhicule</th>\n      <th>Cylindrée</th>\n      <th>Puissance</th>\n      <th>Transmission</th>\n      <th>Additional Features</th>\n      <th>Rapports</th>\n      <th>Caractéristiques supplémentaires</th>\n    </tr>\n  </thead>\n  <tbody>\n    <tr>\n      <th>0</th>\n      <td>Renault Trafic combi L2 2.0 dCi 120ch S&amp;S Zen ...</td>\n      <td>2.0 L dCi</td>\n      <td>120</td>\n      <td>-</td>\n      <td>Zen, 9 seats, Stop &amp; Start</td>\n      <td>NaN</td>\n      <td>NaN</td>\n    </tr>\n    <tr>\n      <th>1</th>\n      <td>Mini Countryman Cooper SE 136ch + 88ch Busines...</td>\n      <td>Plug-in Hybrid</td>\n      <td>224</td>\n      <td>Automatic BVA</td>\n      <td>Business, ALL4</td>\n      <td>NaN</td>\n      <td>NaN</td>\n    </tr>\n    <tr>\n      <th>2</th>\n      <td>Nissan Qashqai 1.3 DIG-T 140ch N-Connecta 2019...</td>\n      <td>1.3 L DIG-T</td>\n      <td>140</td>\n      <td>-</td>\n      <td>N-Connecta, Euro6-EVAP</td>\n      <td>NaN</td>\n      <td>NaN</td>\n    </tr>\n    <tr>\n      <th>3</th>\n      <td>Renault Austral 1.2 E-Tech full hybrid 200ch I...</td>\n      <td>1.2 L E-Tech Full Hybrid</td>\n      <td>200</td>\n      <td>-</td>\n      <td>Iconic, esprit Alpine</td>\n      <td>NaN</td>\n      <td>NaN</td>\n    </tr>\n    <tr>\n      <th>4</th>\n      <td>1.0 VVT-i X-Play X-Shift</td>\n      <td>1.0 L VVT-i</td>\n      <td>-</td>\n      <td>X-Shift</td>\n      <td>X-Play</td>\n      <td>NaN</td>\n      <td>NaN</td>\n    </tr>\n    <tr>\n      <th>...</th>\n      <td>...</td>\n      <td>...</td>\n      <td>...</td>\n      <td>...</td>\n      <td>...</td>\n      <td>...</td>\n      <td>...</td>\n    </tr>\n    <tr>\n      <th>43</th>\n      <td>0.9 TCe Intens</td>\n      <td>0.9 L TCe</td>\n      <td>-</td>\n      <td>-</td>\n      <td>Intens</td>\n      <td>NaN</td>\n      <td>NaN</td>\n    </tr>\n    <tr>\n      <th>44</th>\n      <td>BMW Serie 3 Touring 320dA MH 190ch Luxury</td>\n      <td>2.0 L Diesel Mild Hybrid</td>\n      <td>190</td>\n      <td>Automatic</td>\n      <td>Luxury</td>\n      <td>NaN</td>\n      <td>NaN</td>\n    </tr>\n    <tr>\n      <th>45</th>\n      <td>Peugeot 308 1.2 PureTech 130ch E6.c S&amp;S Tech E...</td>\n      <td>1.2 L PureTech</td>\n      <td>130</td>\n      <td>Auto EAT8</td>\n      <td>Tech Edition, S&amp;S, Euro 6.c</td>\n      <td>NaN</td>\n      <td>NaN</td>\n    </tr>\n    <tr>\n      <th>46</th>\n      <td>Citroen Grand C4 SpaceTourer BlueHDi 130ch S&amp;S...</td>\n      <td>1.5 L BlueHDi</td>\n      <td>130</td>\n      <td>-</td>\n      <td>Business, S&amp;S, Euro 6.d</td>\n      <td>NaN</td>\n      <td>NaN</td>\n    </tr>\n    <tr>\n      <th>47</th>\n      <td>1.5 BlueHDi 100 BVM6</td>\n      <td>1.5 L BlueHDi</td>\n      <td>100</td>\n      <td>Manuelle 6 vitesses</td>\n      <td>-</td>\n      <td>NaN</td>\n      <td>NaN</td>\n    </tr>\n  </tbody>\n</table>\n<p>522 rows × 7 columns</p>\n</div>"
     },
     "execution_count": 168,
     "metadata": {},
     "output_type": "execute_result"
    }
   ],
   "source": [
    "df"
   ],
   "metadata": {
    "collapsed": false
   }
  },
  {
   "cell_type": "code",
   "execution_count": 174,
   "outputs": [],
   "source": [
    "def extract_regex(row, regex, func=lambda x: x, group=1):\n",
    "    try:\n",
    "        match = regex.search(row)\n",
    "        if match:\n",
    "            return func(match.group(group))\n",
    "    except Exception as e:\n",
    "        print(e)"
   ],
   "metadata": {
    "collapsed": false
   }
  },
  {
   "cell_type": "code",
   "execution_count": 170,
   "outputs": [
    {
     "data": {
      "text/plain": "'dCi'"
     },
     "execution_count": 170,
     "metadata": {},
     "output_type": "execute_result"
    }
   ],
   "source": [
    "regex_cylindree.sub('', '2.0 L dCi')"
   ],
   "metadata": {
    "collapsed": false
   }
  },
  {
   "cell_type": "code",
   "execution_count": 176,
   "outputs": [
    {
     "name": "stdout",
     "output_type": "stream",
     "text": [
      "expected string or bytes-like object\n"
     ]
    }
   ],
   "source": [
    "df['gamme'] = df['Cylindrée'].apply(lambda row: extract_regex(row, regex_gamme, group=2))"
   ],
   "metadata": {
    "collapsed": false
   }
  },
  {
   "cell_type": "code",
   "execution_count": 177,
   "outputs": [
    {
     "name": "stdout",
     "output_type": "stream",
     "text": [
      "expected string or bytes-like object\n"
     ]
    }
   ],
   "source": [
    "df['Cylindrée'] = df['Cylindrée'].apply(lambda row: extract_regex(row, regex_cylindree))"
   ],
   "metadata": {
    "collapsed": false
   }
  },
  {
   "cell_type": "code",
   "execution_count": 192,
   "outputs": [
    {
     "name": "stderr",
     "output_type": "stream",
     "text": [
      "C:\\Users\\Enzo\\AppData\\Local\\Temp\\ipykernel_34708\\3538855809.py:1: SettingWithCopyWarning: \n",
      "A value is trying to be set on a copy of a slice from a DataFrame.\n",
      "Try using .loc[row_indexer,col_indexer] = value instead\n",
      "\n",
      "See the caveats in the documentation: https://pandas.pydata.org/pandas-docs/stable/user_guide/indexing.html#returning-a-view-versus-a-copy\n",
      "  df['Puissance'] = df['Puissance'].apply(lambda row: ''.join(c for c in str(row) if c.isdigit()))\n",
      "C:\\Users\\Enzo\\AppData\\Local\\Temp\\ipykernel_34708\\3538855809.py:2: SettingWithCopyWarning: \n",
      "A value is trying to be set on a copy of a slice from a DataFrame.\n",
      "Try using .loc[row_indexer,col_indexer] = value instead\n",
      "\n",
      "See the caveats in the documentation: https://pandas.pydata.org/pandas-docs/stable/user_guide/indexing.html#returning-a-view-versus-a-copy\n",
      "  df['Puissance'] = df['Puissance'].apply(lambda row: int(row) if row else row)\n"
     ]
    }
   ],
   "source": [
    "df['Puissance'] = df['Puissance'].apply(lambda row: ''.join(c for c in str(row) if c.isdigit()))\n",
    "df['Puissance'] = df['Puissance'].apply(lambda row: int(row) if row else row)"
   ],
   "metadata": {
    "collapsed": false
   }
  },
  {
   "cell_type": "code",
   "execution_count": 196,
   "outputs": [
    {
     "name": "stderr",
     "output_type": "stream",
     "text": [
      "C:\\Users\\Enzo\\AppData\\Local\\Temp\\ipykernel_34708\\2368242665.py:1: SettingWithCopyWarning: \n",
      "A value is trying to be set on a copy of a slice from a DataFrame.\n",
      "Try using .loc[row_indexer,col_indexer] = value instead\n",
      "\n",
      "See the caveats in the documentation: https://pandas.pydata.org/pandas-docs/stable/user_guide/indexing.html#returning-a-view-versus-a-copy\n",
      "  df['Cylindrée'] = df['Cylindrée'].apply(lambda row: float(row) if row else row)\n"
     ]
    }
   ],
   "source": [
    "df['Cylindrée'] = df['Cylindrée'].apply(lambda row: float(row) if row else row)"
   ],
   "metadata": {
    "collapsed": false
   }
  },
  {
   "cell_type": "code",
   "execution_count": 178,
   "outputs": [],
   "source": [
    "df[['Véhicule', 'Puissance', 'gamme', 'Cylindrée']].to_csv('motorisation_classes.csv')"
   ],
   "metadata": {
    "collapsed": false
   }
  },
  {
   "cell_type": "code",
   "execution_count": 179,
   "outputs": [],
   "source": [
    "df = df[['Véhicule', 'Puissance', 'gamme', 'Cylindrée']]"
   ],
   "metadata": {
    "collapsed": false
   }
  },
  {
   "cell_type": "code",
   "execution_count": 183,
   "outputs": [
    {
     "data": {
      "text/plain": "1.2    126\n1.5     77\n1.0     49\n1.6     31\n1.3     30\n2.0     22\n1.4     12\n0.9     10\n1.7      5\n3.0      3\n2.5      2\n2.2      1\n5.0      1\nName: Cylindrée, dtype: int64"
     },
     "execution_count": 183,
     "metadata": {},
     "output_type": "execute_result"
    }
   ],
   "source": [
    "df['Cylindrée'].value_counts()"
   ],
   "metadata": {
    "collapsed": false
   }
  },
  {
   "cell_type": "code",
   "execution_count": 101,
   "outputs": [
    {
     "name": "stdout",
     "output_type": "stream",
     "text": [
      "expected string or bytes-like object\n"
     ]
    },
    {
     "data": {
      "text/plain": "0     None\n1     None\n2     None\n3     None\n4     None\n      ... \n43    None\n44    None\n45    None\n46    None\n47    None\nName: Cylindrée, Length: 522, dtype: object"
     },
     "execution_count": 101,
     "metadata": {},
     "output_type": "execute_result"
    }
   ],
   "source": [
    "df['Cylindrée'].apply(lambda row: extract_regex(row, regex_cylindree, float))"
   ],
   "metadata": {
    "collapsed": false
   }
  },
  {
   "cell_type": "code",
   "execution_count": 211,
   "outputs": [
    {
     "name": "stderr",
     "output_type": "stream",
     "text": [
      "C:\\Users\\Enzo\\AppData\\Local\\Temp\\ipykernel_34708\\3114712807.py:1: SettingWithCopyWarning: \n",
      "A value is trying to be set on a copy of a slice from a DataFrame.\n",
      "Try using .loc[row_indexer,col_indexer] = value instead\n",
      "\n",
      "See the caveats in the documentation: https://pandas.pydata.org/pandas-docs/stable/user_guide/indexing.html#returning-a-view-versus-a-copy\n",
      "  df['gamme'] = df['gamme'].fillna('')\n"
     ]
    }
   ],
   "source": [
    "df['gamme'] = df['gamme'].fillna('')"
   ],
   "metadata": {
    "collapsed": false
   }
  },
  {
   "cell_type": "code",
   "execution_count": 207,
   "outputs": [],
   "source": [
    "def get_span(regex):\n",
    "    if regex:\n",
    "        return regex.span()\n",
    "    else:\n",
    "        return -1, -1"
   ],
   "metadata": {
    "collapsed": false
   }
  },
  {
   "cell_type": "code",
   "execution_count": 209,
   "outputs": [
    {
     "data": {
      "text/plain": "(32, 35)"
     },
     "execution_count": 209,
     "metadata": {},
     "output_type": "execute_result"
    }
   ],
   "source": [
    "get_span(re.search('120', 'Renault Trafic combi L2 2.0 dCi 120ch S&S Zen 9 places', re.IGNORECASE))"
   ],
   "metadata": {
    "collapsed": false
   }
  },
  {
   "cell_type": "code",
   "execution_count": 93,
   "outputs": [
    {
     "data": {
      "text/plain": "0     None\n1     None\n2     None\n3     None\n4     None\n      ... \n43    None\n44    None\n45    None\n46    None\n47    None\nName: Cylindrée, Length: 522, dtype: object"
     },
     "execution_count": 93,
     "metadata": {},
     "output_type": "execute_result"
    }
   ],
   "source": [
    "df['Cylindrée'].apply(lambda row: extract_regex(row, regex_gamme))"
   ],
   "metadata": {
    "collapsed": false
   }
  },
  {
   "cell_type": "code",
   "execution_count": 214,
   "outputs": [
    {
     "data": {
      "text/plain": "                                             Véhicule Puissance  \\\n0   Renault Trafic combi L2 2.0 dCi 120ch S&S Zen ...       120   \n1   Mini Countryman Cooper SE 136ch + 88ch Busines...       224   \n2   Nissan Qashqai 1.3 DIG-T 140ch N-Connecta 2019...       140   \n3   Renault Austral 1.2 E-Tech full hybrid 200ch I...       200   \n4                            1.0 VVT-i X-Play X-Shift             \n..                                                ...       ...   \n43                                     0.9 TCe Intens             \n44          BMW Serie 3 Touring 320dA MH 190ch Luxury       190   \n45  Peugeot 308 1.2 PureTech 130ch E6.c S&S Tech E...       130   \n46  Citroen Grand C4 SpaceTourer BlueHDi 130ch S&S...       130   \n47                               1.5 BlueHDi 100 BVM6       100   \n\n                 gamme  Cylindrée  \n0                  dCi        2.0  \n1                             NaN  \n2                DIG-T        1.3  \n3   E-Tech Full Hybrid        1.2  \n4                VVT-i        1.0  \n..                 ...        ...  \n43                 TCe        0.9  \n44  Diesel Mild Hybrid        2.0  \n45            PureTech        1.2  \n46             BlueHDi        1.5  \n47             BlueHDi        1.5  \n\n[522 rows x 4 columns]",
      "text/html": "<div>\n<style scoped>\n    .dataframe tbody tr th:only-of-type {\n        vertical-align: middle;\n    }\n\n    .dataframe tbody tr th {\n        vertical-align: top;\n    }\n\n    .dataframe thead th {\n        text-align: right;\n    }\n</style>\n<table border=\"1\" class=\"dataframe\">\n  <thead>\n    <tr style=\"text-align: right;\">\n      <th></th>\n      <th>Véhicule</th>\n      <th>Puissance</th>\n      <th>gamme</th>\n      <th>Cylindrée</th>\n    </tr>\n  </thead>\n  <tbody>\n    <tr>\n      <th>0</th>\n      <td>Renault Trafic combi L2 2.0 dCi 120ch S&amp;S Zen ...</td>\n      <td>120</td>\n      <td>dCi</td>\n      <td>2.0</td>\n    </tr>\n    <tr>\n      <th>1</th>\n      <td>Mini Countryman Cooper SE 136ch + 88ch Busines...</td>\n      <td>224</td>\n      <td></td>\n      <td>NaN</td>\n    </tr>\n    <tr>\n      <th>2</th>\n      <td>Nissan Qashqai 1.3 DIG-T 140ch N-Connecta 2019...</td>\n      <td>140</td>\n      <td>DIG-T</td>\n      <td>1.3</td>\n    </tr>\n    <tr>\n      <th>3</th>\n      <td>Renault Austral 1.2 E-Tech full hybrid 200ch I...</td>\n      <td>200</td>\n      <td>E-Tech Full Hybrid</td>\n      <td>1.2</td>\n    </tr>\n    <tr>\n      <th>4</th>\n      <td>1.0 VVT-i X-Play X-Shift</td>\n      <td></td>\n      <td>VVT-i</td>\n      <td>1.0</td>\n    </tr>\n    <tr>\n      <th>...</th>\n      <td>...</td>\n      <td>...</td>\n      <td>...</td>\n      <td>...</td>\n    </tr>\n    <tr>\n      <th>43</th>\n      <td>0.9 TCe Intens</td>\n      <td></td>\n      <td>TCe</td>\n      <td>0.9</td>\n    </tr>\n    <tr>\n      <th>44</th>\n      <td>BMW Serie 3 Touring 320dA MH 190ch Luxury</td>\n      <td>190</td>\n      <td>Diesel Mild Hybrid</td>\n      <td>2.0</td>\n    </tr>\n    <tr>\n      <th>45</th>\n      <td>Peugeot 308 1.2 PureTech 130ch E6.c S&amp;S Tech E...</td>\n      <td>130</td>\n      <td>PureTech</td>\n      <td>1.2</td>\n    </tr>\n    <tr>\n      <th>46</th>\n      <td>Citroen Grand C4 SpaceTourer BlueHDi 130ch S&amp;S...</td>\n      <td>130</td>\n      <td>BlueHDi</td>\n      <td>1.5</td>\n    </tr>\n    <tr>\n      <th>47</th>\n      <td>1.5 BlueHDi 100 BVM6</td>\n      <td>100</td>\n      <td>BlueHDi</td>\n      <td>1.5</td>\n    </tr>\n  </tbody>\n</table>\n<p>522 rows × 4 columns</p>\n</div>"
     },
     "execution_count": 214,
     "metadata": {},
     "output_type": "execute_result"
    }
   ],
   "source": [
    "df"
   ],
   "metadata": {
    "collapsed": false
   }
  },
  {
   "cell_type": "code",
   "execution_count": 215,
   "outputs": [
    {
     "data": {
      "text/plain": "{'',\n '8v',\n 'Blue dCi',\n 'Blue-HDi',\n 'BlueHDi',\n 'BoosterJet',\n 'D3',\n 'D4',\n 'DIG-T',\n 'DIG-T MHEV',\n 'Diesel',\n 'Diesel Mild Hybrid',\n 'Dualjet Hybrid',\n 'Duratec Hybrid',\n 'Duratec PHEV',\n 'E-Tech',\n 'E-Tech Full Hybrid',\n 'E-Tech Hybrid',\n 'E-Tech Plug-in Hybrid',\n 'ECO-G',\n 'EcoBoost',\n 'EcoTSI',\n 'FireFly Turbo T3',\n 'HDi',\n 'Hybrid',\n 'IG-T',\n 'JTDM',\n 'M Performance TwinPower Turbo diesel',\n 'Mild Hybrid',\n 'MultiJet',\n 'PureTech',\n 'SCe',\n 'SDV6 Hybrid',\n 'Supercharged V8',\n 'T-GDI',\n 'T-GDi',\n 'TCe',\n 'TCe Energy',\n 'TCe Mild Hybrid',\n 'TDCi',\n 'TDI',\n 'TDI BlueMotion',\n 'TDI EVO',\n 'TDI SCR',\n 'TGI',\n 'TSI',\n 'TSI ACT',\n 'TSI EVO',\n 'TSI Hybrid',\n 'TSI PHEV',\n 'Turbo',\n 'Turbo 16V T-Jet',\n 'Turbo Hybrid',\n 'Turbo T-Jet',\n 'Twinport',\n 'V6',\n 'VTi',\n 'VVT',\n 'VVT-i',\n 'dCI',\n 'dCi',\n 'dCi Blue',\n 'dCi Eco2',\n 'dCi Energy'}"
     },
     "execution_count": 215,
     "metadata": {},
     "output_type": "execute_result"
    }
   ],
   "source": [
    "set(df['gamme'])"
   ],
   "metadata": {
    "collapsed": false
   }
  },
  {
   "cell_type": "code",
   "execution_count": 232,
   "outputs": [],
   "source": [
    "ENTITIES = {\n",
    "    'hybrid': ['hybrid', 'full hybrid'],\n",
    "    'turbo': ['turbo'],\n",
    "    'gamme': ['TDI', 'TGI', 'TCE', 'dci', 'Blue-HDi', 'BlueHdi', 'EcoTSI', 'DIG', 'VVT-i'],\n",
    "    'motor': ['PureTech', 'Firefly', 'Blue'],\n",
    "    'puissance': ['(\\d\\d\\d?)\\s?(ch)?'],\n",
    "    'cylindree': ['(\\d\\.\\d)\\s?L?']\n",
    "}"
   ],
   "metadata": {
    "collapsed": false
   }
  },
  {
   "cell_type": "code",
   "execution_count": 222,
   "outputs": [
    {
     "data": {
      "text/plain": "0     120.0\n1     136.0\n2     140.0\n3     200.0\n4       NaN\n      ...  \n43      NaN\n44    320.0\n45    308.0\n46    130.0\n47    100.0\nName: Véhicule, Length: 522, dtype: float64"
     },
     "execution_count": 222,
     "metadata": {},
     "output_type": "execute_result"
    }
   ],
   "source": [
    "df['Véhicule'].apply(lambda row: re.search(ENTITIES['puissance'][0], row)).apply(lambda row: int(row.group(1)) if row else row)"
   ],
   "metadata": {
    "collapsed": false
   }
  },
  {
   "cell_type": "code",
   "execution_count": 228,
   "outputs": [
    {
     "data": {
      "text/plain": "0     None\n1     None\n2     None\n3     None\n4     None\n      ... \n43    None\n44    None\n45    None\n46    None\n47    None\nName: Véhicule, Length: 522, dtype: object"
     },
     "execution_count": 228,
     "metadata": {},
     "output_type": "execute_result"
    }
   ],
   "source": [
    "df['Véhicule'].apply(lambda row: re.search('|'.join(ENTITIES['gamme']), row), re.IGNORECASE).apply(lambda row: row.group(0) if row else row)"
   ],
   "metadata": {
    "collapsed": false
   }
  },
  {
   "cell_type": "code",
   "execution_count": 233,
   "outputs": [
    {
     "data": {
      "text/plain": "0     2.0\n1     NaN\n2     1.3\n3     1.2\n4     1.0\n     ... \n43    0.9\n44    NaN\n45    1.2\n46    NaN\n47    1.5\nName: Véhicule, Length: 522, dtype: float64"
     },
     "execution_count": 233,
     "metadata": {},
     "output_type": "execute_result"
    }
   ],
   "source": [
    "df['Véhicule'].apply(lambda row: re.search(ENTITIES['cylindree'][0], row)).apply(lambda row: float(row.group(1)) if row else row)"
   ],
   "metadata": {
    "collapsed": false
   }
  },
  {
   "cell_type": "code",
   "execution_count": null,
   "outputs": [],
   "source": [
    "motorisations = list(df.sample(frac=1).iloc[:100]['motor'])\n",
    "\n",
    "pattern_marque_modele = re.compile(r'\\((.*?)\\)')\n",
    "pattern_type_moteur = re.compile(r'(\\d\\.\\d+|\\d+)(\\s?[A-Za-z-]+)?(?=\\s+((\\d+ch)|(\\d{2,3}g)))')\n",
    "pattern_cylindree = re.compile(r'(\\d\\.\\d+)')\n",
    "pattern_puissance = re.compile(r'(\\d+)(\\s?ch)')\n",
    "pattern_transmission = re.compile(r'(BVM|EAT|DSG|BVA|tiptronic|EDC|S tronic|PHEV|AWD|DCT|4Matic)(\\s|-)?(\\d+)')\n",
    "pattern_options_supplementaires = re.compile(r'(GPL|PHEV|Hybrid|MHEV|E-Tech|e-Hybrid|OPF|E6.c|Euro6d-T|Euro6-EVAP|ACT|GSE|TFSI|T-GDi|E-TENSE|BlueHDi|DIG-T|HDi|TCe|PureTech|EcoBoost|EcoBlue|MultiJet|SDI|MPI|SCe)')\n",
    "\n",
    "for moteur in motorisations:\n",
    "    marque_modele = pattern_marque_modele.search(moteur)\n",
    "    type_moteur = pattern_type_moteur.search(moteur)\n",
    "    puissance = pattern_puissance.search(moteur)\n",
    "    transmission = pattern_transmission.search(moteur)\n",
    "    options_supplementaires = pattern_options_supplementaires.search(moteur)\n",
    "    cylindree = pattern_cylindree.search(moteur)\n",
    "\n",
    "    print({\n",
    "        'marque_modele': marque_modele.group(1) if marque_modele else None,\n",
    "        'pattern_cylindree': float(cylindree.group(0)) if cylindree else None,\n",
    "        'type_moteur': type_moteur.group(0) if type_moteur else None,\n",
    "        'puissance': puissance.group(0) if puissance else None,\n",
    "        'transmission': transmission.group(0) if transmission else None,\n",
    "        'options_supplementaires': options_supplementaires.group(0) if options_supplementaires else None\n",
    "    })"
   ],
   "metadata": {
    "collapsed": false
   }
  },
  {
   "cell_type": "code",
   "execution_count": null,
   "outputs": [],
   "source": [],
   "metadata": {
    "collapsed": false
   }
  },
  {
   "cell_type": "code",
   "execution_count": null,
   "outputs": [],
   "source": [],
   "metadata": {
    "collapsed": false
   }
  },
  {
   "cell_type": "code",
   "execution_count": null,
   "outputs": [],
   "source": [],
   "metadata": {
    "collapsed": false
   }
  },
  {
   "cell_type": "code",
   "execution_count": null,
   "outputs": [],
   "source": [
    "MOTORISATION = {\n",
    "    'BlueHDI': ['bluehdi'],\n",
    "    'PureTech': ['puretech'],\n",
    "    'VTi': ['VTi'],\n",
    "    'DIG-T': ['DIG-T'],\n",
    "    'TCe': ['TCe'],\n",
    "    'EcoBoost': ['EcoBoost'],\n",
    "    'Flexifuel': ['Flexifuel'],\n",
    "    'TSI': ['TSI'],\n",
    "    '300e': ['300e'],\n",
    "}"
   ],
   "metadata": {
    "collapsed": false
   }
  },
  {
   "cell_type": "code",
   "execution_count": null,
   "outputs": [],
   "source": [
    "TRANSMISSION = {\n",
    "    'EAT8': ['EAT8'],\n",
    "    'E-CVT': ['E-CVT', 'ectv'],\n",
    "}"
   ],
   "metadata": {
    "collapsed": false
   }
  }
 ],
 "metadata": {
  "kernelspec": {
   "display_name": "Python 3",
   "language": "python",
   "name": "python3"
  },
  "language_info": {
   "codemirror_mode": {
    "name": "ipython",
    "version": 2
   },
   "file_extension": ".py",
   "mimetype": "text/x-python",
   "name": "python",
   "nbconvert_exporter": "python",
   "pygments_lexer": "ipython2",
   "version": "2.7.6"
  }
 },
 "nbformat": 4,
 "nbformat_minor": 0
}
