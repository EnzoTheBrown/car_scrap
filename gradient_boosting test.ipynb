{
 "cells": [
  {
   "cell_type": "markdown",
   "source": [
    "# Best perf so far:\n",
    "\n",
    "76% without equipments\n",
    "\n",
    "80% with"
   ],
   "metadata": {
    "collapsed": false
   }
  },
  {
   "cell_type": "code",
   "execution_count": 1,
   "outputs": [],
   "source": [
    "import pandas as pd\n",
    "import xgboost as xgb\n",
    "from sklearn.model_selection import train_test_split\n",
    "from sklearn.preprocessing import LabelEncoder\n",
    "\n",
    "from sklearn.model_selection import GridSearchCV"
   ],
   "metadata": {
    "collapsed": false
   }
  },
  {
   "cell_type": "markdown",
   "source": [
    "# Aramis"
   ],
   "metadata": {
    "collapsed": false
   }
  },
  {
   "cell_type": "code",
   "execution_count": 2,
   "outputs": [],
   "source": [
    "def safe_eval(row):\n",
    "    try:\n",
    "        return eval(row)\n",
    "    except:\n",
    "        return row\n",
    "\n",
    "\n",
    "def handle_defaut(row):\n",
    "    row = safe_eval(str(row))\n",
    "    if isinstance(row, dict):\n",
    "        row = row['impact'] + row['griffure'] + row['rayure'] + row['marque']\n",
    "    return row"
   ],
   "metadata": {
    "collapsed": false
   }
  },
  {
   "cell_type": "code",
   "execution_count": 3,
   "outputs": [],
   "source": [
    "df_aramis = pd.concat([pd.read_csv('aramis.csv'), pd.read_csv('aramis2.csv'), pd.read_csv('aramis3.csv')])\n",
    "df_aramis['seller'] = ['aramis']*len(df_aramis)\n",
    "\n",
    "df_aramis['defauts'] = df_aramis['defauts'].apply(handle_defaut)\n",
    "df_lacentrale = pd.read_csv('lacentrale2.csv')"
   ],
   "metadata": {
    "collapsed": false
   }
  },
  {
   "cell_type": "code",
   "execution_count": 4,
   "outputs": [
    {
     "data": {
      "text/plain": "    Unnamed: 0                  name  price  leasing  \\\n0            0        Peugeot 308 SW  12499      NaN   \n1            1            Citroën C4  10699      NaN   \n2            2       Volkswagen Polo  10499      NaN   \n3            3          Toyota Yaris  10999      NaN   \n4            4     Citroën C4 Cactus  12699      NaN   \n..         ...                   ...    ...      ...   \n50          50  Volkswagen Passat SW  25399      NaN   \n51          51               Audi Q3  25999      NaN   \n52          52           Toyota C-HR  28999      NaN   \n53          53     Mercedes Classe A  34499      NaN   \n54          54         Tesla MODEL 3  33999      NaN   \n\n                                           equipments  date  \\\n0   ['Start & Stop', 'Direction Assistée électriqu...  2016   \n1   ['Aide au stationnement arrière', 'Climatisati...  2015   \n2   ['Climatisation manuelle', \"Appuie-tête à sécu...  2014   \n3   ['Climatisation manuelle', 'Vitres AV électriq...  2016   \n4   ['Climatisation automatique', 'Régulateur et L...  2016   \n..                                                ...   ...   \n50  ['Climatisation automatique \"Pure Air Climatro...  2021   \n51  ['Climatiseur automatique confort', \"Système d...  2017   \n52  ['Système d’aide au stationnement automatique ...  2022   \n53  [\"Pack Premium : Eclairage d'ambiance 64 coule...  2022   \n54  ['Régulateur de vitesse', '4 ports USB and emp...  2021   \n\n                                motor     fuel                  transmission  \\\n0               1.2 PureTech 130 BVM6  Essence     Boîte manuelle 6 rapports   \n1                1.6 BlueHDi 100 BVM5   Diesel     Boîte manuelle 5 rapports   \n2                         1.2 60 BVM5  Essence     Boîte manuelle 5 rapports   \n3                   1.0 VVT-i 70 BVM5  Essence     Boîte manuelle 5 rapports   \n4                1.2 PureTech 82 BVM5  Essence     Boîte manuelle 5 rapports   \n..                                ...      ...                           ...   \n50  1.4 TSI Hybride Rechargeable DSG6      NaN             Boîte automatique   \n51                     1.4 TFSI sport  Essence             Boîte automatique   \n52                               184h      NaN   Boîte automatique 1 rapport   \n53                        200d 8G-DCT   Diesel  Boîte automatique 8 rapports   \n54                       55,4kw - RWD      NaN   Boîte automatique 1 rapport   \n\n                  type  kilometers  doors  seats  images  defauts  seller  \n0   Voiture d'occasion      106977      5    NaN     NaN       13  aramis  \n1   Voiture d'occasion      135390      5    NaN     NaN       22  aramis  \n2   Voiture d'occasion       80770      3    NaN     NaN       12  aramis  \n3   Voiture d'occasion       98195      5    NaN     NaN       14  aramis  \n4   Voiture d'occasion       42981      5    NaN     NaN       14  aramis  \n..                 ...         ...    ...    ...     ...      ...     ...  \n50  Voiture d'occasion       30092      5    NaN     NaN        0  aramis  \n51  Voiture d'occasion       84564      4    NaN     NaN       17  aramis  \n52  Voiture d'occasion          17      5    NaN     NaN        0  aramis  \n53  Voiture d'occasion       18030      5    NaN     NaN        1  aramis  \n54  Voiture d'occasion       26886      4    NaN     NaN        8  aramis  \n\n[2439 rows x 16 columns]",
      "text/html": "<div>\n<style scoped>\n    .dataframe tbody tr th:only-of-type {\n        vertical-align: middle;\n    }\n\n    .dataframe tbody tr th {\n        vertical-align: top;\n    }\n\n    .dataframe thead th {\n        text-align: right;\n    }\n</style>\n<table border=\"1\" class=\"dataframe\">\n  <thead>\n    <tr style=\"text-align: right;\">\n      <th></th>\n      <th>Unnamed: 0</th>\n      <th>name</th>\n      <th>price</th>\n      <th>leasing</th>\n      <th>equipments</th>\n      <th>date</th>\n      <th>motor</th>\n      <th>fuel</th>\n      <th>transmission</th>\n      <th>type</th>\n      <th>kilometers</th>\n      <th>doors</th>\n      <th>seats</th>\n      <th>images</th>\n      <th>defauts</th>\n      <th>seller</th>\n    </tr>\n  </thead>\n  <tbody>\n    <tr>\n      <th>0</th>\n      <td>0</td>\n      <td>Peugeot 308 SW</td>\n      <td>12499</td>\n      <td>NaN</td>\n      <td>['Start &amp; Stop', 'Direction Assistée électriqu...</td>\n      <td>2016</td>\n      <td>1.2 PureTech 130 BVM6</td>\n      <td>Essence</td>\n      <td>Boîte manuelle 6 rapports</td>\n      <td>Voiture d'occasion</td>\n      <td>106977</td>\n      <td>5</td>\n      <td>NaN</td>\n      <td>NaN</td>\n      <td>13</td>\n      <td>aramis</td>\n    </tr>\n    <tr>\n      <th>1</th>\n      <td>1</td>\n      <td>Citroën C4</td>\n      <td>10699</td>\n      <td>NaN</td>\n      <td>['Aide au stationnement arrière', 'Climatisati...</td>\n      <td>2015</td>\n      <td>1.6 BlueHDi 100 BVM5</td>\n      <td>Diesel</td>\n      <td>Boîte manuelle 5 rapports</td>\n      <td>Voiture d'occasion</td>\n      <td>135390</td>\n      <td>5</td>\n      <td>NaN</td>\n      <td>NaN</td>\n      <td>22</td>\n      <td>aramis</td>\n    </tr>\n    <tr>\n      <th>2</th>\n      <td>2</td>\n      <td>Volkswagen Polo</td>\n      <td>10499</td>\n      <td>NaN</td>\n      <td>['Climatisation manuelle', \"Appuie-tête à sécu...</td>\n      <td>2014</td>\n      <td>1.2 60 BVM5</td>\n      <td>Essence</td>\n      <td>Boîte manuelle 5 rapports</td>\n      <td>Voiture d'occasion</td>\n      <td>80770</td>\n      <td>3</td>\n      <td>NaN</td>\n      <td>NaN</td>\n      <td>12</td>\n      <td>aramis</td>\n    </tr>\n    <tr>\n      <th>3</th>\n      <td>3</td>\n      <td>Toyota Yaris</td>\n      <td>10999</td>\n      <td>NaN</td>\n      <td>['Climatisation manuelle', 'Vitres AV électriq...</td>\n      <td>2016</td>\n      <td>1.0 VVT-i 70 BVM5</td>\n      <td>Essence</td>\n      <td>Boîte manuelle 5 rapports</td>\n      <td>Voiture d'occasion</td>\n      <td>98195</td>\n      <td>5</td>\n      <td>NaN</td>\n      <td>NaN</td>\n      <td>14</td>\n      <td>aramis</td>\n    </tr>\n    <tr>\n      <th>4</th>\n      <td>4</td>\n      <td>Citroën C4 Cactus</td>\n      <td>12699</td>\n      <td>NaN</td>\n      <td>['Climatisation automatique', 'Régulateur et L...</td>\n      <td>2016</td>\n      <td>1.2 PureTech 82 BVM5</td>\n      <td>Essence</td>\n      <td>Boîte manuelle 5 rapports</td>\n      <td>Voiture d'occasion</td>\n      <td>42981</td>\n      <td>5</td>\n      <td>NaN</td>\n      <td>NaN</td>\n      <td>14</td>\n      <td>aramis</td>\n    </tr>\n    <tr>\n      <th>...</th>\n      <td>...</td>\n      <td>...</td>\n      <td>...</td>\n      <td>...</td>\n      <td>...</td>\n      <td>...</td>\n      <td>...</td>\n      <td>...</td>\n      <td>...</td>\n      <td>...</td>\n      <td>...</td>\n      <td>...</td>\n      <td>...</td>\n      <td>...</td>\n      <td>...</td>\n      <td>...</td>\n    </tr>\n    <tr>\n      <th>50</th>\n      <td>50</td>\n      <td>Volkswagen Passat SW</td>\n      <td>25399</td>\n      <td>NaN</td>\n      <td>['Climatisation automatique \"Pure Air Climatro...</td>\n      <td>2021</td>\n      <td>1.4 TSI Hybride Rechargeable DSG6</td>\n      <td>NaN</td>\n      <td>Boîte automatique</td>\n      <td>Voiture d'occasion</td>\n      <td>30092</td>\n      <td>5</td>\n      <td>NaN</td>\n      <td>NaN</td>\n      <td>0</td>\n      <td>aramis</td>\n    </tr>\n    <tr>\n      <th>51</th>\n      <td>51</td>\n      <td>Audi Q3</td>\n      <td>25999</td>\n      <td>NaN</td>\n      <td>['Climatiseur automatique confort', \"Système d...</td>\n      <td>2017</td>\n      <td>1.4 TFSI sport</td>\n      <td>Essence</td>\n      <td>Boîte automatique</td>\n      <td>Voiture d'occasion</td>\n      <td>84564</td>\n      <td>4</td>\n      <td>NaN</td>\n      <td>NaN</td>\n      <td>17</td>\n      <td>aramis</td>\n    </tr>\n    <tr>\n      <th>52</th>\n      <td>52</td>\n      <td>Toyota C-HR</td>\n      <td>28999</td>\n      <td>NaN</td>\n      <td>['Système d’aide au stationnement automatique ...</td>\n      <td>2022</td>\n      <td>184h</td>\n      <td>NaN</td>\n      <td>Boîte automatique 1 rapport</td>\n      <td>Voiture d'occasion</td>\n      <td>17</td>\n      <td>5</td>\n      <td>NaN</td>\n      <td>NaN</td>\n      <td>0</td>\n      <td>aramis</td>\n    </tr>\n    <tr>\n      <th>53</th>\n      <td>53</td>\n      <td>Mercedes Classe A</td>\n      <td>34499</td>\n      <td>NaN</td>\n      <td>[\"Pack Premium : Eclairage d'ambiance 64 coule...</td>\n      <td>2022</td>\n      <td>200d 8G-DCT</td>\n      <td>Diesel</td>\n      <td>Boîte automatique 8 rapports</td>\n      <td>Voiture d'occasion</td>\n      <td>18030</td>\n      <td>5</td>\n      <td>NaN</td>\n      <td>NaN</td>\n      <td>1</td>\n      <td>aramis</td>\n    </tr>\n    <tr>\n      <th>54</th>\n      <td>54</td>\n      <td>Tesla MODEL 3</td>\n      <td>33999</td>\n      <td>NaN</td>\n      <td>['Régulateur de vitesse', '4 ports USB and emp...</td>\n      <td>2021</td>\n      <td>55,4kw - RWD</td>\n      <td>NaN</td>\n      <td>Boîte automatique 1 rapport</td>\n      <td>Voiture d'occasion</td>\n      <td>26886</td>\n      <td>4</td>\n      <td>NaN</td>\n      <td>NaN</td>\n      <td>8</td>\n      <td>aramis</td>\n    </tr>\n  </tbody>\n</table>\n<p>2439 rows × 16 columns</p>\n</div>"
     },
     "execution_count": 4,
     "metadata": {},
     "output_type": "execute_result"
    }
   ],
   "source": [
    "df_aramis"
   ],
   "metadata": {
    "collapsed": false
   }
  },
  {
   "cell_type": "code",
   "execution_count": 5,
   "outputs": [
    {
     "data": {
      "text/plain": "      Unnamed: 0                                     href  \\\n0              0  /auto-occasion-annonce-69113293722.html   \n1              1  /auto-occasion-annonce-69112883511.html   \n2              2  /auto-occasion-annonce-87102824038.html   \n3              3  /auto-occasion-annonce-69112354873.html   \n4              4  /auto-occasion-annonce-69112703036.html   \n...          ...                                      ...   \n5195        5195  /auto-occasion-annonce-69111846101.html   \n5196        5196  /auto-occasion-annonce-69112850719.html   \n5197        5197  /auto-occasion-annonce-69113029185.html   \n5198        5198  /auto-occasion-annonce-87102831129.html   \n5199        5199  /auto-occasion-annonce-69113065024.html   \n\n                            name    price  leasing  \\\n0            SKODA KAROQ phase 2  34220.0      NaN   \n1                     KIA E-NIRO  30960.0      NaN   \n2      VOLKSWAGEN POLO V phase 2  16320.0      NaN   \n3             MINI COUNTRYMAN II  23210.0    320.0   \n4                PEUGEOT 3008 II  21980.0      NaN   \n...                          ...      ...      ...   \n5195   VOLVO V40 (2E GENERATION)  19240.0    250.0   \n5196      CITROEN C3 III phase 2  15460.0    210.0   \n5197       FORD ECOSPORT phase 2  16510.0    220.0   \n5198  NISSAN X-TRAIL III phase 2  25980.0      NaN   \n5199             PEUGEOT 5008 II  28070.0      NaN   \n\n                                             equipments    date  \\\n0     ['Autre', 'Jantes alliage 19\\'\\' \"SAGITARIUS\" ...  2023.0   \n1     ['Extérieur et Chassis', 'Rétroviseurs rabatta...  2021.0   \n2     ['Extérieur et Chassis', 'Rétroviseurs extérie...  2017.0   \n3     ['Extérieur et Chassis', 'Aide parking', 'Jant...  2018.0   \n4     ['Extérieur et Chassis', 'Aide parking', 'Rada...  2020.0   \n...                                                 ...     ...   \n5195  ['Extérieur et Chassis', 'Jantes alu', 'Peintu...  2020.0   \n5196  ['Extérieur et Chassis', 'Aide parking', 'Jant...  2022.0   \n5197  ['Extérieur et Chassis', 'Aide parking', 'Jant...  2022.0   \n5198  ['Extérieur et Chassis', 'Phares à allumage au...  2020.0   \n5199  ['Extérieur et Chassis', 'Attelage', 'Pack vis...  2020.0   \n\n                                                  motor        fuel  \\\n0     <div class=\"Text_Text_text SummaryInformation_...      Diesel   \n1     <div class=\"Text_Text_text SummaryInformation_...  Electrique   \n2     <div class=\"Text_Text_text SummaryInformation_...     Essence   \n3     <div class=\"Text_Text_text SummaryInformation_...      Diesel   \n4     <div class=\"Text_Text_text SummaryInformation_...     Essence   \n...                                                 ...         ...   \n5195  <div class=\"Text_Text_text SummaryInformation_...      Diesel   \n5196  <div class=\"Text_Text_text SummaryInformation_...     Essence   \n5197  <div class=\"Text_Text_text SummaryInformation_...     Essence   \n5198  <div class=\"Text_Text_text SummaryInformation_...      Diesel   \n5199  <div class=\"Text_Text_text SummaryInformation_...     Essence   \n\n     transmission  type  kilometers  doors  seats  images  defauts  \\\n0     Automatique   NaN     11696.0    5.0    5.0     NaN      NaN   \n1     Automatique   NaN     43291.0    5.0    5.0     NaN      NaN   \n2     Automatique   NaN     75500.0    5.0    5.0     NaN      NaN   \n3     Automatique   NaN     91796.0    5.0    5.0     NaN      NaN   \n4     Automatique   NaN     68310.0    5.0    5.0     NaN      NaN   \n...           ...   ...         ...    ...    ...     ...      ...   \n5195     Manuelle   NaN     63174.0    5.0    5.0     NaN      NaN   \n5196     Manuelle   NaN     22629.0    5.0    5.0     NaN      NaN   \n5197     Manuelle   NaN     94729.0    5.0    5.0     NaN      NaN   \n5198  Automatique   NaN     75674.0    5.0    5.0     NaN      NaN   \n5199  Automatique   NaN     45156.0    5.0    7.0     NaN      NaN   \n\n                            location  critair  \\\n0                        NIMES 30900      2.0   \n1                   MONTELIMAR 26200      0.0   \n2           FONTENAY LE FLEURY 78330      1.0   \n3                    BESSIERES 31660      2.0   \n4     CHATILLON SUR CHALARONNE 01400      1.0   \n...                              ...      ...   \n5195                CONTRISSON 55800      2.0   \n5196                  NANTERRE 92000      1.0   \n5197                  NANTERRE 92000      1.0   \n5198         CHARNAY LES MACON 71850      2.0   \n5199                  MERIGNAC 33700      1.0   \n\n                                                  extra  \n0     {'year': '2023', 'kilometers': ' 11 696 km', '...  \n1     {'year': '2021', 'kilometers': ' 43 291 km', '...  \n2     {'year': '2017', 'kilometers': ' 75 500 km', '...  \n3     {'year': '2018', 'kilometers': ' 91 796 km', '...  \n4     {'year': '2020', 'kilometers': ' 68 310 km', '...  \n...                                                 ...  \n5195  {'year': '2020', 'kilometers': ' 63 174 km', '...  \n5196  {'year': '2022', 'kilometers': ' 22 629 km', '...  \n5197  {'year': '2022', 'kilometers': ' 94 729 km', '...  \n5198  {'year': '2020', 'kilometers': ' 75 674 km', '...  \n5199  {'year': '2020', 'kilometers': ' 45 156 km', '...  \n\n[5200 rows x 19 columns]",
      "text/html": "<div>\n<style scoped>\n    .dataframe tbody tr th:only-of-type {\n        vertical-align: middle;\n    }\n\n    .dataframe tbody tr th {\n        vertical-align: top;\n    }\n\n    .dataframe thead th {\n        text-align: right;\n    }\n</style>\n<table border=\"1\" class=\"dataframe\">\n  <thead>\n    <tr style=\"text-align: right;\">\n      <th></th>\n      <th>Unnamed: 0</th>\n      <th>href</th>\n      <th>name</th>\n      <th>price</th>\n      <th>leasing</th>\n      <th>equipments</th>\n      <th>date</th>\n      <th>motor</th>\n      <th>fuel</th>\n      <th>transmission</th>\n      <th>type</th>\n      <th>kilometers</th>\n      <th>doors</th>\n      <th>seats</th>\n      <th>images</th>\n      <th>defauts</th>\n      <th>location</th>\n      <th>critair</th>\n      <th>extra</th>\n    </tr>\n  </thead>\n  <tbody>\n    <tr>\n      <th>0</th>\n      <td>0</td>\n      <td>/auto-occasion-annonce-69113293722.html</td>\n      <td>SKODA KAROQ phase 2</td>\n      <td>34220.0</td>\n      <td>NaN</td>\n      <td>['Autre', 'Jantes alliage 19\\'\\' \"SAGITARIUS\" ...</td>\n      <td>2023.0</td>\n      <td>&lt;div class=\"Text_Text_text SummaryInformation_...</td>\n      <td>Diesel</td>\n      <td>Automatique</td>\n      <td>NaN</td>\n      <td>11696.0</td>\n      <td>5.0</td>\n      <td>5.0</td>\n      <td>NaN</td>\n      <td>NaN</td>\n      <td>NIMES 30900</td>\n      <td>2.0</td>\n      <td>{'year': '2023', 'kilometers': ' 11 696 km', '...</td>\n    </tr>\n    <tr>\n      <th>1</th>\n      <td>1</td>\n      <td>/auto-occasion-annonce-69112883511.html</td>\n      <td>KIA E-NIRO</td>\n      <td>30960.0</td>\n      <td>NaN</td>\n      <td>['Extérieur et Chassis', 'Rétroviseurs rabatta...</td>\n      <td>2021.0</td>\n      <td>&lt;div class=\"Text_Text_text SummaryInformation_...</td>\n      <td>Electrique</td>\n      <td>Automatique</td>\n      <td>NaN</td>\n      <td>43291.0</td>\n      <td>5.0</td>\n      <td>5.0</td>\n      <td>NaN</td>\n      <td>NaN</td>\n      <td>MONTELIMAR 26200</td>\n      <td>0.0</td>\n      <td>{'year': '2021', 'kilometers': ' 43 291 km', '...</td>\n    </tr>\n    <tr>\n      <th>2</th>\n      <td>2</td>\n      <td>/auto-occasion-annonce-87102824038.html</td>\n      <td>VOLKSWAGEN POLO V phase 2</td>\n      <td>16320.0</td>\n      <td>NaN</td>\n      <td>['Extérieur et Chassis', 'Rétroviseurs extérie...</td>\n      <td>2017.0</td>\n      <td>&lt;div class=\"Text_Text_text SummaryInformation_...</td>\n      <td>Essence</td>\n      <td>Automatique</td>\n      <td>NaN</td>\n      <td>75500.0</td>\n      <td>5.0</td>\n      <td>5.0</td>\n      <td>NaN</td>\n      <td>NaN</td>\n      <td>FONTENAY LE FLEURY 78330</td>\n      <td>1.0</td>\n      <td>{'year': '2017', 'kilometers': ' 75 500 km', '...</td>\n    </tr>\n    <tr>\n      <th>3</th>\n      <td>3</td>\n      <td>/auto-occasion-annonce-69112354873.html</td>\n      <td>MINI COUNTRYMAN II</td>\n      <td>23210.0</td>\n      <td>320.0</td>\n      <td>['Extérieur et Chassis', 'Aide parking', 'Jant...</td>\n      <td>2018.0</td>\n      <td>&lt;div class=\"Text_Text_text SummaryInformation_...</td>\n      <td>Diesel</td>\n      <td>Automatique</td>\n      <td>NaN</td>\n      <td>91796.0</td>\n      <td>5.0</td>\n      <td>5.0</td>\n      <td>NaN</td>\n      <td>NaN</td>\n      <td>BESSIERES 31660</td>\n      <td>2.0</td>\n      <td>{'year': '2018', 'kilometers': ' 91 796 km', '...</td>\n    </tr>\n    <tr>\n      <th>4</th>\n      <td>4</td>\n      <td>/auto-occasion-annonce-69112703036.html</td>\n      <td>PEUGEOT 3008 II</td>\n      <td>21980.0</td>\n      <td>NaN</td>\n      <td>['Extérieur et Chassis', 'Aide parking', 'Rada...</td>\n      <td>2020.0</td>\n      <td>&lt;div class=\"Text_Text_text SummaryInformation_...</td>\n      <td>Essence</td>\n      <td>Automatique</td>\n      <td>NaN</td>\n      <td>68310.0</td>\n      <td>5.0</td>\n      <td>5.0</td>\n      <td>NaN</td>\n      <td>NaN</td>\n      <td>CHATILLON SUR CHALARONNE 01400</td>\n      <td>1.0</td>\n      <td>{'year': '2020', 'kilometers': ' 68 310 km', '...</td>\n    </tr>\n    <tr>\n      <th>...</th>\n      <td>...</td>\n      <td>...</td>\n      <td>...</td>\n      <td>...</td>\n      <td>...</td>\n      <td>...</td>\n      <td>...</td>\n      <td>...</td>\n      <td>...</td>\n      <td>...</td>\n      <td>...</td>\n      <td>...</td>\n      <td>...</td>\n      <td>...</td>\n      <td>...</td>\n      <td>...</td>\n      <td>...</td>\n      <td>...</td>\n      <td>...</td>\n    </tr>\n    <tr>\n      <th>5195</th>\n      <td>5195</td>\n      <td>/auto-occasion-annonce-69111846101.html</td>\n      <td>VOLVO V40 (2E GENERATION)</td>\n      <td>19240.0</td>\n      <td>250.0</td>\n      <td>['Extérieur et Chassis', 'Jantes alu', 'Peintu...</td>\n      <td>2020.0</td>\n      <td>&lt;div class=\"Text_Text_text SummaryInformation_...</td>\n      <td>Diesel</td>\n      <td>Manuelle</td>\n      <td>NaN</td>\n      <td>63174.0</td>\n      <td>5.0</td>\n      <td>5.0</td>\n      <td>NaN</td>\n      <td>NaN</td>\n      <td>CONTRISSON 55800</td>\n      <td>2.0</td>\n      <td>{'year': '2020', 'kilometers': ' 63 174 km', '...</td>\n    </tr>\n    <tr>\n      <th>5196</th>\n      <td>5196</td>\n      <td>/auto-occasion-annonce-69112850719.html</td>\n      <td>CITROEN C3 III phase 2</td>\n      <td>15460.0</td>\n      <td>210.0</td>\n      <td>['Extérieur et Chassis', 'Aide parking', 'Jant...</td>\n      <td>2022.0</td>\n      <td>&lt;div class=\"Text_Text_text SummaryInformation_...</td>\n      <td>Essence</td>\n      <td>Manuelle</td>\n      <td>NaN</td>\n      <td>22629.0</td>\n      <td>5.0</td>\n      <td>5.0</td>\n      <td>NaN</td>\n      <td>NaN</td>\n      <td>NANTERRE 92000</td>\n      <td>1.0</td>\n      <td>{'year': '2022', 'kilometers': ' 22 629 km', '...</td>\n    </tr>\n    <tr>\n      <th>5197</th>\n      <td>5197</td>\n      <td>/auto-occasion-annonce-69113029185.html</td>\n      <td>FORD ECOSPORT phase 2</td>\n      <td>16510.0</td>\n      <td>220.0</td>\n      <td>['Extérieur et Chassis', 'Aide parking', 'Jant...</td>\n      <td>2022.0</td>\n      <td>&lt;div class=\"Text_Text_text SummaryInformation_...</td>\n      <td>Essence</td>\n      <td>Manuelle</td>\n      <td>NaN</td>\n      <td>94729.0</td>\n      <td>5.0</td>\n      <td>5.0</td>\n      <td>NaN</td>\n      <td>NaN</td>\n      <td>NANTERRE 92000</td>\n      <td>1.0</td>\n      <td>{'year': '2022', 'kilometers': ' 94 729 km', '...</td>\n    </tr>\n    <tr>\n      <th>5198</th>\n      <td>5198</td>\n      <td>/auto-occasion-annonce-87102831129.html</td>\n      <td>NISSAN X-TRAIL III phase 2</td>\n      <td>25980.0</td>\n      <td>NaN</td>\n      <td>['Extérieur et Chassis', 'Phares à allumage au...</td>\n      <td>2020.0</td>\n      <td>&lt;div class=\"Text_Text_text SummaryInformation_...</td>\n      <td>Diesel</td>\n      <td>Automatique</td>\n      <td>NaN</td>\n      <td>75674.0</td>\n      <td>5.0</td>\n      <td>5.0</td>\n      <td>NaN</td>\n      <td>NaN</td>\n      <td>CHARNAY LES MACON 71850</td>\n      <td>2.0</td>\n      <td>{'year': '2020', 'kilometers': ' 75 674 km', '...</td>\n    </tr>\n    <tr>\n      <th>5199</th>\n      <td>5199</td>\n      <td>/auto-occasion-annonce-69113065024.html</td>\n      <td>PEUGEOT 5008 II</td>\n      <td>28070.0</td>\n      <td>NaN</td>\n      <td>['Extérieur et Chassis', 'Attelage', 'Pack vis...</td>\n      <td>2020.0</td>\n      <td>&lt;div class=\"Text_Text_text SummaryInformation_...</td>\n      <td>Essence</td>\n      <td>Automatique</td>\n      <td>NaN</td>\n      <td>45156.0</td>\n      <td>5.0</td>\n      <td>7.0</td>\n      <td>NaN</td>\n      <td>NaN</td>\n      <td>MERIGNAC 33700</td>\n      <td>1.0</td>\n      <td>{'year': '2020', 'kilometers': ' 45 156 km', '...</td>\n    </tr>\n  </tbody>\n</table>\n<p>5200 rows × 19 columns</p>\n</div>"
     },
     "execution_count": 5,
     "metadata": {},
     "output_type": "execute_result"
    }
   ],
   "source": [
    "df_lacentrale"
   ],
   "metadata": {
    "collapsed": false
   }
  },
  {
   "cell_type": "code",
   "execution_count": 6,
   "outputs": [
    {
     "data": {
      "text/plain": "   Unnamed: 0               name  price  leasing  \\\n0           0     Peugeot 308 SW  12499      NaN   \n1           1         Citroën C4  10699      NaN   \n2           2    Volkswagen Polo  10499      NaN   \n3           3       Toyota Yaris  10999      NaN   \n4           4  Citroën C4 Cactus  12699      NaN   \n\n                                          equipments  date  \\\n0  ['Start & Stop', 'Direction Assistée électriqu...  2016   \n1  ['Aide au stationnement arrière', 'Climatisati...  2015   \n2  ['Climatisation manuelle', \"Appuie-tête à sécu...  2014   \n3  ['Climatisation manuelle', 'Vitres AV électriq...  2016   \n4  ['Climatisation automatique', 'Régulateur et L...  2016   \n\n                   motor     fuel               transmission  \\\n0  1.2 PureTech 130 BVM6  Essence  Boîte manuelle 6 rapports   \n1   1.6 BlueHDi 100 BVM5   Diesel  Boîte manuelle 5 rapports   \n2            1.2 60 BVM5  Essence  Boîte manuelle 5 rapports   \n3      1.0 VVT-i 70 BVM5  Essence  Boîte manuelle 5 rapports   \n4   1.2 PureTech 82 BVM5  Essence  Boîte manuelle 5 rapports   \n\n                 type  kilometers  doors  seats  images  defauts  seller  \\\n0  Voiture d'occasion      106977      5    NaN     NaN       13  aramis   \n1  Voiture d'occasion      135390      5    NaN     NaN       22  aramis   \n2  Voiture d'occasion       80770      3    NaN     NaN       12  aramis   \n3  Voiture d'occasion       98195      5    NaN     NaN       14  aramis   \n4  Voiture d'occasion       42981      5    NaN     NaN       14  aramis   \n\n  displacement power  \n0          1.2   130  \n1          1.6   100  \n2          1.2    60  \n3          1.0    70  \n4          1.2    82  ",
      "text/html": "<div>\n<style scoped>\n    .dataframe tbody tr th:only-of-type {\n        vertical-align: middle;\n    }\n\n    .dataframe tbody tr th {\n        vertical-align: top;\n    }\n\n    .dataframe thead th {\n        text-align: right;\n    }\n</style>\n<table border=\"1\" class=\"dataframe\">\n  <thead>\n    <tr style=\"text-align: right;\">\n      <th></th>\n      <th>Unnamed: 0</th>\n      <th>name</th>\n      <th>price</th>\n      <th>leasing</th>\n      <th>equipments</th>\n      <th>date</th>\n      <th>motor</th>\n      <th>fuel</th>\n      <th>transmission</th>\n      <th>type</th>\n      <th>kilometers</th>\n      <th>doors</th>\n      <th>seats</th>\n      <th>images</th>\n      <th>defauts</th>\n      <th>seller</th>\n      <th>displacement</th>\n      <th>power</th>\n    </tr>\n  </thead>\n  <tbody>\n    <tr>\n      <th>0</th>\n      <td>0</td>\n      <td>Peugeot 308 SW</td>\n      <td>12499</td>\n      <td>NaN</td>\n      <td>['Start &amp; Stop', 'Direction Assistée électriqu...</td>\n      <td>2016</td>\n      <td>1.2 PureTech 130 BVM6</td>\n      <td>Essence</td>\n      <td>Boîte manuelle 6 rapports</td>\n      <td>Voiture d'occasion</td>\n      <td>106977</td>\n      <td>5</td>\n      <td>NaN</td>\n      <td>NaN</td>\n      <td>13</td>\n      <td>aramis</td>\n      <td>1.2</td>\n      <td>130</td>\n    </tr>\n    <tr>\n      <th>1</th>\n      <td>1</td>\n      <td>Citroën C4</td>\n      <td>10699</td>\n      <td>NaN</td>\n      <td>['Aide au stationnement arrière', 'Climatisati...</td>\n      <td>2015</td>\n      <td>1.6 BlueHDi 100 BVM5</td>\n      <td>Diesel</td>\n      <td>Boîte manuelle 5 rapports</td>\n      <td>Voiture d'occasion</td>\n      <td>135390</td>\n      <td>5</td>\n      <td>NaN</td>\n      <td>NaN</td>\n      <td>22</td>\n      <td>aramis</td>\n      <td>1.6</td>\n      <td>100</td>\n    </tr>\n    <tr>\n      <th>2</th>\n      <td>2</td>\n      <td>Volkswagen Polo</td>\n      <td>10499</td>\n      <td>NaN</td>\n      <td>['Climatisation manuelle', \"Appuie-tête à sécu...</td>\n      <td>2014</td>\n      <td>1.2 60 BVM5</td>\n      <td>Essence</td>\n      <td>Boîte manuelle 5 rapports</td>\n      <td>Voiture d'occasion</td>\n      <td>80770</td>\n      <td>3</td>\n      <td>NaN</td>\n      <td>NaN</td>\n      <td>12</td>\n      <td>aramis</td>\n      <td>1.2</td>\n      <td>60</td>\n    </tr>\n    <tr>\n      <th>3</th>\n      <td>3</td>\n      <td>Toyota Yaris</td>\n      <td>10999</td>\n      <td>NaN</td>\n      <td>['Climatisation manuelle', 'Vitres AV électriq...</td>\n      <td>2016</td>\n      <td>1.0 VVT-i 70 BVM5</td>\n      <td>Essence</td>\n      <td>Boîte manuelle 5 rapports</td>\n      <td>Voiture d'occasion</td>\n      <td>98195</td>\n      <td>5</td>\n      <td>NaN</td>\n      <td>NaN</td>\n      <td>14</td>\n      <td>aramis</td>\n      <td>1.0</td>\n      <td>70</td>\n    </tr>\n    <tr>\n      <th>4</th>\n      <td>4</td>\n      <td>Citroën C4 Cactus</td>\n      <td>12699</td>\n      <td>NaN</td>\n      <td>['Climatisation automatique', 'Régulateur et L...</td>\n      <td>2016</td>\n      <td>1.2 PureTech 82 BVM5</td>\n      <td>Essence</td>\n      <td>Boîte manuelle 5 rapports</td>\n      <td>Voiture d'occasion</td>\n      <td>42981</td>\n      <td>5</td>\n      <td>NaN</td>\n      <td>NaN</td>\n      <td>14</td>\n      <td>aramis</td>\n      <td>1.2</td>\n      <td>82</td>\n    </tr>\n  </tbody>\n</table>\n</div>"
     },
     "execution_count": 6,
     "metadata": {},
     "output_type": "execute_result"
    }
   ],
   "source": [
    "def extract_advanced_power(motor_str):\n",
    "    \"\"\"\n",
    "    Extrait la puissance du moteur (en chevaux) de la chaîne de caractères, en considérant le contexte.\n",
    "    Retourne la puissance en chevaux si elle est trouvée, sinon None.\n",
    "    \"\"\"\n",
    "    if pd.isna(motor_str):\n",
    "        return None\n",
    "\n",
    "    power_matches = re.findall(r'(?<!\\d\\.)\\b(\\d+)\\b(?!\\.\\d)', motor_str)\n",
    "    for match in power_matches:\n",
    "        # Vérifier si le nombre correspond à une puissance plausible (par exemple, entre 50 et 1000 ch)\n",
    "        if 50 <= int(match) <= 1000:\n",
    "            return match\n",
    "    return None\n",
    "\n",
    "import re\n",
    "def extract_displacement(motor_str):\n",
    "    \"\"\"\n",
    "    Extrait la cylindrée du moteur de la chaîne de caractères, en considérant uniquement les nombres décimaux.\n",
    "    Retourne la cylindrée si elle est trouvée, sinon None.\n",
    "    \"\"\"\n",
    "    if pd.isna(motor_str):\n",
    "        return None\n",
    "\n",
    "    # Recherche d'un nombre décimal qui pourrait représenter la cylindrée\n",
    "    displacement_match = re.search(r'\\b\\d+\\.\\d+\\b', motor_str)\n",
    "    if displacement_match:\n",
    "        return displacement_match.group(0)\n",
    "    return None\n",
    "\n",
    "# Application de la fonction d'extraction de cylindrée mise à jour\n",
    "df_aramis['displacement'] = df_aramis['motor'].apply(extract_displacement)\n",
    "\n",
    "\n",
    "# Application de la fonction d'extraction de puissance avancée\n",
    "df_aramis['power'] = df_aramis['motor'].apply(extract_advanced_power)\n",
    "\n",
    "# Affichage des résultats pour vérification\n",
    "df_aramis.head()\n"
   ],
   "metadata": {
    "collapsed": false
   }
  },
  {
   "cell_type": "code",
   "execution_count": null,
   "outputs": [],
   "source": [],
   "metadata": {
    "collapsed": false
   }
  },
  {
   "cell_type": "markdown",
   "source": [
    "# Autosphere"
   ],
   "metadata": {
    "collapsed": false
   }
  },
  {
   "cell_type": "code",
   "execution_count": 7,
   "outputs": [],
   "source": [
    "df_autosphere = pd.concat([pd.read_csv('autosphere.csv')])\n",
    "df_autosphere['seller'] = ['autosphere']*len(df_autosphere)"
   ],
   "metadata": {
    "collapsed": false
   }
  },
  {
   "cell_type": "code",
   "execution_count": 8,
   "outputs": [
    {
     "data": {
      "text/plain": "      Unnamed: 0                 name  price  leasing  \\\n0              0         RENAULT CLIO  16990      NaN   \n1              1         PEUGEOT 2008  27980      NaN   \n2              2          RENAULT ZOE  12790      NaN   \n3              3       RENAULT CAPTUR  18490      NaN   \n4              4       RENAULT ARKANA  33990      NaN   \n...          ...                  ...    ...      ...   \n9528        9528         KIA SPORTAGE  24499      NaN   \n9529        9529  CITROEN C3 AIRCROSS  16999      NaN   \n9530        9530       RENAULT CAPTUR  18480      NaN   \n9531        9531               BMW I3  19990      NaN   \n9532        9532         DACIA DUSTER  18380      NaN   \n\n                                             equipments  date  \\\n0     ['ABS', 'Aide au démarrage en côte', \"Aide au ...  2022   \n1     ['6 Haut parleurs', 'ABS', 'AFIL', 'Aide au dé...  2022   \n2     ['6 Haut parleurs', 'ABS', 'Aide au démarrage ...  2020   \n3     ['ABS', 'Accoudoir central AV', 'AFIL', 'Aide ...  2022   \n4     ['6 Haut parleurs', 'ABS', 'Accoudoir central ...  2023   \n...                                                 ...   ...   \n9528  ['6 Haut parleurs', 'ABS', 'Accoudoir arrière'...  2022   \n9529  ['6 Haut parleurs', 'ABS', 'AFIL', 'Aide au dé...  2018   \n9530  ['ABS', 'Accoudoir central AV', 'AFIL', 'Aide ...  2021   \n9531  ['4 Haut parleurs', 'ABS', 'Accoudoir central ...  2019   \n9532  ['ABS', 'Accoudoir central AV', 'Aide au démar...  2020   \n\n                                                  motor  \\\n0        (Renault Clio 1.0 TCe 100ch Business GPL -21N)   \n1                        (Peugeot 2008 e-2008 136ch GT)   \n2           (Renault Zoe Life charge normale R110 - 20)   \n3       (Renault Captur 1.0 TCe 100ch Business GPL -21)   \n4      (Renault Arkana 1.6 E-Tech hybride 145ch Evol...   \n...                                                 ...   \n9528   (Kia Sportage 1.6 T-GDi 150ch MHEV Motion iBV...   \n9529   (Citroen C3 aircross PureTech 110ch S&S Shine...   \n9530            (Renault Captur 1.3 TCe 140ch Business)   \n9531                 (Bmw I3 170ch 120Ah iLife Atelier)   \n9532   (Dacia Duster 1.5 Blue dCi 115ch Prestige 4x2...   \n\n                       fuel transmission                  type  kilometers  \\\n0                       Gpl     Manuelle  Véhicule particulier       20100   \n1                Electrique  Automatique  Véhicule particulier        9862   \n2                Electrique  Automatique  Véhicule particulier       66422   \n3                       Gpl     Manuelle  Véhicule particulier       21097   \n4                   Hybride  Automatique  Véhicule particulier          10   \n...                     ...          ...                   ...         ...   \n9528  Essence micro hybride     Manuelle  Véhicule particulier       21759   \n9529                Essence  Automatique  Véhicule particulier       59000   \n9530                Essence     Manuelle  Véhicule particulier       27457   \n9531             Electrique  Automatique  Véhicule particulier       83000   \n9532                 Diesel     Manuelle  Véhicule particulier       48332   \n\n      doors  seats  images  defauts      seller  \n0       5.0    5.0     NaN       11  autosphere  \n1       5.0    5.0     NaN        0  autosphere  \n2       5.0    5.0     NaN        4  autosphere  \n3       5.0    5.0     NaN        0  autosphere  \n4       5.0    5.0     NaN        0  autosphere  \n...     ...    ...     ...      ...         ...  \n9528    5.0    5.0     NaN        6  autosphere  \n9529    5.0    5.0     NaN        0  autosphere  \n9530    5.0    5.0     NaN        0  autosphere  \n9531    5.0    4.0     NaN        0  autosphere  \n9532    5.0    5.0     NaN       12  autosphere  \n\n[9533 rows x 16 columns]",
      "text/html": "<div>\n<style scoped>\n    .dataframe tbody tr th:only-of-type {\n        vertical-align: middle;\n    }\n\n    .dataframe tbody tr th {\n        vertical-align: top;\n    }\n\n    .dataframe thead th {\n        text-align: right;\n    }\n</style>\n<table border=\"1\" class=\"dataframe\">\n  <thead>\n    <tr style=\"text-align: right;\">\n      <th></th>\n      <th>Unnamed: 0</th>\n      <th>name</th>\n      <th>price</th>\n      <th>leasing</th>\n      <th>equipments</th>\n      <th>date</th>\n      <th>motor</th>\n      <th>fuel</th>\n      <th>transmission</th>\n      <th>type</th>\n      <th>kilometers</th>\n      <th>doors</th>\n      <th>seats</th>\n      <th>images</th>\n      <th>defauts</th>\n      <th>seller</th>\n    </tr>\n  </thead>\n  <tbody>\n    <tr>\n      <th>0</th>\n      <td>0</td>\n      <td>RENAULT CLIO</td>\n      <td>16990</td>\n      <td>NaN</td>\n      <td>['ABS', 'Aide au démarrage en côte', \"Aide au ...</td>\n      <td>2022</td>\n      <td>(Renault Clio 1.0 TCe 100ch Business GPL -21N)</td>\n      <td>Gpl</td>\n      <td>Manuelle</td>\n      <td>Véhicule particulier</td>\n      <td>20100</td>\n      <td>5.0</td>\n      <td>5.0</td>\n      <td>NaN</td>\n      <td>11</td>\n      <td>autosphere</td>\n    </tr>\n    <tr>\n      <th>1</th>\n      <td>1</td>\n      <td>PEUGEOT 2008</td>\n      <td>27980</td>\n      <td>NaN</td>\n      <td>['6 Haut parleurs', 'ABS', 'AFIL', 'Aide au dé...</td>\n      <td>2022</td>\n      <td>(Peugeot 2008 e-2008 136ch GT)</td>\n      <td>Electrique</td>\n      <td>Automatique</td>\n      <td>Véhicule particulier</td>\n      <td>9862</td>\n      <td>5.0</td>\n      <td>5.0</td>\n      <td>NaN</td>\n      <td>0</td>\n      <td>autosphere</td>\n    </tr>\n    <tr>\n      <th>2</th>\n      <td>2</td>\n      <td>RENAULT ZOE</td>\n      <td>12790</td>\n      <td>NaN</td>\n      <td>['6 Haut parleurs', 'ABS', 'Aide au démarrage ...</td>\n      <td>2020</td>\n      <td>(Renault Zoe Life charge normale R110 - 20)</td>\n      <td>Electrique</td>\n      <td>Automatique</td>\n      <td>Véhicule particulier</td>\n      <td>66422</td>\n      <td>5.0</td>\n      <td>5.0</td>\n      <td>NaN</td>\n      <td>4</td>\n      <td>autosphere</td>\n    </tr>\n    <tr>\n      <th>3</th>\n      <td>3</td>\n      <td>RENAULT CAPTUR</td>\n      <td>18490</td>\n      <td>NaN</td>\n      <td>['ABS', 'Accoudoir central AV', 'AFIL', 'Aide ...</td>\n      <td>2022</td>\n      <td>(Renault Captur 1.0 TCe 100ch Business GPL -21)</td>\n      <td>Gpl</td>\n      <td>Manuelle</td>\n      <td>Véhicule particulier</td>\n      <td>21097</td>\n      <td>5.0</td>\n      <td>5.0</td>\n      <td>NaN</td>\n      <td>0</td>\n      <td>autosphere</td>\n    </tr>\n    <tr>\n      <th>4</th>\n      <td>4</td>\n      <td>RENAULT ARKANA</td>\n      <td>33990</td>\n      <td>NaN</td>\n      <td>['6 Haut parleurs', 'ABS', 'Accoudoir central ...</td>\n      <td>2023</td>\n      <td>(Renault Arkana 1.6 E-Tech hybride 145ch Evol...</td>\n      <td>Hybride</td>\n      <td>Automatique</td>\n      <td>Véhicule particulier</td>\n      <td>10</td>\n      <td>5.0</td>\n      <td>5.0</td>\n      <td>NaN</td>\n      <td>0</td>\n      <td>autosphere</td>\n    </tr>\n    <tr>\n      <th>...</th>\n      <td>...</td>\n      <td>...</td>\n      <td>...</td>\n      <td>...</td>\n      <td>...</td>\n      <td>...</td>\n      <td>...</td>\n      <td>...</td>\n      <td>...</td>\n      <td>...</td>\n      <td>...</td>\n      <td>...</td>\n      <td>...</td>\n      <td>...</td>\n      <td>...</td>\n      <td>...</td>\n    </tr>\n    <tr>\n      <th>9528</th>\n      <td>9528</td>\n      <td>KIA SPORTAGE</td>\n      <td>24499</td>\n      <td>NaN</td>\n      <td>['6 Haut parleurs', 'ABS', 'Accoudoir arrière'...</td>\n      <td>2022</td>\n      <td>(Kia Sportage 1.6 T-GDi 150ch MHEV Motion iBV...</td>\n      <td>Essence micro hybride</td>\n      <td>Manuelle</td>\n      <td>Véhicule particulier</td>\n      <td>21759</td>\n      <td>5.0</td>\n      <td>5.0</td>\n      <td>NaN</td>\n      <td>6</td>\n      <td>autosphere</td>\n    </tr>\n    <tr>\n      <th>9529</th>\n      <td>9529</td>\n      <td>CITROEN C3 AIRCROSS</td>\n      <td>16999</td>\n      <td>NaN</td>\n      <td>['6 Haut parleurs', 'ABS', 'AFIL', 'Aide au dé...</td>\n      <td>2018</td>\n      <td>(Citroen C3 aircross PureTech 110ch S&amp;S Shine...</td>\n      <td>Essence</td>\n      <td>Automatique</td>\n      <td>Véhicule particulier</td>\n      <td>59000</td>\n      <td>5.0</td>\n      <td>5.0</td>\n      <td>NaN</td>\n      <td>0</td>\n      <td>autosphere</td>\n    </tr>\n    <tr>\n      <th>9530</th>\n      <td>9530</td>\n      <td>RENAULT CAPTUR</td>\n      <td>18480</td>\n      <td>NaN</td>\n      <td>['ABS', 'Accoudoir central AV', 'AFIL', 'Aide ...</td>\n      <td>2021</td>\n      <td>(Renault Captur 1.3 TCe 140ch Business)</td>\n      <td>Essence</td>\n      <td>Manuelle</td>\n      <td>Véhicule particulier</td>\n      <td>27457</td>\n      <td>5.0</td>\n      <td>5.0</td>\n      <td>NaN</td>\n      <td>0</td>\n      <td>autosphere</td>\n    </tr>\n    <tr>\n      <th>9531</th>\n      <td>9531</td>\n      <td>BMW I3</td>\n      <td>19990</td>\n      <td>NaN</td>\n      <td>['4 Haut parleurs', 'ABS', 'Accoudoir central ...</td>\n      <td>2019</td>\n      <td>(Bmw I3 170ch 120Ah iLife Atelier)</td>\n      <td>Electrique</td>\n      <td>Automatique</td>\n      <td>Véhicule particulier</td>\n      <td>83000</td>\n      <td>5.0</td>\n      <td>4.0</td>\n      <td>NaN</td>\n      <td>0</td>\n      <td>autosphere</td>\n    </tr>\n    <tr>\n      <th>9532</th>\n      <td>9532</td>\n      <td>DACIA DUSTER</td>\n      <td>18380</td>\n      <td>NaN</td>\n      <td>['ABS', 'Accoudoir central AV', 'Aide au démar...</td>\n      <td>2020</td>\n      <td>(Dacia Duster 1.5 Blue dCi 115ch Prestige 4x2...</td>\n      <td>Diesel</td>\n      <td>Manuelle</td>\n      <td>Véhicule particulier</td>\n      <td>48332</td>\n      <td>5.0</td>\n      <td>5.0</td>\n      <td>NaN</td>\n      <td>12</td>\n      <td>autosphere</td>\n    </tr>\n  </tbody>\n</table>\n<p>9533 rows × 16 columns</p>\n</div>"
     },
     "execution_count": 8,
     "metadata": {},
     "output_type": "execute_result"
    }
   ],
   "source": [
    "df_autosphere"
   ],
   "metadata": {
    "collapsed": false
   }
  },
  {
   "cell_type": "code",
   "execution_count": 9,
   "outputs": [
    {
     "data": {
      "text/plain": "             name                                              motor power  \\\n0    RENAULT CLIO     (Renault Clio 1.0 TCe 100ch Business GPL -21N)   100   \n1    PEUGEOT 2008                     (Peugeot 2008 e-2008 136ch GT)   136   \n2     RENAULT ZOE        (Renault Zoe Life charge normale R110 - 20)  None   \n3  RENAULT CAPTUR    (Renault Captur 1.0 TCe 100ch Business GPL -21)   100   \n4  RENAULT ARKANA   (Renault Arkana 1.6 E-Tech hybride 145ch Evol...   145   \n\n  displacement  \n0          1.0  \n1         None  \n2         None  \n3          1.0  \n4          1.6  ",
      "text/html": "<div>\n<style scoped>\n    .dataframe tbody tr th:only-of-type {\n        vertical-align: middle;\n    }\n\n    .dataframe tbody tr th {\n        vertical-align: top;\n    }\n\n    .dataframe thead th {\n        text-align: right;\n    }\n</style>\n<table border=\"1\" class=\"dataframe\">\n  <thead>\n    <tr style=\"text-align: right;\">\n      <th></th>\n      <th>name</th>\n      <th>motor</th>\n      <th>power</th>\n      <th>displacement</th>\n    </tr>\n  </thead>\n  <tbody>\n    <tr>\n      <th>0</th>\n      <td>RENAULT CLIO</td>\n      <td>(Renault Clio 1.0 TCe 100ch Business GPL -21N)</td>\n      <td>100</td>\n      <td>1.0</td>\n    </tr>\n    <tr>\n      <th>1</th>\n      <td>PEUGEOT 2008</td>\n      <td>(Peugeot 2008 e-2008 136ch GT)</td>\n      <td>136</td>\n      <td>None</td>\n    </tr>\n    <tr>\n      <th>2</th>\n      <td>RENAULT ZOE</td>\n      <td>(Renault Zoe Life charge normale R110 - 20)</td>\n      <td>None</td>\n      <td>None</td>\n    </tr>\n    <tr>\n      <th>3</th>\n      <td>RENAULT CAPTUR</td>\n      <td>(Renault Captur 1.0 TCe 100ch Business GPL -21)</td>\n      <td>100</td>\n      <td>1.0</td>\n    </tr>\n    <tr>\n      <th>4</th>\n      <td>RENAULT ARKANA</td>\n      <td>(Renault Arkana 1.6 E-Tech hybride 145ch Evol...</td>\n      <td>145</td>\n      <td>1.6</td>\n    </tr>\n  </tbody>\n</table>\n</div>"
     },
     "execution_count": 9,
     "metadata": {},
     "output_type": "execute_result"
    }
   ],
   "source": [
    "def extract_advanced_power(motor_str):\n",
    "    \"\"\"\n",
    "    Extrait la puissance du moteur (en chevaux) de la chaîne de caractères, en considérant le contexte.\n",
    "    Retourne la puissance en chevaux si elle est trouvée, sinon None.\n",
    "    \"\"\"\n",
    "    if pd.isna(motor_str):\n",
    "        return None\n",
    "\n",
    "    # Recherche d'un nombre entier qui est probablement la puissance en chevaux\n",
    "    # On exclut les nombres qui font partie des formats typiques pour la cylindrée (ex. 1.6)\n",
    "    power_matches = re.findall(r'(\\d+)ch', motor_str)\n",
    "    for match in power_matches:\n",
    "        # Vérifier si le nombre correspond à une puissance plausible (par exemple, entre 50 et 1000 ch)\n",
    "        if 50 <= int(match) <= 1000:\n",
    "            return match\n",
    "    return None\n",
    "\n",
    "import re\n",
    "def extract_displacement(motor_str):\n",
    "    \"\"\"\n",
    "    Extrait la cylindrée du moteur de la chaîne de caractères, en considérant uniquement les nombres décimaux.\n",
    "    Retourne la cylindrée si elle est trouvée, sinon None.\n",
    "    \"\"\"\n",
    "    if pd.isna(motor_str):\n",
    "        return None\n",
    "\n",
    "    # Recherche d'un nombre décimal qui pourrait représenter la cylindrée\n",
    "    displacement_match = re.search(r'\\b\\d+\\.\\d+\\b', motor_str)\n",
    "    if displacement_match:\n",
    "        return displacement_match.group(0)\n",
    "    return None\n",
    "\n",
    "# Application de la fonction d'extraction de cylindrée mise à jour\n",
    "df_autosphere['displacement'] = df_autosphere['motor'].apply(extract_displacement)\n",
    "\n",
    "\n",
    "# Application de la fonction d'extraction de puissance avancée\n",
    "df_autosphere['power'] = df_autosphere['motor'].apply(extract_advanced_power)\n",
    "\n",
    "# Affichage des résultats pour vérification\n",
    "df_autosphere[['name', 'motor', 'power', 'displacement']].head()\n"
   ],
   "metadata": {
    "collapsed": false
   }
  },
  {
   "cell_type": "markdown",
   "source": [
    "# la centrale"
   ],
   "metadata": {
    "collapsed": false
   }
  },
  {
   "cell_type": "code",
   "execution_count": 10,
   "outputs": [],
   "source": [
    "from bs4 import BeautifulSoup"
   ],
   "metadata": {
    "collapsed": false
   }
  },
  {
   "cell_type": "code",
   "execution_count": 11,
   "outputs": [],
   "source": [
    "df_lacentrale['motor'] = df_lacentrale['motor'].apply(lambda row: BeautifulSoup(row, 'html.parser').text if not isinstance(row, float) else row)"
   ],
   "metadata": {
    "collapsed": false
   }
  },
  {
   "cell_type": "code",
   "execution_count": 12,
   "outputs": [],
   "source": [
    "def extract_advanced_power(motor_str):\n",
    "    \"\"\"\n",
    "    Extrait la puissance du moteur (en chevaux) de la chaîne de caractères, en considérant le contexte.\n",
    "    Retourne la puissance en chevaux si elle est trouvée, sinon None.\n",
    "    \"\"\"\n",
    "    if pd.isna(motor_str):\n",
    "        return None\n",
    "\n",
    "    # Recherche d'un nombre entier qui est probablement la puissance en chevaux\n",
    "    # On exclut les nombres qui font partie des formats typiques pour la cylindrée (ex. 1.6)\n",
    "    power_matches = re.findall(r'(?<!\\d\\.)\\b(\\d+)\\b(?!\\.\\d)', motor_str)\n",
    "    for match in power_matches:\n",
    "        # Vérifier si le nombre correspond à une puissance plausible (par exemple, entre 50 et 1000 ch)\n",
    "        if 50 <= int(match) <= 1000:\n",
    "            return match\n",
    "    return None"
   ],
   "metadata": {
    "collapsed": false
   }
  },
  {
   "cell_type": "code",
   "execution_count": 13,
   "outputs": [],
   "source": [
    "# Application de la fonction d'extraction de cylindrée mise à jour\n",
    "df_lacentrale['displacement'] = df_lacentrale['motor'].apply(extract_displacement)\n",
    "\n",
    "\n",
    "# Application de la fonction d'extraction de puissance avancée\n",
    "df_lacentrale['power'] = df_lacentrale['motor'].apply(extract_advanced_power)"
   ],
   "metadata": {
    "collapsed": false
   }
  },
  {
   "cell_type": "code",
   "execution_count": 14,
   "outputs": [
    {
     "data": {
      "text/plain": "      Unnamed: 0                                     href  \\\n0              0  /auto-occasion-annonce-69113293722.html   \n1              1  /auto-occasion-annonce-69112883511.html   \n2              2  /auto-occasion-annonce-87102824038.html   \n3              3  /auto-occasion-annonce-69112354873.html   \n4              4  /auto-occasion-annonce-69112703036.html   \n...          ...                                      ...   \n5195        5195  /auto-occasion-annonce-69111846101.html   \n5196        5196  /auto-occasion-annonce-69112850719.html   \n5197        5197  /auto-occasion-annonce-69113029185.html   \n5198        5198  /auto-occasion-annonce-87102831129.html   \n5199        5199  /auto-occasion-annonce-69113065024.html   \n\n                            name    price  leasing  \\\n0            SKODA KAROQ phase 2  34220.0      NaN   \n1                     KIA E-NIRO  30960.0      NaN   \n2      VOLKSWAGEN POLO V phase 2  16320.0      NaN   \n3             MINI COUNTRYMAN II  23210.0    320.0   \n4                PEUGEOT 3008 II  21980.0      NaN   \n...                          ...      ...      ...   \n5195   VOLVO V40 (2E GENERATION)  19240.0    250.0   \n5196      CITROEN C3 III phase 2  15460.0    210.0   \n5197       FORD ECOSPORT phase 2  16510.0    220.0   \n5198  NISSAN X-TRAIL III phase 2  25980.0      NaN   \n5199             PEUGEOT 5008 II  28070.0      NaN   \n\n                                             equipments    date  \\\n0     ['Autre', 'Jantes alliage 19\\'\\' \"SAGITARIUS\" ...  2023.0   \n1     ['Extérieur et Chassis', 'Rétroviseurs rabatta...  2021.0   \n2     ['Extérieur et Chassis', 'Rétroviseurs extérie...  2017.0   \n3     ['Extérieur et Chassis', 'Aide parking', 'Jant...  2018.0   \n4     ['Extérieur et Chassis', 'Aide parking', 'Rada...  2020.0   \n...                                                 ...     ...   \n5195  ['Extérieur et Chassis', 'Jantes alu', 'Peintu...  2020.0   \n5196  ['Extérieur et Chassis', 'Aide parking', 'Jant...  2022.0   \n5197  ['Extérieur et Chassis', 'Aide parking', 'Jant...  2022.0   \n5198  ['Extérieur et Chassis', 'Phares à allumage au...  2020.0   \n5199  ['Extérieur et Chassis', 'Attelage', 'Pack vis...  2020.0   \n\n                                  motor        fuel transmission  ...  \\\n0                 2.0 TDI 116 SPORTLINE      Diesel  Automatique  ...   \n1                   204ch 64kWh PREMIUM  Electrique  Automatique  ...   \n2                    1.2 TSI 90 ALLSTAR     Essence  Automatique  ...   \n3                        2.0 150 COOPER      Diesel  Automatique  ...   \n4               1.2 PURETECH 130 ALLURE     Essence  Automatique  ...   \n...                                 ...         ...          ...  ...   \n5195  II (2) 2.0 D2 ADBLUE 120 BUSINESS      Diesel     Manuelle  ...   \n5196              1.2 PURETECH 83 SHINE     Essence     Manuelle  ...   \n5197            1.0 ECOBOOST 125 ACTIVE     Essence     Manuelle  ...   \n5198             1.7 DCI 150 N-CONNECTA      Diesel  Automatique  ...   \n5199            1.2 PURETECH 130 ALLURE     Essence  Automatique  ...   \n\n      kilometers  doors  seats  images  defauts  \\\n0        11696.0    5.0    5.0     NaN      NaN   \n1        43291.0    5.0    5.0     NaN      NaN   \n2        75500.0    5.0    5.0     NaN      NaN   \n3        91796.0    5.0    5.0     NaN      NaN   \n4        68310.0    5.0    5.0     NaN      NaN   \n...          ...    ...    ...     ...      ...   \n5195     63174.0    5.0    5.0     NaN      NaN   \n5196     22629.0    5.0    5.0     NaN      NaN   \n5197     94729.0    5.0    5.0     NaN      NaN   \n5198     75674.0    5.0    5.0     NaN      NaN   \n5199     45156.0    5.0    7.0     NaN      NaN   \n\n                            location critair  \\\n0                        NIMES 30900     2.0   \n1                   MONTELIMAR 26200     0.0   \n2           FONTENAY LE FLEURY 78330     1.0   \n3                    BESSIERES 31660     2.0   \n4     CHATILLON SUR CHALARONNE 01400     1.0   \n...                              ...     ...   \n5195                CONTRISSON 55800     2.0   \n5196                  NANTERRE 92000     1.0   \n5197                  NANTERRE 92000     1.0   \n5198         CHARNAY LES MACON 71850     2.0   \n5199                  MERIGNAC 33700     1.0   \n\n                                                  extra displacement power  \n0     {'year': '2023', 'kilometers': ' 11 696 km', '...          2.0   116  \n1     {'year': '2021', 'kilometers': ' 43 291 km', '...         None  None  \n2     {'year': '2017', 'kilometers': ' 75 500 km', '...          1.2    90  \n3     {'year': '2018', 'kilometers': ' 91 796 km', '...          2.0   150  \n4     {'year': '2020', 'kilometers': ' 68 310 km', '...          1.2   130  \n...                                                 ...          ...   ...  \n5195  {'year': '2020', 'kilometers': ' 63 174 km', '...          2.0   120  \n5196  {'year': '2022', 'kilometers': ' 22 629 km', '...          1.2    83  \n5197  {'year': '2022', 'kilometers': ' 94 729 km', '...          1.0   125  \n5198  {'year': '2020', 'kilometers': ' 75 674 km', '...          1.7   150  \n5199  {'year': '2020', 'kilometers': ' 45 156 km', '...          1.2   130  \n\n[5200 rows x 21 columns]",
      "text/html": "<div>\n<style scoped>\n    .dataframe tbody tr th:only-of-type {\n        vertical-align: middle;\n    }\n\n    .dataframe tbody tr th {\n        vertical-align: top;\n    }\n\n    .dataframe thead th {\n        text-align: right;\n    }\n</style>\n<table border=\"1\" class=\"dataframe\">\n  <thead>\n    <tr style=\"text-align: right;\">\n      <th></th>\n      <th>Unnamed: 0</th>\n      <th>href</th>\n      <th>name</th>\n      <th>price</th>\n      <th>leasing</th>\n      <th>equipments</th>\n      <th>date</th>\n      <th>motor</th>\n      <th>fuel</th>\n      <th>transmission</th>\n      <th>...</th>\n      <th>kilometers</th>\n      <th>doors</th>\n      <th>seats</th>\n      <th>images</th>\n      <th>defauts</th>\n      <th>location</th>\n      <th>critair</th>\n      <th>extra</th>\n      <th>displacement</th>\n      <th>power</th>\n    </tr>\n  </thead>\n  <tbody>\n    <tr>\n      <th>0</th>\n      <td>0</td>\n      <td>/auto-occasion-annonce-69113293722.html</td>\n      <td>SKODA KAROQ phase 2</td>\n      <td>34220.0</td>\n      <td>NaN</td>\n      <td>['Autre', 'Jantes alliage 19\\'\\' \"SAGITARIUS\" ...</td>\n      <td>2023.0</td>\n      <td>2.0 TDI 116 SPORTLINE</td>\n      <td>Diesel</td>\n      <td>Automatique</td>\n      <td>...</td>\n      <td>11696.0</td>\n      <td>5.0</td>\n      <td>5.0</td>\n      <td>NaN</td>\n      <td>NaN</td>\n      <td>NIMES 30900</td>\n      <td>2.0</td>\n      <td>{'year': '2023', 'kilometers': ' 11 696 km', '...</td>\n      <td>2.0</td>\n      <td>116</td>\n    </tr>\n    <tr>\n      <th>1</th>\n      <td>1</td>\n      <td>/auto-occasion-annonce-69112883511.html</td>\n      <td>KIA E-NIRO</td>\n      <td>30960.0</td>\n      <td>NaN</td>\n      <td>['Extérieur et Chassis', 'Rétroviseurs rabatta...</td>\n      <td>2021.0</td>\n      <td>204ch 64kWh PREMIUM</td>\n      <td>Electrique</td>\n      <td>Automatique</td>\n      <td>...</td>\n      <td>43291.0</td>\n      <td>5.0</td>\n      <td>5.0</td>\n      <td>NaN</td>\n      <td>NaN</td>\n      <td>MONTELIMAR 26200</td>\n      <td>0.0</td>\n      <td>{'year': '2021', 'kilometers': ' 43 291 km', '...</td>\n      <td>None</td>\n      <td>None</td>\n    </tr>\n    <tr>\n      <th>2</th>\n      <td>2</td>\n      <td>/auto-occasion-annonce-87102824038.html</td>\n      <td>VOLKSWAGEN POLO V phase 2</td>\n      <td>16320.0</td>\n      <td>NaN</td>\n      <td>['Extérieur et Chassis', 'Rétroviseurs extérie...</td>\n      <td>2017.0</td>\n      <td>1.2 TSI 90 ALLSTAR</td>\n      <td>Essence</td>\n      <td>Automatique</td>\n      <td>...</td>\n      <td>75500.0</td>\n      <td>5.0</td>\n      <td>5.0</td>\n      <td>NaN</td>\n      <td>NaN</td>\n      <td>FONTENAY LE FLEURY 78330</td>\n      <td>1.0</td>\n      <td>{'year': '2017', 'kilometers': ' 75 500 km', '...</td>\n      <td>1.2</td>\n      <td>90</td>\n    </tr>\n    <tr>\n      <th>3</th>\n      <td>3</td>\n      <td>/auto-occasion-annonce-69112354873.html</td>\n      <td>MINI COUNTRYMAN II</td>\n      <td>23210.0</td>\n      <td>320.0</td>\n      <td>['Extérieur et Chassis', 'Aide parking', 'Jant...</td>\n      <td>2018.0</td>\n      <td>2.0 150 COOPER</td>\n      <td>Diesel</td>\n      <td>Automatique</td>\n      <td>...</td>\n      <td>91796.0</td>\n      <td>5.0</td>\n      <td>5.0</td>\n      <td>NaN</td>\n      <td>NaN</td>\n      <td>BESSIERES 31660</td>\n      <td>2.0</td>\n      <td>{'year': '2018', 'kilometers': ' 91 796 km', '...</td>\n      <td>2.0</td>\n      <td>150</td>\n    </tr>\n    <tr>\n      <th>4</th>\n      <td>4</td>\n      <td>/auto-occasion-annonce-69112703036.html</td>\n      <td>PEUGEOT 3008 II</td>\n      <td>21980.0</td>\n      <td>NaN</td>\n      <td>['Extérieur et Chassis', 'Aide parking', 'Rada...</td>\n      <td>2020.0</td>\n      <td>1.2 PURETECH 130 ALLURE</td>\n      <td>Essence</td>\n      <td>Automatique</td>\n      <td>...</td>\n      <td>68310.0</td>\n      <td>5.0</td>\n      <td>5.0</td>\n      <td>NaN</td>\n      <td>NaN</td>\n      <td>CHATILLON SUR CHALARONNE 01400</td>\n      <td>1.0</td>\n      <td>{'year': '2020', 'kilometers': ' 68 310 km', '...</td>\n      <td>1.2</td>\n      <td>130</td>\n    </tr>\n    <tr>\n      <th>...</th>\n      <td>...</td>\n      <td>...</td>\n      <td>...</td>\n      <td>...</td>\n      <td>...</td>\n      <td>...</td>\n      <td>...</td>\n      <td>...</td>\n      <td>...</td>\n      <td>...</td>\n      <td>...</td>\n      <td>...</td>\n      <td>...</td>\n      <td>...</td>\n      <td>...</td>\n      <td>...</td>\n      <td>...</td>\n      <td>...</td>\n      <td>...</td>\n      <td>...</td>\n      <td>...</td>\n    </tr>\n    <tr>\n      <th>5195</th>\n      <td>5195</td>\n      <td>/auto-occasion-annonce-69111846101.html</td>\n      <td>VOLVO V40 (2E GENERATION)</td>\n      <td>19240.0</td>\n      <td>250.0</td>\n      <td>['Extérieur et Chassis', 'Jantes alu', 'Peintu...</td>\n      <td>2020.0</td>\n      <td>II (2) 2.0 D2 ADBLUE 120 BUSINESS</td>\n      <td>Diesel</td>\n      <td>Manuelle</td>\n      <td>...</td>\n      <td>63174.0</td>\n      <td>5.0</td>\n      <td>5.0</td>\n      <td>NaN</td>\n      <td>NaN</td>\n      <td>CONTRISSON 55800</td>\n      <td>2.0</td>\n      <td>{'year': '2020', 'kilometers': ' 63 174 km', '...</td>\n      <td>2.0</td>\n      <td>120</td>\n    </tr>\n    <tr>\n      <th>5196</th>\n      <td>5196</td>\n      <td>/auto-occasion-annonce-69112850719.html</td>\n      <td>CITROEN C3 III phase 2</td>\n      <td>15460.0</td>\n      <td>210.0</td>\n      <td>['Extérieur et Chassis', 'Aide parking', 'Jant...</td>\n      <td>2022.0</td>\n      <td>1.2 PURETECH 83 SHINE</td>\n      <td>Essence</td>\n      <td>Manuelle</td>\n      <td>...</td>\n      <td>22629.0</td>\n      <td>5.0</td>\n      <td>5.0</td>\n      <td>NaN</td>\n      <td>NaN</td>\n      <td>NANTERRE 92000</td>\n      <td>1.0</td>\n      <td>{'year': '2022', 'kilometers': ' 22 629 km', '...</td>\n      <td>1.2</td>\n      <td>83</td>\n    </tr>\n    <tr>\n      <th>5197</th>\n      <td>5197</td>\n      <td>/auto-occasion-annonce-69113029185.html</td>\n      <td>FORD ECOSPORT phase 2</td>\n      <td>16510.0</td>\n      <td>220.0</td>\n      <td>['Extérieur et Chassis', 'Aide parking', 'Jant...</td>\n      <td>2022.0</td>\n      <td>1.0 ECOBOOST 125 ACTIVE</td>\n      <td>Essence</td>\n      <td>Manuelle</td>\n      <td>...</td>\n      <td>94729.0</td>\n      <td>5.0</td>\n      <td>5.0</td>\n      <td>NaN</td>\n      <td>NaN</td>\n      <td>NANTERRE 92000</td>\n      <td>1.0</td>\n      <td>{'year': '2022', 'kilometers': ' 94 729 km', '...</td>\n      <td>1.0</td>\n      <td>125</td>\n    </tr>\n    <tr>\n      <th>5198</th>\n      <td>5198</td>\n      <td>/auto-occasion-annonce-87102831129.html</td>\n      <td>NISSAN X-TRAIL III phase 2</td>\n      <td>25980.0</td>\n      <td>NaN</td>\n      <td>['Extérieur et Chassis', 'Phares à allumage au...</td>\n      <td>2020.0</td>\n      <td>1.7 DCI 150 N-CONNECTA</td>\n      <td>Diesel</td>\n      <td>Automatique</td>\n      <td>...</td>\n      <td>75674.0</td>\n      <td>5.0</td>\n      <td>5.0</td>\n      <td>NaN</td>\n      <td>NaN</td>\n      <td>CHARNAY LES MACON 71850</td>\n      <td>2.0</td>\n      <td>{'year': '2020', 'kilometers': ' 75 674 km', '...</td>\n      <td>1.7</td>\n      <td>150</td>\n    </tr>\n    <tr>\n      <th>5199</th>\n      <td>5199</td>\n      <td>/auto-occasion-annonce-69113065024.html</td>\n      <td>PEUGEOT 5008 II</td>\n      <td>28070.0</td>\n      <td>NaN</td>\n      <td>['Extérieur et Chassis', 'Attelage', 'Pack vis...</td>\n      <td>2020.0</td>\n      <td>1.2 PURETECH 130 ALLURE</td>\n      <td>Essence</td>\n      <td>Automatique</td>\n      <td>...</td>\n      <td>45156.0</td>\n      <td>5.0</td>\n      <td>7.0</td>\n      <td>NaN</td>\n      <td>NaN</td>\n      <td>MERIGNAC 33700</td>\n      <td>1.0</td>\n      <td>{'year': '2020', 'kilometers': ' 45 156 km', '...</td>\n      <td>1.2</td>\n      <td>130</td>\n    </tr>\n  </tbody>\n</table>\n<p>5200 rows × 21 columns</p>\n</div>"
     },
     "execution_count": 14,
     "metadata": {},
     "output_type": "execute_result"
    }
   ],
   "source": [
    "df_lacentrale"
   ],
   "metadata": {
    "collapsed": false
   }
  },
  {
   "cell_type": "code",
   "execution_count": 78,
   "outputs": [],
   "source": [
    "df.to_csv('car.csv')"
   ],
   "metadata": {
    "collapsed": false
   }
  },
  {
   "cell_type": "markdown",
   "source": [],
   "metadata": {
    "collapsed": false
   }
  },
  {
   "cell_type": "markdown",
   "source": [
    "# Common"
   ],
   "metadata": {
    "collapsed": false
   }
  },
  {
   "cell_type": "code",
   "execution_count": null,
   "outputs": [],
   "source": [],
   "metadata": {
    "collapsed": false
   }
  },
  {
   "cell_type": "code",
   "execution_count": 15,
   "outputs": [],
   "source": [
    "df = pd.concat([df_aramis, df_autosphere, df_lacentrale])"
   ],
   "metadata": {
    "collapsed": false
   }
  },
  {
   "cell_type": "code",
   "execution_count": 17,
   "outputs": [
    {
     "ename": "KeyError",
     "evalue": "\"['href' 'location' 'critair' 'extra' 'seats' 'images' 'leasing'\\n 'Unnamed: 0'] not found in axis\"",
     "output_type": "error",
     "traceback": [
      "\u001B[1;31m---------------------------------------------------------------------------\u001B[0m",
      "\u001B[1;31mKeyError\u001B[0m                                  Traceback (most recent call last)",
      "Input \u001B[1;32mIn [17]\u001B[0m, in \u001B[0;36m<cell line: 1>\u001B[1;34m()\u001B[0m\n\u001B[1;32m----> 1\u001B[0m df \u001B[38;5;241m=\u001B[39m \u001B[43mdf\u001B[49m\u001B[38;5;241;43m.\u001B[39;49m\u001B[43mdrop\u001B[49m\u001B[43m(\u001B[49m\u001B[43m[\u001B[49m\u001B[38;5;124;43m'\u001B[39;49m\u001B[38;5;124;43mhref\u001B[39;49m\u001B[38;5;124;43m'\u001B[39;49m\u001B[43m,\u001B[49m\u001B[43m \u001B[49m\u001B[38;5;124;43m'\u001B[39;49m\u001B[38;5;124;43mlocation\u001B[39;49m\u001B[38;5;124;43m'\u001B[39;49m\u001B[43m,\u001B[49m\u001B[43m \u001B[49m\u001B[38;5;124;43m'\u001B[39;49m\u001B[38;5;124;43mcritair\u001B[39;49m\u001B[38;5;124;43m'\u001B[39;49m\u001B[43m,\u001B[49m\u001B[43m \u001B[49m\u001B[38;5;124;43m'\u001B[39;49m\u001B[38;5;124;43mextra\u001B[39;49m\u001B[38;5;124;43m'\u001B[39;49m\u001B[43m,\u001B[49m\u001B[43m \u001B[49m\u001B[38;5;124;43m'\u001B[39;49m\u001B[38;5;124;43mseats\u001B[39;49m\u001B[38;5;124;43m'\u001B[39;49m\u001B[43m,\u001B[49m\u001B[43m \u001B[49m\u001B[38;5;124;43m'\u001B[39;49m\u001B[38;5;124;43mimages\u001B[39;49m\u001B[38;5;124;43m'\u001B[39;49m\u001B[43m,\u001B[49m\u001B[43m \u001B[49m\u001B[38;5;124;43m'\u001B[39;49m\u001B[38;5;124;43mleasing\u001B[39;49m\u001B[38;5;124;43m'\u001B[39;49m\u001B[43m,\u001B[49m\u001B[43m \u001B[49m\u001B[38;5;124;43m'\u001B[39;49m\u001B[38;5;124;43mUnnamed: 0\u001B[39;49m\u001B[38;5;124;43m'\u001B[39;49m\u001B[43m]\u001B[49m\u001B[43m)\u001B[49m\n",
      "File \u001B[1;32m~\\anaconda3\\lib\\site-packages\\pandas\\util\\_decorators.py:311\u001B[0m, in \u001B[0;36mdeprecate_nonkeyword_arguments.<locals>.decorate.<locals>.wrapper\u001B[1;34m(*args, **kwargs)\u001B[0m\n\u001B[0;32m    305\u001B[0m \u001B[38;5;28;01mif\u001B[39;00m \u001B[38;5;28mlen\u001B[39m(args) \u001B[38;5;241m>\u001B[39m num_allow_args:\n\u001B[0;32m    306\u001B[0m     warnings\u001B[38;5;241m.\u001B[39mwarn(\n\u001B[0;32m    307\u001B[0m         msg\u001B[38;5;241m.\u001B[39mformat(arguments\u001B[38;5;241m=\u001B[39marguments),\n\u001B[0;32m    308\u001B[0m         \u001B[38;5;167;01mFutureWarning\u001B[39;00m,\n\u001B[0;32m    309\u001B[0m         stacklevel\u001B[38;5;241m=\u001B[39mstacklevel,\n\u001B[0;32m    310\u001B[0m     )\n\u001B[1;32m--> 311\u001B[0m \u001B[38;5;28;01mreturn\u001B[39;00m func(\u001B[38;5;241m*\u001B[39margs, \u001B[38;5;241m*\u001B[39m\u001B[38;5;241m*\u001B[39mkwargs)\n",
      "File \u001B[1;32m~\\anaconda3\\lib\\site-packages\\pandas\\core\\frame.py:4954\u001B[0m, in \u001B[0;36mDataFrame.drop\u001B[1;34m(self, labels, axis, index, columns, level, inplace, errors)\u001B[0m\n\u001B[0;32m   4806\u001B[0m \u001B[38;5;129m@deprecate_nonkeyword_arguments\u001B[39m(version\u001B[38;5;241m=\u001B[39m\u001B[38;5;28;01mNone\u001B[39;00m, allowed_args\u001B[38;5;241m=\u001B[39m[\u001B[38;5;124m\"\u001B[39m\u001B[38;5;124mself\u001B[39m\u001B[38;5;124m\"\u001B[39m, \u001B[38;5;124m\"\u001B[39m\u001B[38;5;124mlabels\u001B[39m\u001B[38;5;124m\"\u001B[39m])\n\u001B[0;32m   4807\u001B[0m \u001B[38;5;28;01mdef\u001B[39;00m \u001B[38;5;21mdrop\u001B[39m(\n\u001B[0;32m   4808\u001B[0m     \u001B[38;5;28mself\u001B[39m,\n\u001B[1;32m   (...)\u001B[0m\n\u001B[0;32m   4815\u001B[0m     errors: \u001B[38;5;28mstr\u001B[39m \u001B[38;5;241m=\u001B[39m \u001B[38;5;124m\"\u001B[39m\u001B[38;5;124mraise\u001B[39m\u001B[38;5;124m\"\u001B[39m,\n\u001B[0;32m   4816\u001B[0m ):\n\u001B[0;32m   4817\u001B[0m     \u001B[38;5;124;03m\"\"\"\u001B[39;00m\n\u001B[0;32m   4818\u001B[0m \u001B[38;5;124;03m    Drop specified labels from rows or columns.\u001B[39;00m\n\u001B[0;32m   4819\u001B[0m \n\u001B[1;32m   (...)\u001B[0m\n\u001B[0;32m   4952\u001B[0m \u001B[38;5;124;03m            weight  1.0     0.8\u001B[39;00m\n\u001B[0;32m   4953\u001B[0m \u001B[38;5;124;03m    \"\"\"\u001B[39;00m\n\u001B[1;32m-> 4954\u001B[0m     \u001B[38;5;28;01mreturn\u001B[39;00m \u001B[38;5;28;43msuper\u001B[39;49m\u001B[43m(\u001B[49m\u001B[43m)\u001B[49m\u001B[38;5;241;43m.\u001B[39;49m\u001B[43mdrop\u001B[49m\u001B[43m(\u001B[49m\n\u001B[0;32m   4955\u001B[0m \u001B[43m        \u001B[49m\u001B[43mlabels\u001B[49m\u001B[38;5;241;43m=\u001B[39;49m\u001B[43mlabels\u001B[49m\u001B[43m,\u001B[49m\n\u001B[0;32m   4956\u001B[0m \u001B[43m        \u001B[49m\u001B[43maxis\u001B[49m\u001B[38;5;241;43m=\u001B[39;49m\u001B[43maxis\u001B[49m\u001B[43m,\u001B[49m\n\u001B[0;32m   4957\u001B[0m \u001B[43m        \u001B[49m\u001B[43mindex\u001B[49m\u001B[38;5;241;43m=\u001B[39;49m\u001B[43mindex\u001B[49m\u001B[43m,\u001B[49m\n\u001B[0;32m   4958\u001B[0m \u001B[43m        \u001B[49m\u001B[43mcolumns\u001B[49m\u001B[38;5;241;43m=\u001B[39;49m\u001B[43mcolumns\u001B[49m\u001B[43m,\u001B[49m\n\u001B[0;32m   4959\u001B[0m \u001B[43m        \u001B[49m\u001B[43mlevel\u001B[49m\u001B[38;5;241;43m=\u001B[39;49m\u001B[43mlevel\u001B[49m\u001B[43m,\u001B[49m\n\u001B[0;32m   4960\u001B[0m \u001B[43m        \u001B[49m\u001B[43minplace\u001B[49m\u001B[38;5;241;43m=\u001B[39;49m\u001B[43minplace\u001B[49m\u001B[43m,\u001B[49m\n\u001B[0;32m   4961\u001B[0m \u001B[43m        \u001B[49m\u001B[43merrors\u001B[49m\u001B[38;5;241;43m=\u001B[39;49m\u001B[43merrors\u001B[49m\u001B[43m,\u001B[49m\n\u001B[0;32m   4962\u001B[0m \u001B[43m    \u001B[49m\u001B[43m)\u001B[49m\n",
      "File \u001B[1;32m~\\anaconda3\\lib\\site-packages\\pandas\\core\\generic.py:4267\u001B[0m, in \u001B[0;36mNDFrame.drop\u001B[1;34m(self, labels, axis, index, columns, level, inplace, errors)\u001B[0m\n\u001B[0;32m   4265\u001B[0m \u001B[38;5;28;01mfor\u001B[39;00m axis, labels \u001B[38;5;129;01min\u001B[39;00m axes\u001B[38;5;241m.\u001B[39mitems():\n\u001B[0;32m   4266\u001B[0m     \u001B[38;5;28;01mif\u001B[39;00m labels \u001B[38;5;129;01mis\u001B[39;00m \u001B[38;5;129;01mnot\u001B[39;00m \u001B[38;5;28;01mNone\u001B[39;00m:\n\u001B[1;32m-> 4267\u001B[0m         obj \u001B[38;5;241m=\u001B[39m \u001B[43mobj\u001B[49m\u001B[38;5;241;43m.\u001B[39;49m\u001B[43m_drop_axis\u001B[49m\u001B[43m(\u001B[49m\u001B[43mlabels\u001B[49m\u001B[43m,\u001B[49m\u001B[43m \u001B[49m\u001B[43maxis\u001B[49m\u001B[43m,\u001B[49m\u001B[43m \u001B[49m\u001B[43mlevel\u001B[49m\u001B[38;5;241;43m=\u001B[39;49m\u001B[43mlevel\u001B[49m\u001B[43m,\u001B[49m\u001B[43m \u001B[49m\u001B[43merrors\u001B[49m\u001B[38;5;241;43m=\u001B[39;49m\u001B[43merrors\u001B[49m\u001B[43m)\u001B[49m\n\u001B[0;32m   4269\u001B[0m \u001B[38;5;28;01mif\u001B[39;00m inplace:\n\u001B[0;32m   4270\u001B[0m     \u001B[38;5;28mself\u001B[39m\u001B[38;5;241m.\u001B[39m_update_inplace(obj)\n",
      "File \u001B[1;32m~\\anaconda3\\lib\\site-packages\\pandas\\core\\generic.py:4340\u001B[0m, in \u001B[0;36mNDFrame._drop_axis\u001B[1;34m(self, labels, axis, level, errors, consolidate, only_slice)\u001B[0m\n\u001B[0;32m   4338\u001B[0m     labels_missing \u001B[38;5;241m=\u001B[39m (axis\u001B[38;5;241m.\u001B[39mget_indexer_for(labels) \u001B[38;5;241m==\u001B[39m \u001B[38;5;241m-\u001B[39m\u001B[38;5;241m1\u001B[39m)\u001B[38;5;241m.\u001B[39many()\n\u001B[0;32m   4339\u001B[0m     \u001B[38;5;28;01mif\u001B[39;00m errors \u001B[38;5;241m==\u001B[39m \u001B[38;5;124m\"\u001B[39m\u001B[38;5;124mraise\u001B[39m\u001B[38;5;124m\"\u001B[39m \u001B[38;5;129;01mand\u001B[39;00m labels_missing:\n\u001B[1;32m-> 4340\u001B[0m         \u001B[38;5;28;01mraise\u001B[39;00m \u001B[38;5;167;01mKeyError\u001B[39;00m(\u001B[38;5;124mf\u001B[39m\u001B[38;5;124m\"\u001B[39m\u001B[38;5;132;01m{\u001B[39;00mlabels\u001B[38;5;132;01m}\u001B[39;00m\u001B[38;5;124m not found in axis\u001B[39m\u001B[38;5;124m\"\u001B[39m)\n\u001B[0;32m   4342\u001B[0m \u001B[38;5;28;01mif\u001B[39;00m is_extension_array_dtype(mask\u001B[38;5;241m.\u001B[39mdtype):\n\u001B[0;32m   4343\u001B[0m     \u001B[38;5;66;03m# GH#45860\u001B[39;00m\n\u001B[0;32m   4344\u001B[0m     mask \u001B[38;5;241m=\u001B[39m mask\u001B[38;5;241m.\u001B[39mto_numpy(dtype\u001B[38;5;241m=\u001B[39m\u001B[38;5;28mbool\u001B[39m)\n",
      "\u001B[1;31mKeyError\u001B[0m: \"['href' 'location' 'critair' 'extra' 'seats' 'images' 'leasing'\\n 'Unnamed: 0'] not found in axis\""
     ]
    }
   ],
   "source": [
    "df = df.drop(['href', 'location', 'critair', 'extra', 'seats', 'images', 'leasing', 'Unnamed: 0'])"
   ],
   "metadata": {
    "collapsed": false
   }
  },
  {
   "cell_type": "code",
   "execution_count": null,
   "outputs": [],
   "source": [
    "df.to_csv('cars.csv')"
   ],
   "metadata": {
    "collapsed": false
   }
  },
  {
   "cell_type": "code",
   "execution_count": 211,
   "outputs": [],
   "source": [],
   "metadata": {
    "collapsed": false
   }
  },
  {
   "cell_type": "code",
   "execution_count": 40,
   "outputs": [
    {
     "name": "stderr",
     "output_type": "stream",
     "text": [
      "C:\\Users\\Enzo\\AppData\\Local\\Temp\\ipykernel_21732\\1569515942.py:22: SettingWithCopyWarning: \n",
      "A value is trying to be set on a copy of a slice from a DataFrame.\n",
      "Try using .loc[row_indexer,col_indexer] = value instead\n",
      "\n",
      "See the caveats in the documentation: https://pandas.pydata.org/pandas-docs/stable/user_guide/indexing.html#returning-a-view-versus-a-copy\n",
      "  df['motorization_type'], df['trim_level'] = zip(*df['motor'].apply(extract_updated_motorization_and_trim))\n",
      "C:\\Users\\Enzo\\AppData\\Local\\Temp\\ipykernel_21732\\1569515942.py:22: SettingWithCopyWarning: \n",
      "A value is trying to be set on a copy of a slice from a DataFrame.\n",
      "Try using .loc[row_indexer,col_indexer] = value instead\n",
      "\n",
      "See the caveats in the documentation: https://pandas.pydata.org/pandas-docs/stable/user_guide/indexing.html#returning-a-view-versus-a-copy\n",
      "  df['motorization_type'], df['trim_level'] = zip(*df['motor'].apply(extract_updated_motorization_and_trim))\n"
     ]
    }
   ],
   "source": [
    "# Mise à jour des listes de termes pour les motorisations et les finitions\n",
    "# Inclusion des nouveaux termes identifiés et pertinents\n",
    "updated_motorization_terms = ['PureTech', 'TCe', 'BlueHDi', 'TSI', 'FAP', 'TDI', 'E-Tech',] + ['VVT-i', 'VTi', 'CDI', 'One', 'dCi', 'CRDi', 'Twinport', '116i', 'Ti-VCT', 'Dualjet', 'D3', 'D4', 'D5', 'TFSI', 'CDTI', 'Multijet', 'DIG-T', 'TDCi', 'T-Jet', 'T-GDi', '180d', ' D ', 'EcoBoost', 'MultiAir', 'Twin Air', 'i-VTEC', 'skyactiv', 'hdi', 'i-dtec']\n",
    "updated_trim_levels = ['Business', 'Line', 'Allure', 'Intens', 'Pack', 'GT', 'Active', 'Shine', 'Edition', 'Feel', 'Turbo', 'Performance']\n",
    "technologies = ['VVT-i', 'VTi']\n",
    "def extract_updated_motorization_and_trim(motor_str):\n",
    "    \"\"\"\n",
    "    Extrait les types de motorisation et les niveaux de finition mis à jour de la chaîne de caractères.\n",
    "    \"\"\"\n",
    "    if pd.isna(motor_str):\n",
    "        return None, None\n",
    "\n",
    "    # Trouver le type de motorisation mis à jour\n",
    "    motorization_type = next((term for term in updated_motorization_terms if term.lower() in motor_str.lower()), None)\n",
    "\n",
    "    # Trouver le niveau de finition mis à jour\n",
    "    trim_level = next((term for term in updated_trim_levels if term in motor_str), None)\n",
    "\n",
    "    return motorization_type, trim_level\n",
    "\n",
    "# Application de la fonction d'extraction mise à jour au DataFrame\n",
    "df['motorization_type'], df['trim_level'] = zip(*df['motor'].apply(extract_updated_motorization_and_trim))\n",
    "\n"
   ],
   "metadata": {
    "collapsed": false
   }
  },
  {
   "cell_type": "code",
   "execution_count": 18,
   "outputs": [],
   "source": [
    "from unidecode import unidecode"
   ],
   "metadata": {
    "collapsed": false
   }
  },
  {
   "cell_type": "code",
   "execution_count": 26,
   "outputs": [],
   "source": [
    "df = df[~df['name'].isna()]"
   ],
   "metadata": {
    "collapsed": false
   }
  },
  {
   "cell_type": "code",
   "execution_count": 27,
   "outputs": [
    {
     "name": "stderr",
     "output_type": "stream",
     "text": [
      "C:\\Users\\Enzo\\AppData\\Local\\Temp\\ipykernel_21732\\3551329104.py:1: SettingWithCopyWarning: \n",
      "A value is trying to be set on a copy of a slice from a DataFrame.\n",
      "Try using .loc[row_indexer,col_indexer] = value instead\n",
      "\n",
      "See the caveats in the documentation: https://pandas.pydata.org/pandas-docs/stable/user_guide/indexing.html#returning-a-view-versus-a-copy\n",
      "  df['name'] = df['name'].apply(lambda row: unidecode(row.lower()))\n"
     ]
    }
   ],
   "source": [
    "df['name'] = df['name'].apply(lambda row: unidecode(row.lower()))"
   ],
   "metadata": {
    "collapsed": false
   }
  },
  {
   "cell_type": "code",
   "execution_count": null,
   "outputs": [],
   "source": [
    "df['transmission'] = df['transmission'].apply(lambda row: 'manuelle' if 'manuelle' in row else ('automatique' if 'automatique' in row else None))"
   ],
   "metadata": {
    "collapsed": false
   }
  },
  {
   "cell_type": "code",
   "execution_count": null,
   "outputs": [],
   "source": [
    "df[['name', 'equipments', 'date', 'fuel', 'transmission', 'kilometers', 'doors', 'defauts', 'seller', 'power', 'displacement', 'motorization_type', 'trim_level']]"
   ],
   "metadata": {
    "collapsed": false
   }
  },
  {
   "cell_type": "code",
   "execution_count": 37,
   "outputs": [],
   "source": [
    "import pickle\n",
    "\n",
    "with open('model_equipments.pkl', 'rb') as model_file:\n",
    "    label_encoder, loaded_clf = pickle.load(model_file)"
   ],
   "metadata": {
    "collapsed": false
   }
  },
  {
   "cell_type": "code",
   "execution_count": 218,
   "outputs": [],
   "source": [
    "def sum_prices(row, equipments_price):\n",
    "    total = 0\n",
    "    for equipment in row:\n",
    "        total += equipments_price.get(equipment, 0)\n",
    "    return total"
   ],
   "metadata": {
    "collapsed": false
   }
  },
  {
   "cell_type": "code",
   "execution_count": 32,
   "outputs": [],
   "source": [
    "categories = {\n",
    "    'Assistance à la conduite',\n",
    "    'Confort',\n",
    "    'Eléments extérieurs',\n",
    "    'Garanties et services',\n",
    "    \"Matériaux de l'habitacle\",\n",
    "    'Performance et ingénierie',\n",
    "    'Performances électroniques',\n",
    "    'Personalisation',\n",
    "    'Personnalisation',\n",
    "    'Pratique',\n",
    "    'Prestige de la marque',\n",
    "    \"Système d'infodivertissement avancé\",\n",
    "    'Sécurité',\n",
    "    'Technologies écologiques',\n",
    "    'Éléments extérieurs'\n",
    "}"
   ],
   "metadata": {
    "collapsed": false
   }
  },
  {
   "cell_type": "code",
   "execution_count": 33,
   "outputs": [],
   "source": [
    "quality_map = {\n",
    "    'basique': 1,\n",
    "    'Basique': 1,\n",
    "    'Basic': 1,\n",
    "    'intermédiaire': 2,\n",
    "    'Intermédiaire': 2,\n",
    "    'Intermediate': 2,\n",
    "    'intermediaire': 2,\n",
    "    'premium': 3,\n",
    "    'Premium': 3,\n",
    "    'Premier': 3,\n",
    "}"
   ],
   "metadata": {
    "collapsed": false
   }
  },
  {
   "cell_type": "code",
   "execution_count": 34,
   "outputs": [],
   "source": [
    "def count_category(row, category):\n",
    "    total = 0\n",
    "    n = 0\n",
    "    for prediction, score in row:\n",
    "        if prediction == category:\n",
    "            total += score\n",
    "            n += 1\n",
    "    if n > 0:\n",
    "        return total / n\n",
    "    else:\n",
    "        return None"
   ],
   "metadata": {
    "collapsed": false
   }
  },
  {
   "cell_type": "code",
   "execution_count": 35,
   "outputs": [
    {
     "ename": "TypeError",
     "evalue": "eval() arg 1 must be a string, bytes or code object",
     "output_type": "error",
     "traceback": [
      "\u001B[1;31m---------------------------------------------------------------------------\u001B[0m",
      "\u001B[1;31mTypeError\u001B[0m                                 Traceback (most recent call last)",
      "Input \u001B[1;32mIn [35]\u001B[0m, in \u001B[0;36m<cell line: 1>\u001B[1;34m()\u001B[0m\n\u001B[1;32m----> 1\u001B[0m df[\u001B[38;5;124m'\u001B[39m\u001B[38;5;124mequipments\u001B[39m\u001B[38;5;124m'\u001B[39m] \u001B[38;5;241m=\u001B[39m \u001B[43mdf\u001B[49m\u001B[43m[\u001B[49m\u001B[38;5;124;43m'\u001B[39;49m\u001B[38;5;124;43mequipments\u001B[39;49m\u001B[38;5;124;43m'\u001B[39;49m\u001B[43m]\u001B[49m\u001B[38;5;241;43m.\u001B[39;49m\u001B[43mapply\u001B[49m\u001B[43m(\u001B[49m\u001B[38;5;28;43meval\u001B[39;49m\u001B[43m)\u001B[49m\n",
      "File \u001B[1;32m~\\anaconda3\\lib\\site-packages\\pandas\\core\\series.py:4433\u001B[0m, in \u001B[0;36mSeries.apply\u001B[1;34m(self, func, convert_dtype, args, **kwargs)\u001B[0m\n\u001B[0;32m   4323\u001B[0m \u001B[38;5;28;01mdef\u001B[39;00m \u001B[38;5;21mapply\u001B[39m(\n\u001B[0;32m   4324\u001B[0m     \u001B[38;5;28mself\u001B[39m,\n\u001B[0;32m   4325\u001B[0m     func: AggFuncType,\n\u001B[1;32m   (...)\u001B[0m\n\u001B[0;32m   4328\u001B[0m     \u001B[38;5;241m*\u001B[39m\u001B[38;5;241m*\u001B[39mkwargs,\n\u001B[0;32m   4329\u001B[0m ) \u001B[38;5;241m-\u001B[39m\u001B[38;5;241m>\u001B[39m DataFrame \u001B[38;5;241m|\u001B[39m Series:\n\u001B[0;32m   4330\u001B[0m     \u001B[38;5;124;03m\"\"\"\u001B[39;00m\n\u001B[0;32m   4331\u001B[0m \u001B[38;5;124;03m    Invoke function on values of Series.\u001B[39;00m\n\u001B[0;32m   4332\u001B[0m \n\u001B[1;32m   (...)\u001B[0m\n\u001B[0;32m   4431\u001B[0m \u001B[38;5;124;03m    dtype: float64\u001B[39;00m\n\u001B[0;32m   4432\u001B[0m \u001B[38;5;124;03m    \"\"\"\u001B[39;00m\n\u001B[1;32m-> 4433\u001B[0m     \u001B[38;5;28;01mreturn\u001B[39;00m \u001B[43mSeriesApply\u001B[49m\u001B[43m(\u001B[49m\u001B[38;5;28;43mself\u001B[39;49m\u001B[43m,\u001B[49m\u001B[43m \u001B[49m\u001B[43mfunc\u001B[49m\u001B[43m,\u001B[49m\u001B[43m \u001B[49m\u001B[43mconvert_dtype\u001B[49m\u001B[43m,\u001B[49m\u001B[43m \u001B[49m\u001B[43margs\u001B[49m\u001B[43m,\u001B[49m\u001B[43m \u001B[49m\u001B[43mkwargs\u001B[49m\u001B[43m)\u001B[49m\u001B[38;5;241;43m.\u001B[39;49m\u001B[43mapply\u001B[49m\u001B[43m(\u001B[49m\u001B[43m)\u001B[49m\n",
      "File \u001B[1;32m~\\anaconda3\\lib\\site-packages\\pandas\\core\\apply.py:1082\u001B[0m, in \u001B[0;36mSeriesApply.apply\u001B[1;34m(self)\u001B[0m\n\u001B[0;32m   1078\u001B[0m \u001B[38;5;28;01mif\u001B[39;00m \u001B[38;5;28misinstance\u001B[39m(\u001B[38;5;28mself\u001B[39m\u001B[38;5;241m.\u001B[39mf, \u001B[38;5;28mstr\u001B[39m):\n\u001B[0;32m   1079\u001B[0m     \u001B[38;5;66;03m# if we are a string, try to dispatch\u001B[39;00m\n\u001B[0;32m   1080\u001B[0m     \u001B[38;5;28;01mreturn\u001B[39;00m \u001B[38;5;28mself\u001B[39m\u001B[38;5;241m.\u001B[39mapply_str()\n\u001B[1;32m-> 1082\u001B[0m \u001B[38;5;28;01mreturn\u001B[39;00m \u001B[38;5;28;43mself\u001B[39;49m\u001B[38;5;241;43m.\u001B[39;49m\u001B[43mapply_standard\u001B[49m\u001B[43m(\u001B[49m\u001B[43m)\u001B[49m\n",
      "File \u001B[1;32m~\\anaconda3\\lib\\site-packages\\pandas\\core\\apply.py:1137\u001B[0m, in \u001B[0;36mSeriesApply.apply_standard\u001B[1;34m(self)\u001B[0m\n\u001B[0;32m   1131\u001B[0m         values \u001B[38;5;241m=\u001B[39m obj\u001B[38;5;241m.\u001B[39mastype(\u001B[38;5;28mobject\u001B[39m)\u001B[38;5;241m.\u001B[39m_values\n\u001B[0;32m   1132\u001B[0m         \u001B[38;5;66;03m# error: Argument 2 to \"map_infer\" has incompatible type\u001B[39;00m\n\u001B[0;32m   1133\u001B[0m         \u001B[38;5;66;03m# \"Union[Callable[..., Any], str, List[Union[Callable[..., Any], str]],\u001B[39;00m\n\u001B[0;32m   1134\u001B[0m         \u001B[38;5;66;03m# Dict[Hashable, Union[Union[Callable[..., Any], str],\u001B[39;00m\n\u001B[0;32m   1135\u001B[0m         \u001B[38;5;66;03m# List[Union[Callable[..., Any], str]]]]]\"; expected\u001B[39;00m\n\u001B[0;32m   1136\u001B[0m         \u001B[38;5;66;03m# \"Callable[[Any], Any]\"\u001B[39;00m\n\u001B[1;32m-> 1137\u001B[0m         mapped \u001B[38;5;241m=\u001B[39m \u001B[43mlib\u001B[49m\u001B[38;5;241;43m.\u001B[39;49m\u001B[43mmap_infer\u001B[49m\u001B[43m(\u001B[49m\n\u001B[0;32m   1138\u001B[0m \u001B[43m            \u001B[49m\u001B[43mvalues\u001B[49m\u001B[43m,\u001B[49m\n\u001B[0;32m   1139\u001B[0m \u001B[43m            \u001B[49m\u001B[43mf\u001B[49m\u001B[43m,\u001B[49m\u001B[43m  \u001B[49m\u001B[38;5;66;43;03m# type: ignore[arg-type]\u001B[39;49;00m\n\u001B[0;32m   1140\u001B[0m \u001B[43m            \u001B[49m\u001B[43mconvert\u001B[49m\u001B[38;5;241;43m=\u001B[39;49m\u001B[38;5;28;43mself\u001B[39;49m\u001B[38;5;241;43m.\u001B[39;49m\u001B[43mconvert_dtype\u001B[49m\u001B[43m,\u001B[49m\n\u001B[0;32m   1141\u001B[0m \u001B[43m        \u001B[49m\u001B[43m)\u001B[49m\n\u001B[0;32m   1143\u001B[0m \u001B[38;5;28;01mif\u001B[39;00m \u001B[38;5;28mlen\u001B[39m(mapped) \u001B[38;5;129;01mand\u001B[39;00m \u001B[38;5;28misinstance\u001B[39m(mapped[\u001B[38;5;241m0\u001B[39m], ABCSeries):\n\u001B[0;32m   1144\u001B[0m     \u001B[38;5;66;03m# GH#43986 Need to do list(mapped) in order to get treated as nested\u001B[39;00m\n\u001B[0;32m   1145\u001B[0m     \u001B[38;5;66;03m#  See also GH#25959 regarding EA support\u001B[39;00m\n\u001B[0;32m   1146\u001B[0m     \u001B[38;5;28;01mreturn\u001B[39;00m obj\u001B[38;5;241m.\u001B[39m_constructor_expanddim(\u001B[38;5;28mlist\u001B[39m(mapped), index\u001B[38;5;241m=\u001B[39mobj\u001B[38;5;241m.\u001B[39mindex)\n",
      "File \u001B[1;32m~\\anaconda3\\lib\\site-packages\\pandas\\_libs\\lib.pyx:2870\u001B[0m, in \u001B[0;36mpandas._libs.lib.map_infer\u001B[1;34m()\u001B[0m\n",
      "\u001B[1;31mTypeError\u001B[0m: eval() arg 1 must be a string, bytes or code object"
     ]
    }
   ],
   "source": [
    "df['equipments'] = df['equipments'].apply(eval)"
   ],
   "metadata": {
    "collapsed": false
   }
  },
  {
   "cell_type": "code",
   "execution_count": 38,
   "outputs": [
    {
     "ename": "ValueError",
     "evalue": "Iterable over raw text documents expected, string object received.",
     "output_type": "error",
     "traceback": [
      "\u001B[1;31m---------------------------------------------------------------------------\u001B[0m",
      "\u001B[1;31mValueError\u001B[0m                                Traceback (most recent call last)",
      "Input \u001B[1;32mIn [38]\u001B[0m, in \u001B[0;36m<cell line: 1>\u001B[1;34m()\u001B[0m\n\u001B[1;32m----> 1\u001B[0m df[\u001B[38;5;124m'\u001B[39m\u001B[38;5;124mpredictions\u001B[39m\u001B[38;5;124m'\u001B[39m] \u001B[38;5;241m=\u001B[39m \u001B[43mdf\u001B[49m\u001B[43m[\u001B[49m\u001B[38;5;124;43m'\u001B[39;49m\u001B[38;5;124;43mequipments\u001B[39;49m\u001B[38;5;124;43m'\u001B[39;49m\u001B[43m]\u001B[49m\u001B[38;5;241;43m.\u001B[39;49m\u001B[43mapply\u001B[49m\u001B[43m(\u001B[49m\u001B[38;5;28;43;01mlambda\u001B[39;49;00m\u001B[43m \u001B[49m\u001B[43mrow\u001B[49m\u001B[43m:\u001B[49m\u001B[43m \u001B[49m\u001B[43mloaded_clf\u001B[49m\u001B[38;5;241;43m.\u001B[39;49m\u001B[43mpredict\u001B[49m\u001B[43m(\u001B[49m\u001B[43mrow\u001B[49m\u001B[43m)\u001B[49m\u001B[43m \u001B[49m\u001B[38;5;28;43;01mif\u001B[39;49;00m\u001B[43m \u001B[49m\u001B[43mrow\u001B[49m\u001B[43m \u001B[49m\u001B[38;5;28;43;01melse\u001B[39;49;00m\u001B[43m \u001B[49m\u001B[43mrow\u001B[49m\u001B[43m)\u001B[49m\u001B[38;5;241m.\u001B[39mapply(\u001B[38;5;28;01mlambda\u001B[39;00m row: [(res\u001B[38;5;241m.\u001B[39msplit(\u001B[38;5;124m'\u001B[39m\u001B[38;5;124m - \u001B[39m\u001B[38;5;124m'\u001B[39m)[\u001B[38;5;241m0\u001B[39m], quality_map[res\u001B[38;5;241m.\u001B[39msplit(\u001B[38;5;124m'\u001B[39m\u001B[38;5;124m - \u001B[39m\u001B[38;5;124m'\u001B[39m)[\u001B[38;5;241m1\u001B[39m]]) \u001B[38;5;28;01mfor\u001B[39;00m res \u001B[38;5;129;01min\u001B[39;00m label_encoder\u001B[38;5;241m.\u001B[39minverse_transform(row)])\n",
      "File \u001B[1;32m~\\anaconda3\\lib\\site-packages\\pandas\\core\\series.py:4433\u001B[0m, in \u001B[0;36mSeries.apply\u001B[1;34m(self, func, convert_dtype, args, **kwargs)\u001B[0m\n\u001B[0;32m   4323\u001B[0m \u001B[38;5;28;01mdef\u001B[39;00m \u001B[38;5;21mapply\u001B[39m(\n\u001B[0;32m   4324\u001B[0m     \u001B[38;5;28mself\u001B[39m,\n\u001B[0;32m   4325\u001B[0m     func: AggFuncType,\n\u001B[1;32m   (...)\u001B[0m\n\u001B[0;32m   4328\u001B[0m     \u001B[38;5;241m*\u001B[39m\u001B[38;5;241m*\u001B[39mkwargs,\n\u001B[0;32m   4329\u001B[0m ) \u001B[38;5;241m-\u001B[39m\u001B[38;5;241m>\u001B[39m DataFrame \u001B[38;5;241m|\u001B[39m Series:\n\u001B[0;32m   4330\u001B[0m     \u001B[38;5;124;03m\"\"\"\u001B[39;00m\n\u001B[0;32m   4331\u001B[0m \u001B[38;5;124;03m    Invoke function on values of Series.\u001B[39;00m\n\u001B[0;32m   4332\u001B[0m \n\u001B[1;32m   (...)\u001B[0m\n\u001B[0;32m   4431\u001B[0m \u001B[38;5;124;03m    dtype: float64\u001B[39;00m\n\u001B[0;32m   4432\u001B[0m \u001B[38;5;124;03m    \"\"\"\u001B[39;00m\n\u001B[1;32m-> 4433\u001B[0m     \u001B[38;5;28;01mreturn\u001B[39;00m \u001B[43mSeriesApply\u001B[49m\u001B[43m(\u001B[49m\u001B[38;5;28;43mself\u001B[39;49m\u001B[43m,\u001B[49m\u001B[43m \u001B[49m\u001B[43mfunc\u001B[49m\u001B[43m,\u001B[49m\u001B[43m \u001B[49m\u001B[43mconvert_dtype\u001B[49m\u001B[43m,\u001B[49m\u001B[43m \u001B[49m\u001B[43margs\u001B[49m\u001B[43m,\u001B[49m\u001B[43m \u001B[49m\u001B[43mkwargs\u001B[49m\u001B[43m)\u001B[49m\u001B[38;5;241;43m.\u001B[39;49m\u001B[43mapply\u001B[49m\u001B[43m(\u001B[49m\u001B[43m)\u001B[49m\n",
      "File \u001B[1;32m~\\anaconda3\\lib\\site-packages\\pandas\\core\\apply.py:1082\u001B[0m, in \u001B[0;36mSeriesApply.apply\u001B[1;34m(self)\u001B[0m\n\u001B[0;32m   1078\u001B[0m \u001B[38;5;28;01mif\u001B[39;00m \u001B[38;5;28misinstance\u001B[39m(\u001B[38;5;28mself\u001B[39m\u001B[38;5;241m.\u001B[39mf, \u001B[38;5;28mstr\u001B[39m):\n\u001B[0;32m   1079\u001B[0m     \u001B[38;5;66;03m# if we are a string, try to dispatch\u001B[39;00m\n\u001B[0;32m   1080\u001B[0m     \u001B[38;5;28;01mreturn\u001B[39;00m \u001B[38;5;28mself\u001B[39m\u001B[38;5;241m.\u001B[39mapply_str()\n\u001B[1;32m-> 1082\u001B[0m \u001B[38;5;28;01mreturn\u001B[39;00m \u001B[38;5;28;43mself\u001B[39;49m\u001B[38;5;241;43m.\u001B[39;49m\u001B[43mapply_standard\u001B[49m\u001B[43m(\u001B[49m\u001B[43m)\u001B[49m\n",
      "File \u001B[1;32m~\\anaconda3\\lib\\site-packages\\pandas\\core\\apply.py:1137\u001B[0m, in \u001B[0;36mSeriesApply.apply_standard\u001B[1;34m(self)\u001B[0m\n\u001B[0;32m   1131\u001B[0m         values \u001B[38;5;241m=\u001B[39m obj\u001B[38;5;241m.\u001B[39mastype(\u001B[38;5;28mobject\u001B[39m)\u001B[38;5;241m.\u001B[39m_values\n\u001B[0;32m   1132\u001B[0m         \u001B[38;5;66;03m# error: Argument 2 to \"map_infer\" has incompatible type\u001B[39;00m\n\u001B[0;32m   1133\u001B[0m         \u001B[38;5;66;03m# \"Union[Callable[..., Any], str, List[Union[Callable[..., Any], str]],\u001B[39;00m\n\u001B[0;32m   1134\u001B[0m         \u001B[38;5;66;03m# Dict[Hashable, Union[Union[Callable[..., Any], str],\u001B[39;00m\n\u001B[0;32m   1135\u001B[0m         \u001B[38;5;66;03m# List[Union[Callable[..., Any], str]]]]]\"; expected\u001B[39;00m\n\u001B[0;32m   1136\u001B[0m         \u001B[38;5;66;03m# \"Callable[[Any], Any]\"\u001B[39;00m\n\u001B[1;32m-> 1137\u001B[0m         mapped \u001B[38;5;241m=\u001B[39m \u001B[43mlib\u001B[49m\u001B[38;5;241;43m.\u001B[39;49m\u001B[43mmap_infer\u001B[49m\u001B[43m(\u001B[49m\n\u001B[0;32m   1138\u001B[0m \u001B[43m            \u001B[49m\u001B[43mvalues\u001B[49m\u001B[43m,\u001B[49m\n\u001B[0;32m   1139\u001B[0m \u001B[43m            \u001B[49m\u001B[43mf\u001B[49m\u001B[43m,\u001B[49m\u001B[43m  \u001B[49m\u001B[38;5;66;43;03m# type: ignore[arg-type]\u001B[39;49;00m\n\u001B[0;32m   1140\u001B[0m \u001B[43m            \u001B[49m\u001B[43mconvert\u001B[49m\u001B[38;5;241;43m=\u001B[39;49m\u001B[38;5;28;43mself\u001B[39;49m\u001B[38;5;241;43m.\u001B[39;49m\u001B[43mconvert_dtype\u001B[49m\u001B[43m,\u001B[49m\n\u001B[0;32m   1141\u001B[0m \u001B[43m        \u001B[49m\u001B[43m)\u001B[49m\n\u001B[0;32m   1143\u001B[0m \u001B[38;5;28;01mif\u001B[39;00m \u001B[38;5;28mlen\u001B[39m(mapped) \u001B[38;5;129;01mand\u001B[39;00m \u001B[38;5;28misinstance\u001B[39m(mapped[\u001B[38;5;241m0\u001B[39m], ABCSeries):\n\u001B[0;32m   1144\u001B[0m     \u001B[38;5;66;03m# GH#43986 Need to do list(mapped) in order to get treated as nested\u001B[39;00m\n\u001B[0;32m   1145\u001B[0m     \u001B[38;5;66;03m#  See also GH#25959 regarding EA support\u001B[39;00m\n\u001B[0;32m   1146\u001B[0m     \u001B[38;5;28;01mreturn\u001B[39;00m obj\u001B[38;5;241m.\u001B[39m_constructor_expanddim(\u001B[38;5;28mlist\u001B[39m(mapped), index\u001B[38;5;241m=\u001B[39mobj\u001B[38;5;241m.\u001B[39mindex)\n",
      "File \u001B[1;32m~\\anaconda3\\lib\\site-packages\\pandas\\_libs\\lib.pyx:2870\u001B[0m, in \u001B[0;36mpandas._libs.lib.map_infer\u001B[1;34m()\u001B[0m\n",
      "Input \u001B[1;32mIn [38]\u001B[0m, in \u001B[0;36m<lambda>\u001B[1;34m(row)\u001B[0m\n\u001B[1;32m----> 1\u001B[0m df[\u001B[38;5;124m'\u001B[39m\u001B[38;5;124mpredictions\u001B[39m\u001B[38;5;124m'\u001B[39m] \u001B[38;5;241m=\u001B[39m df[\u001B[38;5;124m'\u001B[39m\u001B[38;5;124mequipments\u001B[39m\u001B[38;5;124m'\u001B[39m]\u001B[38;5;241m.\u001B[39mapply(\u001B[38;5;28;01mlambda\u001B[39;00m row: \u001B[43mloaded_clf\u001B[49m\u001B[38;5;241;43m.\u001B[39;49m\u001B[43mpredict\u001B[49m\u001B[43m(\u001B[49m\u001B[43mrow\u001B[49m\u001B[43m)\u001B[49m \u001B[38;5;28;01mif\u001B[39;00m row \u001B[38;5;28;01melse\u001B[39;00m row)\u001B[38;5;241m.\u001B[39mapply(\u001B[38;5;28;01mlambda\u001B[39;00m row: [(res\u001B[38;5;241m.\u001B[39msplit(\u001B[38;5;124m'\u001B[39m\u001B[38;5;124m - \u001B[39m\u001B[38;5;124m'\u001B[39m)[\u001B[38;5;241m0\u001B[39m], quality_map[res\u001B[38;5;241m.\u001B[39msplit(\u001B[38;5;124m'\u001B[39m\u001B[38;5;124m - \u001B[39m\u001B[38;5;124m'\u001B[39m)[\u001B[38;5;241m1\u001B[39m]]) \u001B[38;5;28;01mfor\u001B[39;00m res \u001B[38;5;129;01min\u001B[39;00m label_encoder\u001B[38;5;241m.\u001B[39minverse_transform(row)])\n",
      "File \u001B[1;32m~\\anaconda3\\lib\\site-packages\\sklearn\\utils\\metaestimators.py:113\u001B[0m, in \u001B[0;36m_AvailableIfDescriptor.__get__.<locals>.<lambda>\u001B[1;34m(*args, **kwargs)\u001B[0m\n\u001B[0;32m    110\u001B[0m         \u001B[38;5;28;01mraise\u001B[39;00m attr_err\n\u001B[0;32m    112\u001B[0m     \u001B[38;5;66;03m# lambda, but not partial, allows help() to work with update_wrapper\u001B[39;00m\n\u001B[1;32m--> 113\u001B[0m     out \u001B[38;5;241m=\u001B[39m \u001B[38;5;28;01mlambda\u001B[39;00m \u001B[38;5;241m*\u001B[39margs, \u001B[38;5;241m*\u001B[39m\u001B[38;5;241m*\u001B[39mkwargs: \u001B[38;5;28mself\u001B[39m\u001B[38;5;241m.\u001B[39mfn(obj, \u001B[38;5;241m*\u001B[39margs, \u001B[38;5;241m*\u001B[39m\u001B[38;5;241m*\u001B[39mkwargs)  \u001B[38;5;66;03m# noqa\u001B[39;00m\n\u001B[0;32m    114\u001B[0m \u001B[38;5;28;01melse\u001B[39;00m:\n\u001B[0;32m    116\u001B[0m     \u001B[38;5;28;01mdef\u001B[39;00m \u001B[38;5;21mfn\u001B[39m(\u001B[38;5;241m*\u001B[39margs, \u001B[38;5;241m*\u001B[39m\u001B[38;5;241m*\u001B[39mkwargs):\n",
      "File \u001B[1;32m~\\anaconda3\\lib\\site-packages\\sklearn\\pipeline.py:469\u001B[0m, in \u001B[0;36mPipeline.predict\u001B[1;34m(self, X, **predict_params)\u001B[0m\n\u001B[0;32m    467\u001B[0m Xt \u001B[38;5;241m=\u001B[39m X\n\u001B[0;32m    468\u001B[0m \u001B[38;5;28;01mfor\u001B[39;00m _, name, transform \u001B[38;5;129;01min\u001B[39;00m \u001B[38;5;28mself\u001B[39m\u001B[38;5;241m.\u001B[39m_iter(with_final\u001B[38;5;241m=\u001B[39m\u001B[38;5;28;01mFalse\u001B[39;00m):\n\u001B[1;32m--> 469\u001B[0m     Xt \u001B[38;5;241m=\u001B[39m \u001B[43mtransform\u001B[49m\u001B[38;5;241;43m.\u001B[39;49m\u001B[43mtransform\u001B[49m\u001B[43m(\u001B[49m\u001B[43mXt\u001B[49m\u001B[43m)\u001B[49m\n\u001B[0;32m    470\u001B[0m \u001B[38;5;28;01mreturn\u001B[39;00m \u001B[38;5;28mself\u001B[39m\u001B[38;5;241m.\u001B[39msteps[\u001B[38;5;241m-\u001B[39m\u001B[38;5;241m1\u001B[39m][\u001B[38;5;241m1\u001B[39m]\u001B[38;5;241m.\u001B[39mpredict(Xt, \u001B[38;5;241m*\u001B[39m\u001B[38;5;241m*\u001B[39mpredict_params)\n",
      "File \u001B[1;32m~\\anaconda3\\lib\\site-packages\\sklearn\\feature_extraction\\text.py:2101\u001B[0m, in \u001B[0;36mTfidfVectorizer.transform\u001B[1;34m(self, raw_documents)\u001B[0m\n\u001B[0;32m   2084\u001B[0m \u001B[38;5;124;03m\"\"\"Transform documents to document-term matrix.\u001B[39;00m\n\u001B[0;32m   2085\u001B[0m \n\u001B[0;32m   2086\u001B[0m \u001B[38;5;124;03mUses the vocabulary and document frequencies (df) learned by fit (or\u001B[39;00m\n\u001B[1;32m   (...)\u001B[0m\n\u001B[0;32m   2097\u001B[0m \u001B[38;5;124;03m    Tf-idf-weighted document-term matrix.\u001B[39;00m\n\u001B[0;32m   2098\u001B[0m \u001B[38;5;124;03m\"\"\"\u001B[39;00m\n\u001B[0;32m   2099\u001B[0m check_is_fitted(\u001B[38;5;28mself\u001B[39m, msg\u001B[38;5;241m=\u001B[39m\u001B[38;5;124m\"\u001B[39m\u001B[38;5;124mThe TF-IDF vectorizer is not fitted\u001B[39m\u001B[38;5;124m\"\u001B[39m)\n\u001B[1;32m-> 2101\u001B[0m X \u001B[38;5;241m=\u001B[39m \u001B[38;5;28;43msuper\u001B[39;49m\u001B[43m(\u001B[49m\u001B[43m)\u001B[49m\u001B[38;5;241;43m.\u001B[39;49m\u001B[43mtransform\u001B[49m\u001B[43m(\u001B[49m\u001B[43mraw_documents\u001B[49m\u001B[43m)\u001B[49m\n\u001B[0;32m   2102\u001B[0m \u001B[38;5;28;01mreturn\u001B[39;00m \u001B[38;5;28mself\u001B[39m\u001B[38;5;241m.\u001B[39m_tfidf\u001B[38;5;241m.\u001B[39mtransform(X, copy\u001B[38;5;241m=\u001B[39m\u001B[38;5;28;01mFalse\u001B[39;00m)\n",
      "File \u001B[1;32m~\\anaconda3\\lib\\site-packages\\sklearn\\feature_extraction\\text.py:1373\u001B[0m, in \u001B[0;36mCountVectorizer.transform\u001B[1;34m(self, raw_documents)\u001B[0m\n\u001B[0;32m   1357\u001B[0m \u001B[38;5;124;03m\"\"\"Transform documents to document-term matrix.\u001B[39;00m\n\u001B[0;32m   1358\u001B[0m \n\u001B[0;32m   1359\u001B[0m \u001B[38;5;124;03mExtract token counts out of raw text documents using the vocabulary\u001B[39;00m\n\u001B[1;32m   (...)\u001B[0m\n\u001B[0;32m   1370\u001B[0m \u001B[38;5;124;03m    Document-term matrix.\u001B[39;00m\n\u001B[0;32m   1371\u001B[0m \u001B[38;5;124;03m\"\"\"\u001B[39;00m\n\u001B[0;32m   1372\u001B[0m \u001B[38;5;28;01mif\u001B[39;00m \u001B[38;5;28misinstance\u001B[39m(raw_documents, \u001B[38;5;28mstr\u001B[39m):\n\u001B[1;32m-> 1373\u001B[0m     \u001B[38;5;28;01mraise\u001B[39;00m \u001B[38;5;167;01mValueError\u001B[39;00m(\n\u001B[0;32m   1374\u001B[0m         \u001B[38;5;124m\"\u001B[39m\u001B[38;5;124mIterable over raw text documents expected, string object received.\u001B[39m\u001B[38;5;124m\"\u001B[39m\n\u001B[0;32m   1375\u001B[0m     )\n\u001B[0;32m   1376\u001B[0m \u001B[38;5;28mself\u001B[39m\u001B[38;5;241m.\u001B[39m_check_vocabulary()\n\u001B[0;32m   1378\u001B[0m \u001B[38;5;66;03m# use the same matrix-building strategy as fit_transform\u001B[39;00m\n",
      "\u001B[1;31mValueError\u001B[0m: Iterable over raw text documents expected, string object received."
     ]
    }
   ],
   "source": [
    "df['predictions'] = df['equipments'].apply(lambda row: loaded_clf.predict(row) if row else row).apply(lambda row: [(res.split(' - ')[0], quality_map[res.split(' - ')[1]]) for res in label_encoder.inverse_transform(row)])"
   ],
   "metadata": {
    "collapsed": false
   }
  },
  {
   "cell_type": "code",
   "execution_count": null,
   "outputs": [],
   "source": [
    "for category in categories:\n",
    "    df[category] = df['predictions'].apply(lambda row: count_category(row, category))"
   ],
   "metadata": {
    "collapsed": false
   }
  },
  {
   "cell_type": "code",
   "execution_count": 233,
   "outputs": [
    {
     "data": {
      "text/plain": "      Unnamed: 0                 name  price  leasing  \\\n0              0       peugeot 308 sw  12499      NaN   \n1              1           citroen c4  10699      NaN   \n2              2      volkswagen polo  10499      NaN   \n3              3         toyota yaris  10999      NaN   \n4              4    citroen c4 cactus  12699      NaN   \n...          ...                  ...    ...      ...   \n9528        9528         kia sportage  24499      NaN   \n9529        9529  citroen c3 aircross  16999      NaN   \n9530        9530       renault captur  18480      NaN   \n9531        9531               bmw i3  19990      NaN   \n9532        9532         dacia duster  18380      NaN   \n\n                                             equipments  date  \\\n0     [Start & Stop, Direction Assistée électrique, ...  2016   \n1     [Aide au stationnement arrière, Climatisation ...  2015   \n2     [Climatisation manuelle, Appuie-tête à sécurit...  2014   \n3     [Climatisation manuelle, Vitres AV électriques...  2016   \n4     [Climatisation automatique, Régulateur et Limi...  2016   \n...                                                 ...   ...   \n9528  [6 Haut parleurs, ABS, Accoudoir arrière, Acco...  2022   \n9529  [6 Haut parleurs, ABS, AFIL, Aide au démarrage...  2018   \n9530  [ABS, Accoudoir central AV, AFIL, Aide au déma...  2021   \n9531  [4 Haut parleurs, ABS, Accoudoir central AV av...  2019   \n9532  [ABS, Accoudoir central AV, Aide au démarrage ...  2020   \n\n                                                  motor  \\\n0                                 1.2 PureTech 130 BVM6   \n1                                  1.6 BlueHDi 100 BVM5   \n2                                           1.2 60 BVM5   \n3                                     1.0 VVT-i 70 BVM5   \n4                                  1.2 PureTech 82 BVM5   \n...                                                 ...   \n9528   (Kia Sportage 1.6 T-GDi 150ch MHEV Motion iBV...   \n9529   (Citroen C3 aircross PureTech 110ch S&S Shine...   \n9530            (Renault Captur 1.3 TCe 140ch Business)   \n9531                 (Bmw I3 170ch 120Ah iLife Atelier)   \n9532   (Dacia Duster 1.5 Blue dCi 115ch Prestige 4x2...   \n\n                       fuel transmission                  type  ...  \\\n0                   Essence     manuelle    Voiture d'occasion  ...   \n1                    Diesel     manuelle    Voiture d'occasion  ...   \n2                   Essence     manuelle    Voiture d'occasion  ...   \n3                   Essence     manuelle    Voiture d'occasion  ...   \n4                   Essence     manuelle    Voiture d'occasion  ...   \n...                     ...          ...                   ...  ...   \n9528  Essence micro hybride         None  Véhicule particulier  ...   \n9529                Essence         None  Véhicule particulier  ...   \n9530                Essence         None  Véhicule particulier  ...   \n9531             Electrique         None  Véhicule particulier  ...   \n9532                 Diesel         None  Véhicule particulier  ...   \n\n      Performances électroniques  Garanties et services   Confort  \\\n0                            NaN                    NaN  1.600000   \n1                            NaN                    NaN  1.642857   \n2                            NaN                    1.0  1.307692   \n3                            NaN                    NaN  1.666667   \n4                            NaN                    NaN  1.333333   \n...                          ...                    ...       ...   \n9528                         1.0                    1.0  1.440000   \n9529                         NaN                    1.0  1.615385   \n9530                         1.0                    1.0  1.500000   \n9531                         1.0                    NaN  1.388889   \n9532                         1.0                    1.0  1.360000   \n\n      Eléments extérieurs  Prestige de la marque  \\\n0                     1.0                    NaN   \n1                     NaN                    NaN   \n2                     NaN                    NaN   \n3                     NaN                    NaN   \n4                     2.0                    NaN   \n...                   ...                    ...   \n9528                  NaN                    3.0   \n9529                  NaN                    3.0   \n9530                  NaN                    3.0   \n9531                  NaN                    3.0   \n9532                  NaN                    3.0   \n\n     Système d'infodivertissement avancé Assistance à la conduite  \\\n0                               2.000000                 1.750000   \n1                               2.000000                 2.000000   \n2                               2.000000                 2.000000   \n3                               2.000000                 3.000000   \n4                               2.166667                 1.750000   \n...                                  ...                      ...   \n9528                            1.800000                 2.200000   \n9529                            2.083333                 2.250000   \n9530                            2.100000                 2.090909   \n9531                            2.000000                 2.000000   \n9532                            2.071429                 1.833333   \n\n     Performance et ingénierie  Sécurité Personalisation  \n0                          NaN  1.500000            None  \n1                          NaN  1.400000            None  \n2                     3.000000  1.800000            None  \n3                          NaN  1.333333            None  \n4                     1.000000  1.400000            None  \n...                        ...       ...             ...  \n9528                  2.428571  1.525000            None  \n9529                       NaN  1.652174            None  \n9530                  3.000000  1.540000            None  \n9531                       NaN  1.611111            None  \n9532                  3.000000  1.475000            None  \n\n[11972 rows x 36 columns]",
      "text/html": "<div>\n<style scoped>\n    .dataframe tbody tr th:only-of-type {\n        vertical-align: middle;\n    }\n\n    .dataframe tbody tr th {\n        vertical-align: top;\n    }\n\n    .dataframe thead th {\n        text-align: right;\n    }\n</style>\n<table border=\"1\" class=\"dataframe\">\n  <thead>\n    <tr style=\"text-align: right;\">\n      <th></th>\n      <th>Unnamed: 0</th>\n      <th>name</th>\n      <th>price</th>\n      <th>leasing</th>\n      <th>equipments</th>\n      <th>date</th>\n      <th>motor</th>\n      <th>fuel</th>\n      <th>transmission</th>\n      <th>type</th>\n      <th>...</th>\n      <th>Performances électroniques</th>\n      <th>Garanties et services</th>\n      <th>Confort</th>\n      <th>Eléments extérieurs</th>\n      <th>Prestige de la marque</th>\n      <th>Système d'infodivertissement avancé</th>\n      <th>Assistance à la conduite</th>\n      <th>Performance et ingénierie</th>\n      <th>Sécurité</th>\n      <th>Personalisation</th>\n    </tr>\n  </thead>\n  <tbody>\n    <tr>\n      <th>0</th>\n      <td>0</td>\n      <td>peugeot 308 sw</td>\n      <td>12499</td>\n      <td>NaN</td>\n      <td>[Start &amp; Stop, Direction Assistée électrique, ...</td>\n      <td>2016</td>\n      <td>1.2 PureTech 130 BVM6</td>\n      <td>Essence</td>\n      <td>manuelle</td>\n      <td>Voiture d'occasion</td>\n      <td>...</td>\n      <td>NaN</td>\n      <td>NaN</td>\n      <td>1.600000</td>\n      <td>1.0</td>\n      <td>NaN</td>\n      <td>2.000000</td>\n      <td>1.750000</td>\n      <td>NaN</td>\n      <td>1.500000</td>\n      <td>None</td>\n    </tr>\n    <tr>\n      <th>1</th>\n      <td>1</td>\n      <td>citroen c4</td>\n      <td>10699</td>\n      <td>NaN</td>\n      <td>[Aide au stationnement arrière, Climatisation ...</td>\n      <td>2015</td>\n      <td>1.6 BlueHDi 100 BVM5</td>\n      <td>Diesel</td>\n      <td>manuelle</td>\n      <td>Voiture d'occasion</td>\n      <td>...</td>\n      <td>NaN</td>\n      <td>NaN</td>\n      <td>1.642857</td>\n      <td>NaN</td>\n      <td>NaN</td>\n      <td>2.000000</td>\n      <td>2.000000</td>\n      <td>NaN</td>\n      <td>1.400000</td>\n      <td>None</td>\n    </tr>\n    <tr>\n      <th>2</th>\n      <td>2</td>\n      <td>volkswagen polo</td>\n      <td>10499</td>\n      <td>NaN</td>\n      <td>[Climatisation manuelle, Appuie-tête à sécurit...</td>\n      <td>2014</td>\n      <td>1.2 60 BVM5</td>\n      <td>Essence</td>\n      <td>manuelle</td>\n      <td>Voiture d'occasion</td>\n      <td>...</td>\n      <td>NaN</td>\n      <td>1.0</td>\n      <td>1.307692</td>\n      <td>NaN</td>\n      <td>NaN</td>\n      <td>2.000000</td>\n      <td>2.000000</td>\n      <td>3.000000</td>\n      <td>1.800000</td>\n      <td>None</td>\n    </tr>\n    <tr>\n      <th>3</th>\n      <td>3</td>\n      <td>toyota yaris</td>\n      <td>10999</td>\n      <td>NaN</td>\n      <td>[Climatisation manuelle, Vitres AV électriques...</td>\n      <td>2016</td>\n      <td>1.0 VVT-i 70 BVM5</td>\n      <td>Essence</td>\n      <td>manuelle</td>\n      <td>Voiture d'occasion</td>\n      <td>...</td>\n      <td>NaN</td>\n      <td>NaN</td>\n      <td>1.666667</td>\n      <td>NaN</td>\n      <td>NaN</td>\n      <td>2.000000</td>\n      <td>3.000000</td>\n      <td>NaN</td>\n      <td>1.333333</td>\n      <td>None</td>\n    </tr>\n    <tr>\n      <th>4</th>\n      <td>4</td>\n      <td>citroen c4 cactus</td>\n      <td>12699</td>\n      <td>NaN</td>\n      <td>[Climatisation automatique, Régulateur et Limi...</td>\n      <td>2016</td>\n      <td>1.2 PureTech 82 BVM5</td>\n      <td>Essence</td>\n      <td>manuelle</td>\n      <td>Voiture d'occasion</td>\n      <td>...</td>\n      <td>NaN</td>\n      <td>NaN</td>\n      <td>1.333333</td>\n      <td>2.0</td>\n      <td>NaN</td>\n      <td>2.166667</td>\n      <td>1.750000</td>\n      <td>1.000000</td>\n      <td>1.400000</td>\n      <td>None</td>\n    </tr>\n    <tr>\n      <th>...</th>\n      <td>...</td>\n      <td>...</td>\n      <td>...</td>\n      <td>...</td>\n      <td>...</td>\n      <td>...</td>\n      <td>...</td>\n      <td>...</td>\n      <td>...</td>\n      <td>...</td>\n      <td>...</td>\n      <td>...</td>\n      <td>...</td>\n      <td>...</td>\n      <td>...</td>\n      <td>...</td>\n      <td>...</td>\n      <td>...</td>\n      <td>...</td>\n      <td>...</td>\n      <td>...</td>\n    </tr>\n    <tr>\n      <th>9528</th>\n      <td>9528</td>\n      <td>kia sportage</td>\n      <td>24499</td>\n      <td>NaN</td>\n      <td>[6 Haut parleurs, ABS, Accoudoir arrière, Acco...</td>\n      <td>2022</td>\n      <td>(Kia Sportage 1.6 T-GDi 150ch MHEV Motion iBV...</td>\n      <td>Essence micro hybride</td>\n      <td>None</td>\n      <td>Véhicule particulier</td>\n      <td>...</td>\n      <td>1.0</td>\n      <td>1.0</td>\n      <td>1.440000</td>\n      <td>NaN</td>\n      <td>3.0</td>\n      <td>1.800000</td>\n      <td>2.200000</td>\n      <td>2.428571</td>\n      <td>1.525000</td>\n      <td>None</td>\n    </tr>\n    <tr>\n      <th>9529</th>\n      <td>9529</td>\n      <td>citroen c3 aircross</td>\n      <td>16999</td>\n      <td>NaN</td>\n      <td>[6 Haut parleurs, ABS, AFIL, Aide au démarrage...</td>\n      <td>2018</td>\n      <td>(Citroen C3 aircross PureTech 110ch S&amp;S Shine...</td>\n      <td>Essence</td>\n      <td>None</td>\n      <td>Véhicule particulier</td>\n      <td>...</td>\n      <td>NaN</td>\n      <td>1.0</td>\n      <td>1.615385</td>\n      <td>NaN</td>\n      <td>3.0</td>\n      <td>2.083333</td>\n      <td>2.250000</td>\n      <td>NaN</td>\n      <td>1.652174</td>\n      <td>None</td>\n    </tr>\n    <tr>\n      <th>9530</th>\n      <td>9530</td>\n      <td>renault captur</td>\n      <td>18480</td>\n      <td>NaN</td>\n      <td>[ABS, Accoudoir central AV, AFIL, Aide au déma...</td>\n      <td>2021</td>\n      <td>(Renault Captur 1.3 TCe 140ch Business)</td>\n      <td>Essence</td>\n      <td>None</td>\n      <td>Véhicule particulier</td>\n      <td>...</td>\n      <td>1.0</td>\n      <td>1.0</td>\n      <td>1.500000</td>\n      <td>NaN</td>\n      <td>3.0</td>\n      <td>2.100000</td>\n      <td>2.090909</td>\n      <td>3.000000</td>\n      <td>1.540000</td>\n      <td>None</td>\n    </tr>\n    <tr>\n      <th>9531</th>\n      <td>9531</td>\n      <td>bmw i3</td>\n      <td>19990</td>\n      <td>NaN</td>\n      <td>[4 Haut parleurs, ABS, Accoudoir central AV av...</td>\n      <td>2019</td>\n      <td>(Bmw I3 170ch 120Ah iLife Atelier)</td>\n      <td>Electrique</td>\n      <td>None</td>\n      <td>Véhicule particulier</td>\n      <td>...</td>\n      <td>1.0</td>\n      <td>NaN</td>\n      <td>1.388889</td>\n      <td>NaN</td>\n      <td>3.0</td>\n      <td>2.000000</td>\n      <td>2.000000</td>\n      <td>NaN</td>\n      <td>1.611111</td>\n      <td>None</td>\n    </tr>\n    <tr>\n      <th>9532</th>\n      <td>9532</td>\n      <td>dacia duster</td>\n      <td>18380</td>\n      <td>NaN</td>\n      <td>[ABS, Accoudoir central AV, Aide au démarrage ...</td>\n      <td>2020</td>\n      <td>(Dacia Duster 1.5 Blue dCi 115ch Prestige 4x2...</td>\n      <td>Diesel</td>\n      <td>None</td>\n      <td>Véhicule particulier</td>\n      <td>...</td>\n      <td>1.0</td>\n      <td>1.0</td>\n      <td>1.360000</td>\n      <td>NaN</td>\n      <td>3.0</td>\n      <td>2.071429</td>\n      <td>1.833333</td>\n      <td>3.000000</td>\n      <td>1.475000</td>\n      <td>None</td>\n    </tr>\n  </tbody>\n</table>\n<p>11972 rows × 36 columns</p>\n</div>"
     },
     "execution_count": 233,
     "metadata": {},
     "output_type": "execute_result"
    }
   ],
   "source": [
    "df"
   ],
   "metadata": {
    "collapsed": false
   }
  },
  {
   "cell_type": "code",
   "execution_count": 543,
   "outputs": [],
   "source": [
    "# def predict_equipment(row):\n",
    "#     payload = defaultdict(int)\n",
    "#     if not row:\n",
    "#         return {}\n",
    "#     predicted_labels = loaded_clf.predict(row)\n",
    "#     decoded_labels = label_encoder.inverse_transform(predicted_labels)\n",
    "#     for decoded_label in decoded_labels:\n",
    "#         category, quality = decoded_label.split(' - ')\n",
    "#         payload[category] += quality_map[quality.replace('Basic', 'basique').replace('Basique', 'basique').replace('Intermediate', 'intermédiaire').replace('intermediaire', 'intermédiaire').replace('Intermédiaire', 'intermédiaire').replace('Premier', 'premium').replace('Premium', 'premium')]\n",
    "#     return payload"
   ],
   "metadata": {
    "collapsed": false
   }
  },
  {
   "cell_type": "code",
   "execution_count": 28,
   "outputs": [],
   "source": [
    "def category_price(df):\n",
    "    final_df = df.copy()\n",
    "    final_df['count'] = final_df['categories'].apply(lambda x: len(x))\n",
    "    final_df['price_per_category'] = final_df['price'] / final_df['count']\n",
    "    exploded_df = final_df.explode('categories')\n",
    "    final_df = exploded_df.drop(['price', 'count'], axis=1)\n",
    "    final_df = final_df[['categories', 'price_per_category']].groupby('categories').mean()\n",
    "\n",
    "    final_df = final_df['price_per_category'] - final_df['price_per_category'].min()\n",
    "    return final_df.to_dict()"
   ],
   "metadata": {
    "collapsed": false
   }
  },
  {
   "cell_type": "code",
   "execution_count": 29,
   "outputs": [
    {
     "data": {
      "text/plain": "Index(['Unnamed: 0', 'name', 'price', 'leasing', 'equipments', 'date', 'motor',\n       'fuel', 'transmission', 'type', 'kilometers', 'doors', 'seats',\n       'images', 'defauts', 'seller', 'displacement', 'power', 'href',\n       'location', 'critair', 'extra'],\n      dtype='object')"
     },
     "execution_count": 29,
     "metadata": {},
     "output_type": "execute_result"
    }
   ],
   "source": [
    "df.columns"
   ],
   "metadata": {
    "collapsed": false
   }
  },
  {
   "cell_type": "code",
   "execution_count": 30,
   "outputs": [
    {
     "ename": "KeyError",
     "evalue": "'[\\'motorization_type\\', \"Matériaux de l\\'habitacle\", \\'Technologies écologiques\\', \\'Pratique\\', \\'Personnalisation\\', \\'Éléments extérieurs\\', \\'Performances électroniques\\', \\'Garanties et services\\', \\'Confort\\', \\'Eléments extérieurs\\', \\'Prestige de la marque\\', \"Système d\\'infodivertissement avancé\", \\'Assistance à la conduite\\', \\'Performance et ingénierie\\', \\'Sécurité\\', \\'Personalisation\\'] not in index'",
     "output_type": "error",
     "traceback": [
      "\u001B[1;31m---------------------------------------------------------------------------\u001B[0m",
      "\u001B[1;31mKeyError\u001B[0m                                  Traceback (most recent call last)",
      "Input \u001B[1;32mIn [30]\u001B[0m, in \u001B[0;36m<cell line: 1>\u001B[1;34m()\u001B[0m\n\u001B[1;32m----> 1\u001B[0m dd \u001B[38;5;241m=\u001B[39m \u001B[43mdf\u001B[49m\u001B[43m[\u001B[49m\u001B[43m[\u001B[49m\u001B[38;5;124;43m'\u001B[39;49m\u001B[38;5;124;43mname\u001B[39;49m\u001B[38;5;124;43m'\u001B[39;49m\u001B[43m,\u001B[49m\u001B[43m \u001B[49m\u001B[38;5;124;43m'\u001B[39;49m\u001B[38;5;124;43mdate\u001B[39;49m\u001B[38;5;124;43m'\u001B[39;49m\u001B[43m,\u001B[49m\u001B[43m \u001B[49m\u001B[38;5;124;43m'\u001B[39;49m\u001B[38;5;124;43mfuel\u001B[39;49m\u001B[38;5;124;43m'\u001B[39;49m\u001B[43m,\u001B[49m\u001B[43m \u001B[49m\u001B[38;5;124;43m'\u001B[39;49m\u001B[38;5;124;43mtransmission\u001B[39;49m\u001B[38;5;124;43m'\u001B[39;49m\u001B[43m,\u001B[49m\u001B[43m \u001B[49m\u001B[38;5;124;43m'\u001B[39;49m\u001B[38;5;124;43mkilometers\u001B[39;49m\u001B[38;5;124;43m'\u001B[39;49m\u001B[43m,\u001B[49m\u001B[43m \u001B[49m\u001B[38;5;124;43m'\u001B[39;49m\u001B[38;5;124;43mdoors\u001B[39;49m\u001B[38;5;124;43m'\u001B[39;49m\u001B[43m,\u001B[49m\u001B[43m \u001B[49m\u001B[38;5;124;43m'\u001B[39;49m\u001B[38;5;124;43mdefauts\u001B[39;49m\u001B[38;5;124;43m'\u001B[39;49m\u001B[43m,\u001B[49m\u001B[43m \u001B[49m\u001B[38;5;124;43m'\u001B[39;49m\u001B[38;5;124;43mseller\u001B[39;49m\u001B[38;5;124;43m'\u001B[39;49m\u001B[43m,\u001B[49m\u001B[43m \u001B[49m\u001B[38;5;124;43m'\u001B[39;49m\u001B[38;5;124;43mpower\u001B[39;49m\u001B[38;5;124;43m'\u001B[39;49m\u001B[43m,\u001B[49m\u001B[43m \u001B[49m\u001B[38;5;124;43m'\u001B[39;49m\u001B[38;5;124;43mdisplacement\u001B[39;49m\u001B[38;5;124;43m'\u001B[39;49m\u001B[43m,\u001B[49m\u001B[43m \u001B[49m\u001B[38;5;124;43m'\u001B[39;49m\u001B[38;5;124;43mmotorization_type\u001B[39;49m\u001B[38;5;124;43m'\u001B[39;49m\u001B[43m,\u001B[49m\u001B[43m \u001B[49m\u001B[38;5;124;43m'\u001B[39;49m\u001B[38;5;124;43mprice\u001B[39;49m\u001B[38;5;124;43m'\u001B[39;49m\u001B[43m,\u001B[49m\u001B[43m \u001B[49m\u001B[38;5;124;43m\"\u001B[39;49m\u001B[38;5;124;43mMatériaux de l\u001B[39;49m\u001B[38;5;124;43m'\u001B[39;49m\u001B[38;5;124;43mhabitacle\u001B[39;49m\u001B[38;5;124;43m\"\u001B[39;49m\u001B[43m,\u001B[49m\n\u001B[0;32m      2\u001B[0m \u001B[43m         \u001B[49m\u001B[38;5;124;43m'\u001B[39;49m\u001B[38;5;124;43mTechnologies écologiques\u001B[39;49m\u001B[38;5;124;43m'\u001B[39;49m\u001B[43m,\u001B[49m\u001B[43m \u001B[49m\u001B[38;5;124;43m'\u001B[39;49m\u001B[38;5;124;43mPratique\u001B[39;49m\u001B[38;5;124;43m'\u001B[39;49m\u001B[43m,\u001B[49m\u001B[43m \u001B[49m\u001B[38;5;124;43m'\u001B[39;49m\u001B[38;5;124;43mPersonnalisation\u001B[39;49m\u001B[38;5;124;43m'\u001B[39;49m\u001B[43m,\u001B[49m\u001B[43m \u001B[49m\u001B[38;5;124;43m'\u001B[39;49m\u001B[38;5;124;43mÉléments extérieurs\u001B[39;49m\u001B[38;5;124;43m'\u001B[39;49m\u001B[43m,\u001B[49m\u001B[43m \u001B[49m\u001B[38;5;124;43m'\u001B[39;49m\u001B[38;5;124;43mPerformances électroniques\u001B[39;49m\u001B[38;5;124;43m'\u001B[39;49m\u001B[43m,\u001B[49m\u001B[43m \u001B[49m\u001B[38;5;124;43m'\u001B[39;49m\u001B[38;5;124;43mGaranties et services\u001B[39;49m\u001B[38;5;124;43m'\u001B[39;49m\u001B[43m,\u001B[49m\u001B[43m \u001B[49m\u001B[38;5;124;43m'\u001B[39;49m\u001B[38;5;124;43mConfort\u001B[39;49m\u001B[38;5;124;43m'\u001B[39;49m\u001B[43m,\u001B[49m\u001B[43m \u001B[49m\u001B[38;5;124;43m'\u001B[39;49m\u001B[38;5;124;43mEléments extérieurs\u001B[39;49m\u001B[38;5;124;43m'\u001B[39;49m\u001B[43m,\u001B[49m\n\u001B[0;32m      3\u001B[0m \u001B[43m         \u001B[49m\u001B[38;5;124;43m'\u001B[39;49m\u001B[38;5;124;43mPrestige de la marque\u001B[39;49m\u001B[38;5;124;43m'\u001B[39;49m\u001B[43m,\u001B[49m\u001B[43m \u001B[49m\u001B[38;5;124;43m\"\u001B[39;49m\u001B[38;5;124;43mSystème d\u001B[39;49m\u001B[38;5;124;43m'\u001B[39;49m\u001B[38;5;124;43minfodivertissement avancé\u001B[39;49m\u001B[38;5;124;43m\"\u001B[39;49m\u001B[43m,\u001B[49m\u001B[43m \u001B[49m\u001B[38;5;124;43m'\u001B[39;49m\u001B[38;5;124;43mAssistance à la conduite\u001B[39;49m\u001B[38;5;124;43m'\u001B[39;49m\u001B[43m,\u001B[49m\u001B[43m \u001B[49m\u001B[38;5;124;43m'\u001B[39;49m\u001B[38;5;124;43mPerformance et ingénierie\u001B[39;49m\u001B[38;5;124;43m'\u001B[39;49m\u001B[43m,\u001B[49m\u001B[43m \u001B[49m\u001B[38;5;124;43m'\u001B[39;49m\u001B[38;5;124;43mSécurité\u001B[39;49m\u001B[38;5;124;43m'\u001B[39;49m\u001B[43m,\u001B[49m\u001B[43m \u001B[49m\u001B[38;5;124;43m'\u001B[39;49m\u001B[38;5;124;43mPersonalisation\u001B[39;49m\u001B[38;5;124;43m'\u001B[39;49m\u001B[43m]\u001B[49m\u001B[43m]\u001B[49m\n",
      "File \u001B[1;32m~\\anaconda3\\lib\\site-packages\\pandas\\core\\frame.py:3511\u001B[0m, in \u001B[0;36mDataFrame.__getitem__\u001B[1;34m(self, key)\u001B[0m\n\u001B[0;32m   3509\u001B[0m     \u001B[38;5;28;01mif\u001B[39;00m is_iterator(key):\n\u001B[0;32m   3510\u001B[0m         key \u001B[38;5;241m=\u001B[39m \u001B[38;5;28mlist\u001B[39m(key)\n\u001B[1;32m-> 3511\u001B[0m     indexer \u001B[38;5;241m=\u001B[39m \u001B[38;5;28;43mself\u001B[39;49m\u001B[38;5;241;43m.\u001B[39;49m\u001B[43mcolumns\u001B[49m\u001B[38;5;241;43m.\u001B[39;49m\u001B[43m_get_indexer_strict\u001B[49m\u001B[43m(\u001B[49m\u001B[43mkey\u001B[49m\u001B[43m,\u001B[49m\u001B[43m \u001B[49m\u001B[38;5;124;43m\"\u001B[39;49m\u001B[38;5;124;43mcolumns\u001B[39;49m\u001B[38;5;124;43m\"\u001B[39;49m\u001B[43m)\u001B[49m[\u001B[38;5;241m1\u001B[39m]\n\u001B[0;32m   3513\u001B[0m \u001B[38;5;66;03m# take() does not accept boolean indexers\u001B[39;00m\n\u001B[0;32m   3514\u001B[0m \u001B[38;5;28;01mif\u001B[39;00m \u001B[38;5;28mgetattr\u001B[39m(indexer, \u001B[38;5;124m\"\u001B[39m\u001B[38;5;124mdtype\u001B[39m\u001B[38;5;124m\"\u001B[39m, \u001B[38;5;28;01mNone\u001B[39;00m) \u001B[38;5;241m==\u001B[39m \u001B[38;5;28mbool\u001B[39m:\n",
      "File \u001B[1;32m~\\anaconda3\\lib\\site-packages\\pandas\\core\\indexes\\base.py:5782\u001B[0m, in \u001B[0;36mIndex._get_indexer_strict\u001B[1;34m(self, key, axis_name)\u001B[0m\n\u001B[0;32m   5779\u001B[0m \u001B[38;5;28;01melse\u001B[39;00m:\n\u001B[0;32m   5780\u001B[0m     keyarr, indexer, new_indexer \u001B[38;5;241m=\u001B[39m \u001B[38;5;28mself\u001B[39m\u001B[38;5;241m.\u001B[39m_reindex_non_unique(keyarr)\n\u001B[1;32m-> 5782\u001B[0m \u001B[38;5;28;43mself\u001B[39;49m\u001B[38;5;241;43m.\u001B[39;49m\u001B[43m_raise_if_missing\u001B[49m\u001B[43m(\u001B[49m\u001B[43mkeyarr\u001B[49m\u001B[43m,\u001B[49m\u001B[43m \u001B[49m\u001B[43mindexer\u001B[49m\u001B[43m,\u001B[49m\u001B[43m \u001B[49m\u001B[43maxis_name\u001B[49m\u001B[43m)\u001B[49m\n\u001B[0;32m   5784\u001B[0m keyarr \u001B[38;5;241m=\u001B[39m \u001B[38;5;28mself\u001B[39m\u001B[38;5;241m.\u001B[39mtake(indexer)\n\u001B[0;32m   5785\u001B[0m \u001B[38;5;28;01mif\u001B[39;00m \u001B[38;5;28misinstance\u001B[39m(key, Index):\n\u001B[0;32m   5786\u001B[0m     \u001B[38;5;66;03m# GH 42790 - Preserve name from an Index\u001B[39;00m\n",
      "File \u001B[1;32m~\\anaconda3\\lib\\site-packages\\pandas\\core\\indexes\\base.py:5845\u001B[0m, in \u001B[0;36mIndex._raise_if_missing\u001B[1;34m(self, key, indexer, axis_name)\u001B[0m\n\u001B[0;32m   5842\u001B[0m     \u001B[38;5;28;01mraise\u001B[39;00m \u001B[38;5;167;01mKeyError\u001B[39;00m(\u001B[38;5;124mf\u001B[39m\u001B[38;5;124m\"\u001B[39m\u001B[38;5;124mNone of [\u001B[39m\u001B[38;5;132;01m{\u001B[39;00mkey\u001B[38;5;132;01m}\u001B[39;00m\u001B[38;5;124m] are in the [\u001B[39m\u001B[38;5;132;01m{\u001B[39;00maxis_name\u001B[38;5;132;01m}\u001B[39;00m\u001B[38;5;124m]\u001B[39m\u001B[38;5;124m\"\u001B[39m)\n\u001B[0;32m   5844\u001B[0m not_found \u001B[38;5;241m=\u001B[39m \u001B[38;5;28mlist\u001B[39m(ensure_index(key)[missing_mask\u001B[38;5;241m.\u001B[39mnonzero()[\u001B[38;5;241m0\u001B[39m]]\u001B[38;5;241m.\u001B[39munique())\n\u001B[1;32m-> 5845\u001B[0m \u001B[38;5;28;01mraise\u001B[39;00m \u001B[38;5;167;01mKeyError\u001B[39;00m(\u001B[38;5;124mf\u001B[39m\u001B[38;5;124m\"\u001B[39m\u001B[38;5;132;01m{\u001B[39;00mnot_found\u001B[38;5;132;01m}\u001B[39;00m\u001B[38;5;124m not in index\u001B[39m\u001B[38;5;124m\"\u001B[39m)\n",
      "\u001B[1;31mKeyError\u001B[0m: '[\\'motorization_type\\', \"Matériaux de l\\'habitacle\", \\'Technologies écologiques\\', \\'Pratique\\', \\'Personnalisation\\', \\'Éléments extérieurs\\', \\'Performances électroniques\\', \\'Garanties et services\\', \\'Confort\\', \\'Eléments extérieurs\\', \\'Prestige de la marque\\', \"Système d\\'infodivertissement avancé\", \\'Assistance à la conduite\\', \\'Performance et ingénierie\\', \\'Sécurité\\', \\'Personalisation\\'] not in index'"
     ]
    }
   ],
   "source": [
    "dd = df[['name', 'date', 'fuel', 'transmission', 'kilometers', 'doors', 'defauts', 'seller', 'power', 'displacement', 'motorization_type', 'price', \"Matériaux de l'habitacle\",\n",
    "         'Technologies écologiques', 'Pratique', 'Personnalisation', 'Éléments extérieurs', 'Performances électroniques', 'Garanties et services', 'Confort', 'Eléments extérieurs',\n",
    "         'Prestige de la marque', \"Système d'infodivertissement avancé\", 'Assistance à la conduite', 'Performance et ingénierie', 'Sécurité', 'Personalisation']]"
   ],
   "metadata": {
    "collapsed": false
   }
  },
  {
   "cell_type": "code",
   "execution_count": 41,
   "outputs": [],
   "source": [
    "dd = df[['name', 'date', 'fuel', 'transmission', 'kilometers', 'doors', 'defauts', 'seller', 'power', 'displacement', 'motorization_type', 'price']]"
   ],
   "metadata": {
    "collapsed": false
   }
  },
  {
   "cell_type": "code",
   "execution_count": 42,
   "outputs": [
    {
     "name": "stderr",
     "output_type": "stream",
     "text": [
      "C:\\Users\\Enzo\\AppData\\Local\\Temp\\ipykernel_21732\\2819788936.py:1: SettingWithCopyWarning: \n",
      "A value is trying to be set on a copy of a slice from a DataFrame.\n",
      "Try using .loc[row_indexer,col_indexer] = value instead\n",
      "\n",
      "See the caveats in the documentation: https://pandas.pydata.org/pandas-docs/stable/user_guide/indexing.html#returning-a-view-versus-a-copy\n",
      "  dd[\"power\"] = dd[\"power\"].apply(lambda row: int(row) if isinstance(row, str) else row)\n",
      "C:\\Users\\Enzo\\AppData\\Local\\Temp\\ipykernel_21732\\2819788936.py:2: SettingWithCopyWarning: \n",
      "A value is trying to be set on a copy of a slice from a DataFrame.\n",
      "Try using .loc[row_indexer,col_indexer] = value instead\n",
      "\n",
      "See the caveats in the documentation: https://pandas.pydata.org/pandas-docs/stable/user_guide/indexing.html#returning-a-view-versus-a-copy\n",
      "  dd[\"displacement\"] = dd[\"displacement\"].apply(lambda row: float(row) if isinstance(row, str) else row)\n"
     ]
    }
   ],
   "source": [
    "dd[\"power\"] = dd[\"power\"].apply(lambda row: int(row) if isinstance(row, str) else row)\n",
    "dd[\"displacement\"] = dd[\"displacement\"].apply(lambda row: float(row) if isinstance(row, str) else row)"
   ],
   "metadata": {
    "collapsed": false
   }
  },
  {
   "cell_type": "code",
   "execution_count": 43,
   "outputs": [
    {
     "data": {
      "text/plain": "                            name    date     fuel               transmission  \\\n0                 peugeot 308 sw  2016.0  Essence  Boîte manuelle 6 rapports   \n1                     citroen c4  2015.0   Diesel  Boîte manuelle 5 rapports   \n2                volkswagen polo  2014.0  Essence  Boîte manuelle 5 rapports   \n3                   toyota yaris  2016.0  Essence  Boîte manuelle 5 rapports   \n4              citroen c4 cactus  2016.0  Essence  Boîte manuelle 5 rapports   \n...                          ...     ...      ...                        ...   \n5195   volvo v40 (2e generation)  2020.0   Diesel                   Manuelle   \n5196      citroen c3 iii phase 2  2022.0  Essence                   Manuelle   \n5197       ford ecosport phase 2  2022.0  Essence                   Manuelle   \n5198  nissan x-trail iii phase 2  2020.0   Diesel                Automatique   \n5199             peugeot 5008 ii  2020.0  Essence                Automatique   \n\n      kilometers  doors  defauts  seller  power  displacement  \\\n0       106977.0    5.0     13.0  aramis  130.0           1.2   \n1       135390.0    5.0     22.0  aramis  100.0           1.6   \n2        80770.0    3.0     12.0  aramis   60.0           1.2   \n3        98195.0    5.0     14.0  aramis   70.0           1.0   \n4        42981.0    5.0     14.0  aramis   82.0           1.2   \n...          ...    ...      ...     ...    ...           ...   \n5195     63174.0    5.0      NaN     NaN  120.0           2.0   \n5196     22629.0    5.0      NaN     NaN   83.0           1.2   \n5197     94729.0    5.0      NaN     NaN  125.0           1.0   \n5198     75674.0    5.0      NaN     NaN  150.0           1.7   \n5199     45156.0    5.0      NaN     NaN  130.0           1.2   \n\n     motorization_type    price  \n0             PureTech  12499.0  \n1              BlueHDi  10699.0  \n2                 None  10499.0  \n3                VVT-i  10999.0  \n4             PureTech  12699.0  \n...                ...      ...  \n5195              None  19240.0  \n5196          PureTech  15460.0  \n5197          EcoBoost  16510.0  \n5198               dCi  25980.0  \n5199          PureTech  28070.0  \n\n[17160 rows x 12 columns]",
      "text/html": "<div>\n<style scoped>\n    .dataframe tbody tr th:only-of-type {\n        vertical-align: middle;\n    }\n\n    .dataframe tbody tr th {\n        vertical-align: top;\n    }\n\n    .dataframe thead th {\n        text-align: right;\n    }\n</style>\n<table border=\"1\" class=\"dataframe\">\n  <thead>\n    <tr style=\"text-align: right;\">\n      <th></th>\n      <th>name</th>\n      <th>date</th>\n      <th>fuel</th>\n      <th>transmission</th>\n      <th>kilometers</th>\n      <th>doors</th>\n      <th>defauts</th>\n      <th>seller</th>\n      <th>power</th>\n      <th>displacement</th>\n      <th>motorization_type</th>\n      <th>price</th>\n    </tr>\n  </thead>\n  <tbody>\n    <tr>\n      <th>0</th>\n      <td>peugeot 308 sw</td>\n      <td>2016.0</td>\n      <td>Essence</td>\n      <td>Boîte manuelle 6 rapports</td>\n      <td>106977.0</td>\n      <td>5.0</td>\n      <td>13.0</td>\n      <td>aramis</td>\n      <td>130.0</td>\n      <td>1.2</td>\n      <td>PureTech</td>\n      <td>12499.0</td>\n    </tr>\n    <tr>\n      <th>1</th>\n      <td>citroen c4</td>\n      <td>2015.0</td>\n      <td>Diesel</td>\n      <td>Boîte manuelle 5 rapports</td>\n      <td>135390.0</td>\n      <td>5.0</td>\n      <td>22.0</td>\n      <td>aramis</td>\n      <td>100.0</td>\n      <td>1.6</td>\n      <td>BlueHDi</td>\n      <td>10699.0</td>\n    </tr>\n    <tr>\n      <th>2</th>\n      <td>volkswagen polo</td>\n      <td>2014.0</td>\n      <td>Essence</td>\n      <td>Boîte manuelle 5 rapports</td>\n      <td>80770.0</td>\n      <td>3.0</td>\n      <td>12.0</td>\n      <td>aramis</td>\n      <td>60.0</td>\n      <td>1.2</td>\n      <td>None</td>\n      <td>10499.0</td>\n    </tr>\n    <tr>\n      <th>3</th>\n      <td>toyota yaris</td>\n      <td>2016.0</td>\n      <td>Essence</td>\n      <td>Boîte manuelle 5 rapports</td>\n      <td>98195.0</td>\n      <td>5.0</td>\n      <td>14.0</td>\n      <td>aramis</td>\n      <td>70.0</td>\n      <td>1.0</td>\n      <td>VVT-i</td>\n      <td>10999.0</td>\n    </tr>\n    <tr>\n      <th>4</th>\n      <td>citroen c4 cactus</td>\n      <td>2016.0</td>\n      <td>Essence</td>\n      <td>Boîte manuelle 5 rapports</td>\n      <td>42981.0</td>\n      <td>5.0</td>\n      <td>14.0</td>\n      <td>aramis</td>\n      <td>82.0</td>\n      <td>1.2</td>\n      <td>PureTech</td>\n      <td>12699.0</td>\n    </tr>\n    <tr>\n      <th>...</th>\n      <td>...</td>\n      <td>...</td>\n      <td>...</td>\n      <td>...</td>\n      <td>...</td>\n      <td>...</td>\n      <td>...</td>\n      <td>...</td>\n      <td>...</td>\n      <td>...</td>\n      <td>...</td>\n      <td>...</td>\n    </tr>\n    <tr>\n      <th>5195</th>\n      <td>volvo v40 (2e generation)</td>\n      <td>2020.0</td>\n      <td>Diesel</td>\n      <td>Manuelle</td>\n      <td>63174.0</td>\n      <td>5.0</td>\n      <td>NaN</td>\n      <td>NaN</td>\n      <td>120.0</td>\n      <td>2.0</td>\n      <td>None</td>\n      <td>19240.0</td>\n    </tr>\n    <tr>\n      <th>5196</th>\n      <td>citroen c3 iii phase 2</td>\n      <td>2022.0</td>\n      <td>Essence</td>\n      <td>Manuelle</td>\n      <td>22629.0</td>\n      <td>5.0</td>\n      <td>NaN</td>\n      <td>NaN</td>\n      <td>83.0</td>\n      <td>1.2</td>\n      <td>PureTech</td>\n      <td>15460.0</td>\n    </tr>\n    <tr>\n      <th>5197</th>\n      <td>ford ecosport phase 2</td>\n      <td>2022.0</td>\n      <td>Essence</td>\n      <td>Manuelle</td>\n      <td>94729.0</td>\n      <td>5.0</td>\n      <td>NaN</td>\n      <td>NaN</td>\n      <td>125.0</td>\n      <td>1.0</td>\n      <td>EcoBoost</td>\n      <td>16510.0</td>\n    </tr>\n    <tr>\n      <th>5198</th>\n      <td>nissan x-trail iii phase 2</td>\n      <td>2020.0</td>\n      <td>Diesel</td>\n      <td>Automatique</td>\n      <td>75674.0</td>\n      <td>5.0</td>\n      <td>NaN</td>\n      <td>NaN</td>\n      <td>150.0</td>\n      <td>1.7</td>\n      <td>dCi</td>\n      <td>25980.0</td>\n    </tr>\n    <tr>\n      <th>5199</th>\n      <td>peugeot 5008 ii</td>\n      <td>2020.0</td>\n      <td>Essence</td>\n      <td>Automatique</td>\n      <td>45156.0</td>\n      <td>5.0</td>\n      <td>NaN</td>\n      <td>NaN</td>\n      <td>130.0</td>\n      <td>1.2</td>\n      <td>PureTech</td>\n      <td>28070.0</td>\n    </tr>\n  </tbody>\n</table>\n<p>17160 rows × 12 columns</p>\n</div>"
     },
     "execution_count": 43,
     "metadata": {},
     "output_type": "execute_result"
    }
   ],
   "source": [
    "dd"
   ],
   "metadata": {
    "collapsed": false
   }
  },
  {
   "cell_type": "code",
   "execution_count": 44,
   "outputs": [],
   "source": [
    "def format_df(data):\n",
    "    data = data.copy()\n",
    "    data['defauts'] = data['defauts'].apply(handle_defaut)\n",
    "    label_encoder = LabelEncoder()\n",
    "    data['brand'] = label_encoder.fit_transform(data['name'].apply(lambda row: row.split(' ')[0]))\n",
    "    data['model'] = label_encoder.fit_transform(data['name'].apply(lambda row: ' '.join(row.split(' ')[1:])))\n",
    "    data['fuel'] = label_encoder.fit_transform(data['fuel'])\n",
    "    data['transmission'] = label_encoder.fit_transform(data['transmission'])\n",
    "    data['motorization_type'] = label_encoder.fit_transform(data['motorization_type'])\n",
    "    data['seller'] = label_encoder.fit_transform(data['seller'])\n",
    "    data = data.drop('name', axis=1)\n",
    "    X = data.drop('price', axis=1)\n",
    "    y = data['price']\n",
    "\n",
    "    return X, y"
   ],
   "metadata": {
    "collapsed": false
   }
  },
  {
   "cell_type": "code",
   "execution_count": 45,
   "outputs": [],
   "source": [
    "df_train, df_test = train_test_split(dd, test_size=0.2, random_state=42)"
   ],
   "metadata": {
    "collapsed": false
   }
  },
  {
   "cell_type": "code",
   "execution_count": 46,
   "outputs": [
    {
     "name": "stderr",
     "output_type": "stream",
     "text": [
      "C:\\Users\\Enzo\\anaconda3\\lib\\site-packages\\sklearn\\model_selection\\_validation.py:372: FitFailedWarning: \n",
      "77760 fits failed out of a total of 77760.\n",
      "The score on these train-test partitions for these parameters will be set to nan.\n",
      "If these failures are not expected, you can try to debug them by setting error_score='raise'.\n",
      "\n",
      "Below are more details about the failures:\n",
      "--------------------------------------------------------------------------------\n",
      "77760 fits failed with the following error:\n",
      "Traceback (most recent call last):\n",
      "  File \"C:\\Users\\Enzo\\anaconda3\\lib\\site-packages\\sklearn\\model_selection\\_validation.py\", line 680, in _fit_and_score\n",
      "    estimator.fit(X_train, y_train, **fit_params)\n",
      "  File \"C:\\Users\\Enzo\\anaconda3\\lib\\site-packages\\xgboost\\core.py\", line 729, in inner_f\n",
      "    return func(**kwargs)\n",
      "  File \"C:\\Users\\Enzo\\anaconda3\\lib\\site-packages\\xgboost\\sklearn.py\", line 1051, in fit\n",
      "    train_dmatrix, evals = _wrap_evaluation_matrices(\n",
      "  File \"C:\\Users\\Enzo\\anaconda3\\lib\\site-packages\\xgboost\\sklearn.py\", line 534, in _wrap_evaluation_matrices\n",
      "    train_dmatrix = create_dmatrix(\n",
      "  File \"C:\\Users\\Enzo\\anaconda3\\lib\\site-packages\\xgboost\\sklearn.py\", line 954, in _create_dmatrix\n",
      "    return QuantileDMatrix(\n",
      "  File \"C:\\Users\\Enzo\\anaconda3\\lib\\site-packages\\xgboost\\core.py\", line 729, in inner_f\n",
      "    return func(**kwargs)\n",
      "  File \"C:\\Users\\Enzo\\anaconda3\\lib\\site-packages\\xgboost\\core.py\", line 1528, in __init__\n",
      "    self._init(\n",
      "  File \"C:\\Users\\Enzo\\anaconda3\\lib\\site-packages\\xgboost\\core.py\", line 1587, in _init\n",
      "    it.reraise()\n",
      "  File \"C:\\Users\\Enzo\\anaconda3\\lib\\site-packages\\xgboost\\core.py\", line 575, in reraise\n",
      "    raise exc  # pylint: disable=raising-bad-type\n",
      "  File \"C:\\Users\\Enzo\\anaconda3\\lib\\site-packages\\xgboost\\core.py\", line 556, in _handle_exception\n",
      "    return fn()\n",
      "  File \"C:\\Users\\Enzo\\anaconda3\\lib\\site-packages\\xgboost\\core.py\", line 640, in <lambda>\n",
      "    return self._handle_exception(lambda: self.next(input_data), 0)\n",
      "  File \"C:\\Users\\Enzo\\anaconda3\\lib\\site-packages\\xgboost\\data.py\", line 1280, in next\n",
      "    input_data(**self.kwargs)\n",
      "  File \"C:\\Users\\Enzo\\anaconda3\\lib\\site-packages\\xgboost\\core.py\", line 729, in inner_f\n",
      "    return func(**kwargs)\n",
      "  File \"C:\\Users\\Enzo\\anaconda3\\lib\\site-packages\\xgboost\\core.py\", line 623, in input_data\n",
      "    new, cat_codes, feature_names, feature_types = _proxy_transform(\n",
      "  File \"C:\\Users\\Enzo\\anaconda3\\lib\\site-packages\\xgboost\\data.py\", line 1315, in _proxy_transform\n",
      "    arr, feature_names, feature_types = _transform_pandas_df(\n",
      "  File \"C:\\Users\\Enzo\\anaconda3\\lib\\site-packages\\xgboost\\data.py\", line 490, in _transform_pandas_df\n",
      "    _invalid_dataframe_dtype(data)\n",
      "  File \"C:\\Users\\Enzo\\anaconda3\\lib\\site-packages\\xgboost\\data.py\", line 308, in _invalid_dataframe_dtype\n",
      "    raise ValueError(msg)\n",
      "ValueError: DataFrame.dtypes for data must be int, float, bool or category. When categorical type is supplied, The experimental DMatrix parameter`enable_categorical` must be set to `True`.  Invalid columns:defauts: object\n",
      "\n",
      "  warnings.warn(some_fits_failed_message, FitFailedWarning)\n",
      "C:\\Users\\Enzo\\anaconda3\\lib\\site-packages\\sklearn\\model_selection\\_search.py:969: UserWarning: One or more of the test scores are non-finite: [nan nan nan ... nan nan nan]\n",
      "  warnings.warn(\n"
     ]
    },
    {
     "ename": "ValueError",
     "evalue": "DataFrame.dtypes for data must be int, float, bool or category. When categorical type is supplied, The experimental DMatrix parameter`enable_categorical` must be set to `True`.  Invalid columns:defauts: object",
     "output_type": "error",
     "traceback": [
      "\u001B[1;31m---------------------------------------------------------------------------\u001B[0m",
      "\u001B[1;31mValueError\u001B[0m                                Traceback (most recent call last)",
      "Input \u001B[1;32mIn [46]\u001B[0m, in \u001B[0;36m<cell line: 16>\u001B[1;34m()\u001B[0m\n\u001B[0;32m     13\u001B[0m xgb_clf  \u001B[38;5;241m=\u001B[39m xgb\u001B[38;5;241m.\u001B[39mXGBRegressor(n_estimators\u001B[38;5;241m=\u001B[39m\u001B[38;5;241m100\u001B[39m, use_label_encoder\u001B[38;5;241m=\u001B[39m\u001B[38;5;28;01mFalse\u001B[39;00m, eval_metric\u001B[38;5;241m=\u001B[39m\u001B[38;5;124m'\u001B[39m\u001B[38;5;124mlogloss\u001B[39m\u001B[38;5;124m'\u001B[39m)\n\u001B[0;32m     14\u001B[0m grid_clf \u001B[38;5;241m=\u001B[39m GridSearchCV(xgb_clf , param_grid, scoring\u001B[38;5;241m=\u001B[39m\u001B[38;5;124m'\u001B[39m\u001B[38;5;124maccuracy\u001B[39m\u001B[38;5;124m'\u001B[39m, cv\u001B[38;5;241m=\u001B[39m\u001B[38;5;241m3\u001B[39m, n_jobs\u001B[38;5;241m=\u001B[39m\u001B[38;5;241m-\u001B[39m\u001B[38;5;241m1\u001B[39m)\n\u001B[1;32m---> 16\u001B[0m \u001B[43mgrid_clf\u001B[49m\u001B[38;5;241;43m.\u001B[39;49m\u001B[43mfit\u001B[49m\u001B[43m(\u001B[49m\u001B[43mX_train\u001B[49m\u001B[38;5;241;43m.\u001B[39;49m\u001B[43mfillna\u001B[49m\u001B[43m(\u001B[49m\u001B[38;5;241;43m0\u001B[39;49m\u001B[43m)\u001B[49m\u001B[43m,\u001B[49m\u001B[43m \u001B[49m\u001B[43my_train\u001B[49m\u001B[43m)\u001B[49m\n",
      "File \u001B[1;32m~\\anaconda3\\lib\\site-packages\\sklearn\\model_selection\\_search.py:926\u001B[0m, in \u001B[0;36mBaseSearchCV.fit\u001B[1;34m(self, X, y, groups, **fit_params)\u001B[0m\n\u001B[0;32m    924\u001B[0m refit_start_time \u001B[38;5;241m=\u001B[39m time\u001B[38;5;241m.\u001B[39mtime()\n\u001B[0;32m    925\u001B[0m \u001B[38;5;28;01mif\u001B[39;00m y \u001B[38;5;129;01mis\u001B[39;00m \u001B[38;5;129;01mnot\u001B[39;00m \u001B[38;5;28;01mNone\u001B[39;00m:\n\u001B[1;32m--> 926\u001B[0m     \u001B[38;5;28mself\u001B[39m\u001B[38;5;241m.\u001B[39mbest_estimator_\u001B[38;5;241m.\u001B[39mfit(X, y, \u001B[38;5;241m*\u001B[39m\u001B[38;5;241m*\u001B[39mfit_params)\n\u001B[0;32m    927\u001B[0m \u001B[38;5;28;01melse\u001B[39;00m:\n\u001B[0;32m    928\u001B[0m     \u001B[38;5;28mself\u001B[39m\u001B[38;5;241m.\u001B[39mbest_estimator_\u001B[38;5;241m.\u001B[39mfit(X, \u001B[38;5;241m*\u001B[39m\u001B[38;5;241m*\u001B[39mfit_params)\n",
      "File \u001B[1;32m~\\anaconda3\\lib\\site-packages\\xgboost\\core.py:729\u001B[0m, in \u001B[0;36mrequire_keyword_args.<locals>.throw_if.<locals>.inner_f\u001B[1;34m(*args, **kwargs)\u001B[0m\n\u001B[0;32m    727\u001B[0m \u001B[38;5;28;01mfor\u001B[39;00m k, arg \u001B[38;5;129;01min\u001B[39;00m \u001B[38;5;28mzip\u001B[39m(sig\u001B[38;5;241m.\u001B[39mparameters, args):\n\u001B[0;32m    728\u001B[0m     kwargs[k] \u001B[38;5;241m=\u001B[39m arg\n\u001B[1;32m--> 729\u001B[0m \u001B[38;5;28;01mreturn\u001B[39;00m func(\u001B[38;5;241m*\u001B[39m\u001B[38;5;241m*\u001B[39mkwargs)\n",
      "File \u001B[1;32m~\\anaconda3\\lib\\site-packages\\xgboost\\sklearn.py:1051\u001B[0m, in \u001B[0;36mXGBModel.fit\u001B[1;34m(self, X, y, sample_weight, base_margin, eval_set, eval_metric, early_stopping_rounds, verbose, xgb_model, sample_weight_eval_set, base_margin_eval_set, feature_weights, callbacks)\u001B[0m\n\u001B[0;32m   1049\u001B[0m \u001B[38;5;28;01mwith\u001B[39;00m config_context(verbosity\u001B[38;5;241m=\u001B[39m\u001B[38;5;28mself\u001B[39m\u001B[38;5;241m.\u001B[39mverbosity):\n\u001B[0;32m   1050\u001B[0m     evals_result: TrainingCallback\u001B[38;5;241m.\u001B[39mEvalsLog \u001B[38;5;241m=\u001B[39m {}\n\u001B[1;32m-> 1051\u001B[0m     train_dmatrix, evals \u001B[38;5;241m=\u001B[39m \u001B[43m_wrap_evaluation_matrices\u001B[49m\u001B[43m(\u001B[49m\n\u001B[0;32m   1052\u001B[0m \u001B[43m        \u001B[49m\u001B[43mmissing\u001B[49m\u001B[38;5;241;43m=\u001B[39;49m\u001B[38;5;28;43mself\u001B[39;49m\u001B[38;5;241;43m.\u001B[39;49m\u001B[43mmissing\u001B[49m\u001B[43m,\u001B[49m\n\u001B[0;32m   1053\u001B[0m \u001B[43m        \u001B[49m\u001B[43mX\u001B[49m\u001B[38;5;241;43m=\u001B[39;49m\u001B[43mX\u001B[49m\u001B[43m,\u001B[49m\n\u001B[0;32m   1054\u001B[0m \u001B[43m        \u001B[49m\u001B[43my\u001B[49m\u001B[38;5;241;43m=\u001B[39;49m\u001B[43my\u001B[49m\u001B[43m,\u001B[49m\n\u001B[0;32m   1055\u001B[0m \u001B[43m        \u001B[49m\u001B[43mgroup\u001B[49m\u001B[38;5;241;43m=\u001B[39;49m\u001B[38;5;28;43;01mNone\u001B[39;49;00m\u001B[43m,\u001B[49m\n\u001B[0;32m   1056\u001B[0m \u001B[43m        \u001B[49m\u001B[43mqid\u001B[49m\u001B[38;5;241;43m=\u001B[39;49m\u001B[38;5;28;43;01mNone\u001B[39;49;00m\u001B[43m,\u001B[49m\n\u001B[0;32m   1057\u001B[0m \u001B[43m        \u001B[49m\u001B[43msample_weight\u001B[49m\u001B[38;5;241;43m=\u001B[39;49m\u001B[43msample_weight\u001B[49m\u001B[43m,\u001B[49m\n\u001B[0;32m   1058\u001B[0m \u001B[43m        \u001B[49m\u001B[43mbase_margin\u001B[49m\u001B[38;5;241;43m=\u001B[39;49m\u001B[43mbase_margin\u001B[49m\u001B[43m,\u001B[49m\n\u001B[0;32m   1059\u001B[0m \u001B[43m        \u001B[49m\u001B[43mfeature_weights\u001B[49m\u001B[38;5;241;43m=\u001B[39;49m\u001B[43mfeature_weights\u001B[49m\u001B[43m,\u001B[49m\n\u001B[0;32m   1060\u001B[0m \u001B[43m        \u001B[49m\u001B[43meval_set\u001B[49m\u001B[38;5;241;43m=\u001B[39;49m\u001B[43meval_set\u001B[49m\u001B[43m,\u001B[49m\n\u001B[0;32m   1061\u001B[0m \u001B[43m        \u001B[49m\u001B[43msample_weight_eval_set\u001B[49m\u001B[38;5;241;43m=\u001B[39;49m\u001B[43msample_weight_eval_set\u001B[49m\u001B[43m,\u001B[49m\n\u001B[0;32m   1062\u001B[0m \u001B[43m        \u001B[49m\u001B[43mbase_margin_eval_set\u001B[49m\u001B[38;5;241;43m=\u001B[39;49m\u001B[43mbase_margin_eval_set\u001B[49m\u001B[43m,\u001B[49m\n\u001B[0;32m   1063\u001B[0m \u001B[43m        \u001B[49m\u001B[43meval_group\u001B[49m\u001B[38;5;241;43m=\u001B[39;49m\u001B[38;5;28;43;01mNone\u001B[39;49;00m\u001B[43m,\u001B[49m\n\u001B[0;32m   1064\u001B[0m \u001B[43m        \u001B[49m\u001B[43meval_qid\u001B[49m\u001B[38;5;241;43m=\u001B[39;49m\u001B[38;5;28;43;01mNone\u001B[39;49;00m\u001B[43m,\u001B[49m\n\u001B[0;32m   1065\u001B[0m \u001B[43m        \u001B[49m\u001B[43mcreate_dmatrix\u001B[49m\u001B[38;5;241;43m=\u001B[39;49m\u001B[38;5;28;43mself\u001B[39;49m\u001B[38;5;241;43m.\u001B[39;49m\u001B[43m_create_dmatrix\u001B[49m\u001B[43m,\u001B[49m\n\u001B[0;32m   1066\u001B[0m \u001B[43m        \u001B[49m\u001B[43menable_categorical\u001B[49m\u001B[38;5;241;43m=\u001B[39;49m\u001B[38;5;28;43mself\u001B[39;49m\u001B[38;5;241;43m.\u001B[39;49m\u001B[43menable_categorical\u001B[49m\u001B[43m,\u001B[49m\n\u001B[0;32m   1067\u001B[0m \u001B[43m        \u001B[49m\u001B[43mfeature_types\u001B[49m\u001B[38;5;241;43m=\u001B[39;49m\u001B[38;5;28;43mself\u001B[39;49m\u001B[38;5;241;43m.\u001B[39;49m\u001B[43mfeature_types\u001B[49m\u001B[43m,\u001B[49m\n\u001B[0;32m   1068\u001B[0m \u001B[43m    \u001B[49m\u001B[43m)\u001B[49m\n\u001B[0;32m   1069\u001B[0m     params \u001B[38;5;241m=\u001B[39m \u001B[38;5;28mself\u001B[39m\u001B[38;5;241m.\u001B[39mget_xgb_params()\n\u001B[0;32m   1071\u001B[0m     \u001B[38;5;28;01mif\u001B[39;00m callable(\u001B[38;5;28mself\u001B[39m\u001B[38;5;241m.\u001B[39mobjective):\n",
      "File \u001B[1;32m~\\anaconda3\\lib\\site-packages\\xgboost\\sklearn.py:534\u001B[0m, in \u001B[0;36m_wrap_evaluation_matrices\u001B[1;34m(missing, X, y, group, qid, sample_weight, base_margin, feature_weights, eval_set, sample_weight_eval_set, base_margin_eval_set, eval_group, eval_qid, create_dmatrix, enable_categorical, feature_types)\u001B[0m\n\u001B[0;32m    514\u001B[0m \u001B[38;5;28;01mdef\u001B[39;00m \u001B[38;5;21m_wrap_evaluation_matrices\u001B[39m(\n\u001B[0;32m    515\u001B[0m     missing: \u001B[38;5;28mfloat\u001B[39m,\n\u001B[0;32m    516\u001B[0m     X: Any,\n\u001B[1;32m   (...)\u001B[0m\n\u001B[0;32m    530\u001B[0m     feature_types: Optional[FeatureTypes],\n\u001B[0;32m    531\u001B[0m ) \u001B[38;5;241m-\u001B[39m\u001B[38;5;241m>\u001B[39m Tuple[Any, List[Tuple[Any, \u001B[38;5;28mstr\u001B[39m]]]:\n\u001B[0;32m    532\u001B[0m     \u001B[38;5;124;03m\"\"\"Convert array_like evaluation matrices into DMatrix.  Perform validation on the\u001B[39;00m\n\u001B[0;32m    533\u001B[0m \u001B[38;5;124;03m    way.\"\"\"\u001B[39;00m\n\u001B[1;32m--> 534\u001B[0m     train_dmatrix \u001B[38;5;241m=\u001B[39m \u001B[43mcreate_dmatrix\u001B[49m\u001B[43m(\u001B[49m\n\u001B[0;32m    535\u001B[0m \u001B[43m        \u001B[49m\u001B[43mdata\u001B[49m\u001B[38;5;241;43m=\u001B[39;49m\u001B[43mX\u001B[49m\u001B[43m,\u001B[49m\n\u001B[0;32m    536\u001B[0m \u001B[43m        \u001B[49m\u001B[43mlabel\u001B[49m\u001B[38;5;241;43m=\u001B[39;49m\u001B[43my\u001B[49m\u001B[43m,\u001B[49m\n\u001B[0;32m    537\u001B[0m \u001B[43m        \u001B[49m\u001B[43mgroup\u001B[49m\u001B[38;5;241;43m=\u001B[39;49m\u001B[43mgroup\u001B[49m\u001B[43m,\u001B[49m\n\u001B[0;32m    538\u001B[0m \u001B[43m        \u001B[49m\u001B[43mqid\u001B[49m\u001B[38;5;241;43m=\u001B[39;49m\u001B[43mqid\u001B[49m\u001B[43m,\u001B[49m\n\u001B[0;32m    539\u001B[0m \u001B[43m        \u001B[49m\u001B[43mweight\u001B[49m\u001B[38;5;241;43m=\u001B[39;49m\u001B[43msample_weight\u001B[49m\u001B[43m,\u001B[49m\n\u001B[0;32m    540\u001B[0m \u001B[43m        \u001B[49m\u001B[43mbase_margin\u001B[49m\u001B[38;5;241;43m=\u001B[39;49m\u001B[43mbase_margin\u001B[49m\u001B[43m,\u001B[49m\n\u001B[0;32m    541\u001B[0m \u001B[43m        \u001B[49m\u001B[43mfeature_weights\u001B[49m\u001B[38;5;241;43m=\u001B[39;49m\u001B[43mfeature_weights\u001B[49m\u001B[43m,\u001B[49m\n\u001B[0;32m    542\u001B[0m \u001B[43m        \u001B[49m\u001B[43mmissing\u001B[49m\u001B[38;5;241;43m=\u001B[39;49m\u001B[43mmissing\u001B[49m\u001B[43m,\u001B[49m\n\u001B[0;32m    543\u001B[0m \u001B[43m        \u001B[49m\u001B[43menable_categorical\u001B[49m\u001B[38;5;241;43m=\u001B[39;49m\u001B[43menable_categorical\u001B[49m\u001B[43m,\u001B[49m\n\u001B[0;32m    544\u001B[0m \u001B[43m        \u001B[49m\u001B[43mfeature_types\u001B[49m\u001B[38;5;241;43m=\u001B[39;49m\u001B[43mfeature_types\u001B[49m\u001B[43m,\u001B[49m\n\u001B[0;32m    545\u001B[0m \u001B[43m        \u001B[49m\u001B[43mref\u001B[49m\u001B[38;5;241;43m=\u001B[39;49m\u001B[38;5;28;43;01mNone\u001B[39;49;00m\u001B[43m,\u001B[49m\n\u001B[0;32m    546\u001B[0m \u001B[43m    \u001B[49m\u001B[43m)\u001B[49m\n\u001B[0;32m    548\u001B[0m     n_validation \u001B[38;5;241m=\u001B[39m \u001B[38;5;241m0\u001B[39m \u001B[38;5;28;01mif\u001B[39;00m eval_set \u001B[38;5;129;01mis\u001B[39;00m \u001B[38;5;28;01mNone\u001B[39;00m \u001B[38;5;28;01melse\u001B[39;00m \u001B[38;5;28mlen\u001B[39m(eval_set)\n\u001B[0;32m    550\u001B[0m     \u001B[38;5;28;01mdef\u001B[39;00m \u001B[38;5;21mvalidate_or_none\u001B[39m(meta: Optional[Sequence], name: \u001B[38;5;28mstr\u001B[39m) \u001B[38;5;241m-\u001B[39m\u001B[38;5;241m>\u001B[39m Sequence:\n",
      "File \u001B[1;32m~\\anaconda3\\lib\\site-packages\\xgboost\\sklearn.py:954\u001B[0m, in \u001B[0;36mXGBModel._create_dmatrix\u001B[1;34m(self, ref, **kwargs)\u001B[0m\n\u001B[0;32m    952\u001B[0m \u001B[38;5;28;01mif\u001B[39;00m _can_use_qdm(\u001B[38;5;28mself\u001B[39m\u001B[38;5;241m.\u001B[39mtree_method) \u001B[38;5;129;01mand\u001B[39;00m \u001B[38;5;28mself\u001B[39m\u001B[38;5;241m.\u001B[39mbooster \u001B[38;5;241m!=\u001B[39m \u001B[38;5;124m\"\u001B[39m\u001B[38;5;124mgblinear\u001B[39m\u001B[38;5;124m\"\u001B[39m:\n\u001B[0;32m    953\u001B[0m     \u001B[38;5;28;01mtry\u001B[39;00m:\n\u001B[1;32m--> 954\u001B[0m         \u001B[38;5;28;01mreturn\u001B[39;00m QuantileDMatrix(\n\u001B[0;32m    955\u001B[0m             \u001B[38;5;241m*\u001B[39m\u001B[38;5;241m*\u001B[39mkwargs, ref\u001B[38;5;241m=\u001B[39mref, nthread\u001B[38;5;241m=\u001B[39m\u001B[38;5;28mself\u001B[39m\u001B[38;5;241m.\u001B[39mn_jobs, max_bin\u001B[38;5;241m=\u001B[39m\u001B[38;5;28mself\u001B[39m\u001B[38;5;241m.\u001B[39mmax_bin\n\u001B[0;32m    956\u001B[0m         )\n\u001B[0;32m    957\u001B[0m     \u001B[38;5;28;01mexcept\u001B[39;00m \u001B[38;5;167;01mTypeError\u001B[39;00m:  \u001B[38;5;66;03m# `QuantileDMatrix` supports lesser types than DMatrix\u001B[39;00m\n\u001B[0;32m    958\u001B[0m         \u001B[38;5;28;01mpass\u001B[39;00m\n",
      "File \u001B[1;32m~\\anaconda3\\lib\\site-packages\\xgboost\\core.py:729\u001B[0m, in \u001B[0;36mrequire_keyword_args.<locals>.throw_if.<locals>.inner_f\u001B[1;34m(*args, **kwargs)\u001B[0m\n\u001B[0;32m    727\u001B[0m \u001B[38;5;28;01mfor\u001B[39;00m k, arg \u001B[38;5;129;01min\u001B[39;00m \u001B[38;5;28mzip\u001B[39m(sig\u001B[38;5;241m.\u001B[39mparameters, args):\n\u001B[0;32m    728\u001B[0m     kwargs[k] \u001B[38;5;241m=\u001B[39m arg\n\u001B[1;32m--> 729\u001B[0m \u001B[38;5;28;01mreturn\u001B[39;00m func(\u001B[38;5;241m*\u001B[39m\u001B[38;5;241m*\u001B[39mkwargs)\n",
      "File \u001B[1;32m~\\anaconda3\\lib\\site-packages\\xgboost\\core.py:1528\u001B[0m, in \u001B[0;36mQuantileDMatrix.__init__\u001B[1;34m(self, data, label, weight, base_margin, missing, silent, feature_names, feature_types, nthread, max_bin, ref, group, qid, label_lower_bound, label_upper_bound, feature_weights, enable_categorical, data_split_mode)\u001B[0m\n\u001B[0;32m   1508\u001B[0m     \u001B[38;5;28;01mif\u001B[39;00m \u001B[38;5;28many\u001B[39m(\n\u001B[0;32m   1509\u001B[0m         info \u001B[38;5;129;01mis\u001B[39;00m \u001B[38;5;129;01mnot\u001B[39;00m \u001B[38;5;28;01mNone\u001B[39;00m\n\u001B[0;32m   1510\u001B[0m         \u001B[38;5;28;01mfor\u001B[39;00m info \u001B[38;5;129;01min\u001B[39;00m (\n\u001B[1;32m   (...)\u001B[0m\n\u001B[0;32m   1521\u001B[0m         )\n\u001B[0;32m   1522\u001B[0m     ):\n\u001B[0;32m   1523\u001B[0m         \u001B[38;5;28;01mraise\u001B[39;00m \u001B[38;5;167;01mValueError\u001B[39;00m(\n\u001B[0;32m   1524\u001B[0m             \u001B[38;5;124m\"\u001B[39m\u001B[38;5;124mIf data iterator is used as input, data like label should be \u001B[39m\u001B[38;5;124m\"\u001B[39m\n\u001B[0;32m   1525\u001B[0m             \u001B[38;5;124m\"\u001B[39m\u001B[38;5;124mspecified as batch argument.\u001B[39m\u001B[38;5;124m\"\u001B[39m\n\u001B[0;32m   1526\u001B[0m         )\n\u001B[1;32m-> 1528\u001B[0m \u001B[38;5;28;43mself\u001B[39;49m\u001B[38;5;241;43m.\u001B[39;49m\u001B[43m_init\u001B[49m\u001B[43m(\u001B[49m\n\u001B[0;32m   1529\u001B[0m \u001B[43m    \u001B[49m\u001B[43mdata\u001B[49m\u001B[43m,\u001B[49m\n\u001B[0;32m   1530\u001B[0m \u001B[43m    \u001B[49m\u001B[43mref\u001B[49m\u001B[38;5;241;43m=\u001B[39;49m\u001B[43mref\u001B[49m\u001B[43m,\u001B[49m\n\u001B[0;32m   1531\u001B[0m \u001B[43m    \u001B[49m\u001B[43mlabel\u001B[49m\u001B[38;5;241;43m=\u001B[39;49m\u001B[43mlabel\u001B[49m\u001B[43m,\u001B[49m\n\u001B[0;32m   1532\u001B[0m \u001B[43m    \u001B[49m\u001B[43mweight\u001B[49m\u001B[38;5;241;43m=\u001B[39;49m\u001B[43mweight\u001B[49m\u001B[43m,\u001B[49m\n\u001B[0;32m   1533\u001B[0m \u001B[43m    \u001B[49m\u001B[43mbase_margin\u001B[49m\u001B[38;5;241;43m=\u001B[39;49m\u001B[43mbase_margin\u001B[49m\u001B[43m,\u001B[49m\n\u001B[0;32m   1534\u001B[0m \u001B[43m    \u001B[49m\u001B[43mgroup\u001B[49m\u001B[38;5;241;43m=\u001B[39;49m\u001B[43mgroup\u001B[49m\u001B[43m,\u001B[49m\n\u001B[0;32m   1535\u001B[0m \u001B[43m    \u001B[49m\u001B[43mqid\u001B[49m\u001B[38;5;241;43m=\u001B[39;49m\u001B[43mqid\u001B[49m\u001B[43m,\u001B[49m\n\u001B[0;32m   1536\u001B[0m \u001B[43m    \u001B[49m\u001B[43mlabel_lower_bound\u001B[49m\u001B[38;5;241;43m=\u001B[39;49m\u001B[43mlabel_lower_bound\u001B[49m\u001B[43m,\u001B[49m\n\u001B[0;32m   1537\u001B[0m \u001B[43m    \u001B[49m\u001B[43mlabel_upper_bound\u001B[49m\u001B[38;5;241;43m=\u001B[39;49m\u001B[43mlabel_upper_bound\u001B[49m\u001B[43m,\u001B[49m\n\u001B[0;32m   1538\u001B[0m \u001B[43m    \u001B[49m\u001B[43mfeature_weights\u001B[49m\u001B[38;5;241;43m=\u001B[39;49m\u001B[43mfeature_weights\u001B[49m\u001B[43m,\u001B[49m\n\u001B[0;32m   1539\u001B[0m \u001B[43m    \u001B[49m\u001B[43mfeature_names\u001B[49m\u001B[38;5;241;43m=\u001B[39;49m\u001B[43mfeature_names\u001B[49m\u001B[43m,\u001B[49m\n\u001B[0;32m   1540\u001B[0m \u001B[43m    \u001B[49m\u001B[43mfeature_types\u001B[49m\u001B[38;5;241;43m=\u001B[39;49m\u001B[43mfeature_types\u001B[49m\u001B[43m,\u001B[49m\n\u001B[0;32m   1541\u001B[0m \u001B[43m    \u001B[49m\u001B[43menable_categorical\u001B[49m\u001B[38;5;241;43m=\u001B[39;49m\u001B[43menable_categorical\u001B[49m\u001B[43m,\u001B[49m\n\u001B[0;32m   1542\u001B[0m \u001B[43m\u001B[49m\u001B[43m)\u001B[49m\n",
      "File \u001B[1;32m~\\anaconda3\\lib\\site-packages\\xgboost\\core.py:1587\u001B[0m, in \u001B[0;36mQuantileDMatrix._init\u001B[1;34m(self, data, ref, enable_categorical, **meta)\u001B[0m\n\u001B[0;32m   1575\u001B[0m config \u001B[38;5;241m=\u001B[39m make_jcargs(\n\u001B[0;32m   1576\u001B[0m     nthread\u001B[38;5;241m=\u001B[39m\u001B[38;5;28mself\u001B[39m\u001B[38;5;241m.\u001B[39mnthread, missing\u001B[38;5;241m=\u001B[39m\u001B[38;5;28mself\u001B[39m\u001B[38;5;241m.\u001B[39mmissing, max_bin\u001B[38;5;241m=\u001B[39m\u001B[38;5;28mself\u001B[39m\u001B[38;5;241m.\u001B[39mmax_bin\n\u001B[0;32m   1577\u001B[0m )\n\u001B[0;32m   1578\u001B[0m ret \u001B[38;5;241m=\u001B[39m _LIB\u001B[38;5;241m.\u001B[39mXGQuantileDMatrixCreateFromCallback(\n\u001B[0;32m   1579\u001B[0m     \u001B[38;5;28;01mNone\u001B[39;00m,\n\u001B[0;32m   1580\u001B[0m     it\u001B[38;5;241m.\u001B[39mproxy\u001B[38;5;241m.\u001B[39mhandle,\n\u001B[1;32m   (...)\u001B[0m\n\u001B[0;32m   1585\u001B[0m     ctypes\u001B[38;5;241m.\u001B[39mbyref(handle),\n\u001B[0;32m   1586\u001B[0m )\n\u001B[1;32m-> 1587\u001B[0m \u001B[43mit\u001B[49m\u001B[38;5;241;43m.\u001B[39;49m\u001B[43mreraise\u001B[49m\u001B[43m(\u001B[49m\u001B[43m)\u001B[49m\n\u001B[0;32m   1588\u001B[0m \u001B[38;5;66;03m# delay check_call to throw intermediate exception first\u001B[39;00m\n\u001B[0;32m   1589\u001B[0m _check_call(ret)\n",
      "File \u001B[1;32m~\\anaconda3\\lib\\site-packages\\xgboost\\core.py:575\u001B[0m, in \u001B[0;36mDataIter.reraise\u001B[1;34m(self)\u001B[0m\n\u001B[0;32m    573\u001B[0m exc \u001B[38;5;241m=\u001B[39m \u001B[38;5;28mself\u001B[39m\u001B[38;5;241m.\u001B[39m_exception\n\u001B[0;32m    574\u001B[0m \u001B[38;5;28mself\u001B[39m\u001B[38;5;241m.\u001B[39m_exception \u001B[38;5;241m=\u001B[39m \u001B[38;5;28;01mNone\u001B[39;00m\n\u001B[1;32m--> 575\u001B[0m \u001B[38;5;28;01mraise\u001B[39;00m exc\n",
      "File \u001B[1;32m~\\anaconda3\\lib\\site-packages\\xgboost\\core.py:556\u001B[0m, in \u001B[0;36mDataIter._handle_exception\u001B[1;34m(self, fn, dft_ret)\u001B[0m\n\u001B[0;32m    553\u001B[0m     \u001B[38;5;28;01mreturn\u001B[39;00m dft_ret\n\u001B[0;32m    555\u001B[0m \u001B[38;5;28;01mtry\u001B[39;00m:\n\u001B[1;32m--> 556\u001B[0m     \u001B[38;5;28;01mreturn\u001B[39;00m \u001B[43mfn\u001B[49m\u001B[43m(\u001B[49m\u001B[43m)\u001B[49m\n\u001B[0;32m    557\u001B[0m \u001B[38;5;28;01mexcept\u001B[39;00m \u001B[38;5;167;01mException\u001B[39;00m \u001B[38;5;28;01mas\u001B[39;00m e:  \u001B[38;5;66;03m# pylint: disable=broad-except\u001B[39;00m\n\u001B[0;32m    558\u001B[0m     \u001B[38;5;66;03m# Defer the exception in order to return 0 and stop the iteration.\u001B[39;00m\n\u001B[0;32m    559\u001B[0m     \u001B[38;5;66;03m# Exception inside a ctype callback function has no effect except\u001B[39;00m\n\u001B[0;32m    560\u001B[0m     \u001B[38;5;66;03m# for printing to stderr (doesn't stop the execution).\u001B[39;00m\n\u001B[0;32m    561\u001B[0m     tb \u001B[38;5;241m=\u001B[39m sys\u001B[38;5;241m.\u001B[39mexc_info()[\u001B[38;5;241m2\u001B[39m]\n",
      "File \u001B[1;32m~\\anaconda3\\lib\\site-packages\\xgboost\\core.py:640\u001B[0m, in \u001B[0;36mDataIter._next_wrapper.<locals>.<lambda>\u001B[1;34m()\u001B[0m\n\u001B[0;32m    637\u001B[0m     \u001B[38;5;28mself\u001B[39m\u001B[38;5;241m.\u001B[39m_data_ref \u001B[38;5;241m=\u001B[39m ref\n\u001B[0;32m    639\u001B[0m \u001B[38;5;66;03m# pylint: disable=not-callable\u001B[39;00m\n\u001B[1;32m--> 640\u001B[0m \u001B[38;5;28;01mreturn\u001B[39;00m \u001B[38;5;28mself\u001B[39m\u001B[38;5;241m.\u001B[39m_handle_exception(\u001B[38;5;28;01mlambda\u001B[39;00m: \u001B[38;5;28;43mself\u001B[39;49m\u001B[38;5;241;43m.\u001B[39;49m\u001B[43mnext\u001B[49m\u001B[43m(\u001B[49m\u001B[43minput_data\u001B[49m\u001B[43m)\u001B[49m, \u001B[38;5;241m0\u001B[39m)\n",
      "File \u001B[1;32m~\\anaconda3\\lib\\site-packages\\xgboost\\data.py:1280\u001B[0m, in \u001B[0;36mSingleBatchInternalIter.next\u001B[1;34m(self, input_data)\u001B[0m\n\u001B[0;32m   1278\u001B[0m     \u001B[38;5;28;01mreturn\u001B[39;00m \u001B[38;5;241m0\u001B[39m\n\u001B[0;32m   1279\u001B[0m \u001B[38;5;28mself\u001B[39m\u001B[38;5;241m.\u001B[39mit \u001B[38;5;241m+\u001B[39m\u001B[38;5;241m=\u001B[39m \u001B[38;5;241m1\u001B[39m\n\u001B[1;32m-> 1280\u001B[0m input_data(\u001B[38;5;241m*\u001B[39m\u001B[38;5;241m*\u001B[39m\u001B[38;5;28mself\u001B[39m\u001B[38;5;241m.\u001B[39mkwargs)\n\u001B[0;32m   1281\u001B[0m \u001B[38;5;28;01mreturn\u001B[39;00m \u001B[38;5;241m1\u001B[39m\n",
      "File \u001B[1;32m~\\anaconda3\\lib\\site-packages\\xgboost\\core.py:729\u001B[0m, in \u001B[0;36mrequire_keyword_args.<locals>.throw_if.<locals>.inner_f\u001B[1;34m(*args, **kwargs)\u001B[0m\n\u001B[0;32m    727\u001B[0m \u001B[38;5;28;01mfor\u001B[39;00m k, arg \u001B[38;5;129;01min\u001B[39;00m \u001B[38;5;28mzip\u001B[39m(sig\u001B[38;5;241m.\u001B[39mparameters, args):\n\u001B[0;32m    728\u001B[0m     kwargs[k] \u001B[38;5;241m=\u001B[39m arg\n\u001B[1;32m--> 729\u001B[0m \u001B[38;5;28;01mreturn\u001B[39;00m func(\u001B[38;5;241m*\u001B[39m\u001B[38;5;241m*\u001B[39mkwargs)\n",
      "File \u001B[1;32m~\\anaconda3\\lib\\site-packages\\xgboost\\core.py:623\u001B[0m, in \u001B[0;36mDataIter._next_wrapper.<locals>.input_data\u001B[1;34m(data, feature_names, feature_types, **kwargs)\u001B[0m\n\u001B[0;32m    621\u001B[0m     new, cat_codes, feature_names, feature_types \u001B[38;5;241m=\u001B[39m \u001B[38;5;28mself\u001B[39m\u001B[38;5;241m.\u001B[39m_temporary_data\n\u001B[0;32m    622\u001B[0m \u001B[38;5;28;01melse\u001B[39;00m:\n\u001B[1;32m--> 623\u001B[0m     new, cat_codes, feature_names, feature_types \u001B[38;5;241m=\u001B[39m \u001B[43m_proxy_transform\u001B[49m\u001B[43m(\u001B[49m\n\u001B[0;32m    624\u001B[0m \u001B[43m        \u001B[49m\u001B[43mdata\u001B[49m\u001B[43m,\u001B[49m\n\u001B[0;32m    625\u001B[0m \u001B[43m        \u001B[49m\u001B[43mfeature_names\u001B[49m\u001B[43m,\u001B[49m\n\u001B[0;32m    626\u001B[0m \u001B[43m        \u001B[49m\u001B[43mfeature_types\u001B[49m\u001B[43m,\u001B[49m\n\u001B[0;32m    627\u001B[0m \u001B[43m        \u001B[49m\u001B[38;5;28;43mself\u001B[39;49m\u001B[38;5;241;43m.\u001B[39;49m\u001B[43m_enable_categorical\u001B[49m\u001B[43m,\u001B[49m\n\u001B[0;32m    628\u001B[0m \u001B[43m    \u001B[49m\u001B[43m)\u001B[49m\n\u001B[0;32m    629\u001B[0m \u001B[38;5;66;03m# Stage the data, meta info are copied inside C++ MetaInfo.\u001B[39;00m\n\u001B[0;32m    630\u001B[0m \u001B[38;5;28mself\u001B[39m\u001B[38;5;241m.\u001B[39m_temporary_data \u001B[38;5;241m=\u001B[39m (new, cat_codes, feature_names, feature_types)\n",
      "File \u001B[1;32m~\\anaconda3\\lib\\site-packages\\xgboost\\data.py:1315\u001B[0m, in \u001B[0;36m_proxy_transform\u001B[1;34m(data, feature_names, feature_types, enable_categorical)\u001B[0m\n\u001B[0;32m   1313\u001B[0m     data \u001B[38;5;241m=\u001B[39m pd\u001B[38;5;241m.\u001B[39mDataFrame(data)\n\u001B[0;32m   1314\u001B[0m \u001B[38;5;28;01mif\u001B[39;00m _is_pandas_df(data):\n\u001B[1;32m-> 1315\u001B[0m     arr, feature_names, feature_types \u001B[38;5;241m=\u001B[39m \u001B[43m_transform_pandas_df\u001B[49m\u001B[43m(\u001B[49m\n\u001B[0;32m   1316\u001B[0m \u001B[43m        \u001B[49m\u001B[43mdata\u001B[49m\u001B[43m,\u001B[49m\u001B[43m \u001B[49m\u001B[43menable_categorical\u001B[49m\u001B[43m,\u001B[49m\u001B[43m \u001B[49m\u001B[43mfeature_names\u001B[49m\u001B[43m,\u001B[49m\u001B[43m \u001B[49m\u001B[43mfeature_types\u001B[49m\n\u001B[0;32m   1317\u001B[0m \u001B[43m    \u001B[49m\u001B[43m)\u001B[49m\n\u001B[0;32m   1318\u001B[0m     arr, _ \u001B[38;5;241m=\u001B[39m _ensure_np_dtype(arr, arr\u001B[38;5;241m.\u001B[39mdtype)\n\u001B[0;32m   1319\u001B[0m     \u001B[38;5;28;01mreturn\u001B[39;00m arr, \u001B[38;5;28;01mNone\u001B[39;00m, feature_names, feature_types\n",
      "File \u001B[1;32m~\\anaconda3\\lib\\site-packages\\xgboost\\data.py:490\u001B[0m, in \u001B[0;36m_transform_pandas_df\u001B[1;34m(data, enable_categorical, feature_names, feature_types, meta, meta_type)\u001B[0m\n\u001B[0;32m    483\u001B[0m \u001B[38;5;28;01mfor\u001B[39;00m dtype \u001B[38;5;129;01min\u001B[39;00m data\u001B[38;5;241m.\u001B[39mdtypes:\n\u001B[0;32m    484\u001B[0m     \u001B[38;5;28;01mif\u001B[39;00m \u001B[38;5;129;01mnot\u001B[39;00m (\n\u001B[0;32m    485\u001B[0m         (dtype\u001B[38;5;241m.\u001B[39mname \u001B[38;5;129;01min\u001B[39;00m _pandas_dtype_mapper)\n\u001B[0;32m    486\u001B[0m         \u001B[38;5;129;01mor\u001B[39;00m is_pd_sparse_dtype(dtype)\n\u001B[0;32m    487\u001B[0m         \u001B[38;5;129;01mor\u001B[39;00m (is_pd_cat_dtype(dtype) \u001B[38;5;129;01mand\u001B[39;00m enable_categorical)\n\u001B[0;32m    488\u001B[0m         \u001B[38;5;129;01mor\u001B[39;00m is_pa_ext_dtype(dtype)\n\u001B[0;32m    489\u001B[0m     ):\n\u001B[1;32m--> 490\u001B[0m         \u001B[43m_invalid_dataframe_dtype\u001B[49m\u001B[43m(\u001B[49m\u001B[43mdata\u001B[49m\u001B[43m)\u001B[49m\n\u001B[0;32m    491\u001B[0m     \u001B[38;5;28;01mif\u001B[39;00m is_pa_ext_dtype(dtype):\n\u001B[0;32m    492\u001B[0m         pyarrow_extension \u001B[38;5;241m=\u001B[39m \u001B[38;5;28;01mTrue\u001B[39;00m\n",
      "File \u001B[1;32m~\\anaconda3\\lib\\site-packages\\xgboost\\data.py:308\u001B[0m, in \u001B[0;36m_invalid_dataframe_dtype\u001B[1;34m(data)\u001B[0m\n\u001B[0;32m    306\u001B[0m type_err \u001B[38;5;241m=\u001B[39m \u001B[38;5;124m\"\u001B[39m\u001B[38;5;124mDataFrame.dtypes for data must be int, float, bool or category.\u001B[39m\u001B[38;5;124m\"\u001B[39m\n\u001B[0;32m    307\u001B[0m msg \u001B[38;5;241m=\u001B[39m \u001B[38;5;124mf\u001B[39m\u001B[38;5;124m\"\"\"\u001B[39m\u001B[38;5;132;01m{\u001B[39;00mtype_err\u001B[38;5;132;01m}\u001B[39;00m\u001B[38;5;124m \u001B[39m\u001B[38;5;132;01m{\u001B[39;00m_ENABLE_CAT_ERR\u001B[38;5;132;01m}\u001B[39;00m\u001B[38;5;124m \u001B[39m\u001B[38;5;132;01m{\u001B[39;00merr\u001B[38;5;132;01m}\u001B[39;00m\u001B[38;5;124m\"\"\"\u001B[39m\n\u001B[1;32m--> 308\u001B[0m \u001B[38;5;28;01mraise\u001B[39;00m \u001B[38;5;167;01mValueError\u001B[39;00m(msg)\n",
      "\u001B[1;31mValueError\u001B[0m: DataFrame.dtypes for data must be int, float, bool or category. When categorical type is supplied, The experimental DMatrix parameter`enable_categorical` must be set to `True`.  Invalid columns:defauts: object"
     ]
    }
   ],
   "source": [
    "param_grid = {\n",
    "    'max_depth': [3, 4, 5, 6, 7],\n",
    "    'learning_rate': [0.1, 0.01, 0.05, 0.001],\n",
    "    'gamma': [0, 0.25, 0.5, 1.0],\n",
    "    'reg_lambda': [0, 1.0, 5.0, 10.0],\n",
    "    'scale_pos_weight': [1, 3, 5],\n",
    "    'subsample': [0.5, 0.7, 0.9],\n",
    "    'colsample_bytree': [0.5, 0.7, 1.0],\n",
    "    'min_child_weight': [1, 3, 5]\n",
    "}\n",
    "\n",
    "(X_train, y_train), (X_test, y_test) = format_df(df_train), format_df(df_test)\n",
    "xgb_clf  = xgb.XGBRegressor(n_estimators=100, use_label_encoder=False, eval_metric='logloss')\n",
    "grid_clf = GridSearchCV(xgb_clf , param_grid, scoring='accuracy', cv=3, n_jobs=-1)\n",
    "\n",
    "grid_clf.fit(X_train.fillna(0), y_train)\n",
    "\n"
   ],
   "metadata": {
    "collapsed": false
   }
  },
  {
   "cell_type": "code",
   "execution_count": null,
   "outputs": [],
   "source": [
    "y_pred = grid_clf.predict(X_test.fillna(0))\n",
    "print(f\"Best parameters found: {grid_clf.best_params_}\")"
   ],
   "metadata": {
    "collapsed": false
   }
  },
  {
   "cell_type": "code",
   "execution_count": 48,
   "outputs": [],
   "source": [
    "X_train = X_train.fillna(0)"
   ],
   "metadata": {
    "collapsed": false
   }
  },
  {
   "cell_type": "code",
   "execution_count": 49,
   "outputs": [
    {
     "data": {
      "text/plain": "      Unnamed: 0                        name    price  leasing  \\\n0              0              peugeot 308 sw  12499.0      NaN   \n1              1                  citroen c4  10699.0      NaN   \n2              2             volkswagen polo  10499.0      NaN   \n3              3                toyota yaris  10999.0      NaN   \n4              4           citroen c4 cactus  12699.0      NaN   \n...          ...                         ...      ...      ...   \n5195        5195   volvo v40 (2e generation)  19240.0    250.0   \n5196        5196      citroen c3 iii phase 2  15460.0    210.0   \n5197        5197       ford ecosport phase 2  16510.0    220.0   \n5198        5198  nissan x-trail iii phase 2  25980.0      NaN   \n5199        5199             peugeot 5008 ii  28070.0      NaN   \n\n                                             equipments    date  \\\n0     ['Start & Stop', 'Direction Assistée électriqu...  2016.0   \n1     ['Aide au stationnement arrière', 'Climatisati...  2015.0   \n2     ['Climatisation manuelle', \"Appuie-tête à sécu...  2014.0   \n3     ['Climatisation manuelle', 'Vitres AV électriq...  2016.0   \n4     ['Climatisation automatique', 'Régulateur et L...  2016.0   \n...                                                 ...     ...   \n5195  ['Extérieur et Chassis', 'Jantes alu', 'Peintu...  2020.0   \n5196  ['Extérieur et Chassis', 'Aide parking', 'Jant...  2022.0   \n5197  ['Extérieur et Chassis', 'Aide parking', 'Jant...  2022.0   \n5198  ['Extérieur et Chassis', 'Phares à allumage au...  2020.0   \n5199  ['Extérieur et Chassis', 'Attelage', 'Pack vis...  2020.0   \n\n                                  motor     fuel               transmission  \\\n0                 1.2 PureTech 130 BVM6  Essence  Boîte manuelle 6 rapports   \n1                  1.6 BlueHDi 100 BVM5   Diesel  Boîte manuelle 5 rapports   \n2                           1.2 60 BVM5  Essence  Boîte manuelle 5 rapports   \n3                     1.0 VVT-i 70 BVM5  Essence  Boîte manuelle 5 rapports   \n4                  1.2 PureTech 82 BVM5  Essence  Boîte manuelle 5 rapports   \n...                                 ...      ...                        ...   \n5195  II (2) 2.0 D2 ADBLUE 120 BUSINESS   Diesel                   Manuelle   \n5196              1.2 PURETECH 83 SHINE  Essence                   Manuelle   \n5197            1.0 ECOBOOST 125 ACTIVE  Essence                   Manuelle   \n5198             1.7 DCI 150 N-CONNECTA   Diesel                Automatique   \n5199            1.2 PURETECH 130 ALLURE  Essence                Automatique   \n\n                    type  ...  defauts  seller  displacement  power  \\\n0     Voiture d'occasion  ...     13.0  aramis           1.2    130   \n1     Voiture d'occasion  ...     22.0  aramis           1.6    100   \n2     Voiture d'occasion  ...     12.0  aramis           1.2     60   \n3     Voiture d'occasion  ...     14.0  aramis           1.0     70   \n4     Voiture d'occasion  ...     14.0  aramis           1.2     82   \n...                  ...  ...      ...     ...           ...    ...   \n5195                 NaN  ...      NaN     NaN           2.0    120   \n5196                 NaN  ...      NaN     NaN           1.2     83   \n5197                 NaN  ...      NaN     NaN           1.0    125   \n5198                 NaN  ...      NaN     NaN           1.7    150   \n5199                 NaN  ...      NaN     NaN           1.2    130   \n\n                                         href                 location  \\\n0                                         NaN                      NaN   \n1                                         NaN                      NaN   \n2                                         NaN                      NaN   \n3                                         NaN                      NaN   \n4                                         NaN                      NaN   \n...                                       ...                      ...   \n5195  /auto-occasion-annonce-69111846101.html         CONTRISSON 55800   \n5196  /auto-occasion-annonce-69112850719.html           NANTERRE 92000   \n5197  /auto-occasion-annonce-69113029185.html           NANTERRE 92000   \n5198  /auto-occasion-annonce-87102831129.html  CHARNAY LES MACON 71850   \n5199  /auto-occasion-annonce-69113065024.html           MERIGNAC 33700   \n\n     critair                                              extra  \\\n0        NaN                                                NaN   \n1        NaN                                                NaN   \n2        NaN                                                NaN   \n3        NaN                                                NaN   \n4        NaN                                                NaN   \n...      ...                                                ...   \n5195     2.0  {'year': '2020', 'kilometers': ' 63 174 km', '...   \n5196     1.0  {'year': '2022', 'kilometers': ' 22 629 km', '...   \n5197     1.0  {'year': '2022', 'kilometers': ' 94 729 km', '...   \n5198     2.0  {'year': '2020', 'kilometers': ' 75 674 km', '...   \n5199     1.0  {'year': '2020', 'kilometers': ' 45 156 km', '...   \n\n     motorization_type trim_level  \n0             PureTech       None  \n1              BlueHDi       None  \n2                 None       None  \n3                VVT-i       None  \n4             PureTech       None  \n...                ...        ...  \n5195              None       None  \n5196          PureTech       None  \n5197          EcoBoost       None  \n5198               dCi       None  \n5199          PureTech       None  \n\n[17160 rows x 24 columns]",
      "text/html": "<div>\n<style scoped>\n    .dataframe tbody tr th:only-of-type {\n        vertical-align: middle;\n    }\n\n    .dataframe tbody tr th {\n        vertical-align: top;\n    }\n\n    .dataframe thead th {\n        text-align: right;\n    }\n</style>\n<table border=\"1\" class=\"dataframe\">\n  <thead>\n    <tr style=\"text-align: right;\">\n      <th></th>\n      <th>Unnamed: 0</th>\n      <th>name</th>\n      <th>price</th>\n      <th>leasing</th>\n      <th>equipments</th>\n      <th>date</th>\n      <th>motor</th>\n      <th>fuel</th>\n      <th>transmission</th>\n      <th>type</th>\n      <th>...</th>\n      <th>defauts</th>\n      <th>seller</th>\n      <th>displacement</th>\n      <th>power</th>\n      <th>href</th>\n      <th>location</th>\n      <th>critair</th>\n      <th>extra</th>\n      <th>motorization_type</th>\n      <th>trim_level</th>\n    </tr>\n  </thead>\n  <tbody>\n    <tr>\n      <th>0</th>\n      <td>0</td>\n      <td>peugeot 308 sw</td>\n      <td>12499.0</td>\n      <td>NaN</td>\n      <td>['Start &amp; Stop', 'Direction Assistée électriqu...</td>\n      <td>2016.0</td>\n      <td>1.2 PureTech 130 BVM6</td>\n      <td>Essence</td>\n      <td>Boîte manuelle 6 rapports</td>\n      <td>Voiture d'occasion</td>\n      <td>...</td>\n      <td>13.0</td>\n      <td>aramis</td>\n      <td>1.2</td>\n      <td>130</td>\n      <td>NaN</td>\n      <td>NaN</td>\n      <td>NaN</td>\n      <td>NaN</td>\n      <td>PureTech</td>\n      <td>None</td>\n    </tr>\n    <tr>\n      <th>1</th>\n      <td>1</td>\n      <td>citroen c4</td>\n      <td>10699.0</td>\n      <td>NaN</td>\n      <td>['Aide au stationnement arrière', 'Climatisati...</td>\n      <td>2015.0</td>\n      <td>1.6 BlueHDi 100 BVM5</td>\n      <td>Diesel</td>\n      <td>Boîte manuelle 5 rapports</td>\n      <td>Voiture d'occasion</td>\n      <td>...</td>\n      <td>22.0</td>\n      <td>aramis</td>\n      <td>1.6</td>\n      <td>100</td>\n      <td>NaN</td>\n      <td>NaN</td>\n      <td>NaN</td>\n      <td>NaN</td>\n      <td>BlueHDi</td>\n      <td>None</td>\n    </tr>\n    <tr>\n      <th>2</th>\n      <td>2</td>\n      <td>volkswagen polo</td>\n      <td>10499.0</td>\n      <td>NaN</td>\n      <td>['Climatisation manuelle', \"Appuie-tête à sécu...</td>\n      <td>2014.0</td>\n      <td>1.2 60 BVM5</td>\n      <td>Essence</td>\n      <td>Boîte manuelle 5 rapports</td>\n      <td>Voiture d'occasion</td>\n      <td>...</td>\n      <td>12.0</td>\n      <td>aramis</td>\n      <td>1.2</td>\n      <td>60</td>\n      <td>NaN</td>\n      <td>NaN</td>\n      <td>NaN</td>\n      <td>NaN</td>\n      <td>None</td>\n      <td>None</td>\n    </tr>\n    <tr>\n      <th>3</th>\n      <td>3</td>\n      <td>toyota yaris</td>\n      <td>10999.0</td>\n      <td>NaN</td>\n      <td>['Climatisation manuelle', 'Vitres AV électriq...</td>\n      <td>2016.0</td>\n      <td>1.0 VVT-i 70 BVM5</td>\n      <td>Essence</td>\n      <td>Boîte manuelle 5 rapports</td>\n      <td>Voiture d'occasion</td>\n      <td>...</td>\n      <td>14.0</td>\n      <td>aramis</td>\n      <td>1.0</td>\n      <td>70</td>\n      <td>NaN</td>\n      <td>NaN</td>\n      <td>NaN</td>\n      <td>NaN</td>\n      <td>VVT-i</td>\n      <td>None</td>\n    </tr>\n    <tr>\n      <th>4</th>\n      <td>4</td>\n      <td>citroen c4 cactus</td>\n      <td>12699.0</td>\n      <td>NaN</td>\n      <td>['Climatisation automatique', 'Régulateur et L...</td>\n      <td>2016.0</td>\n      <td>1.2 PureTech 82 BVM5</td>\n      <td>Essence</td>\n      <td>Boîte manuelle 5 rapports</td>\n      <td>Voiture d'occasion</td>\n      <td>...</td>\n      <td>14.0</td>\n      <td>aramis</td>\n      <td>1.2</td>\n      <td>82</td>\n      <td>NaN</td>\n      <td>NaN</td>\n      <td>NaN</td>\n      <td>NaN</td>\n      <td>PureTech</td>\n      <td>None</td>\n    </tr>\n    <tr>\n      <th>...</th>\n      <td>...</td>\n      <td>...</td>\n      <td>...</td>\n      <td>...</td>\n      <td>...</td>\n      <td>...</td>\n      <td>...</td>\n      <td>...</td>\n      <td>...</td>\n      <td>...</td>\n      <td>...</td>\n      <td>...</td>\n      <td>...</td>\n      <td>...</td>\n      <td>...</td>\n      <td>...</td>\n      <td>...</td>\n      <td>...</td>\n      <td>...</td>\n      <td>...</td>\n      <td>...</td>\n    </tr>\n    <tr>\n      <th>5195</th>\n      <td>5195</td>\n      <td>volvo v40 (2e generation)</td>\n      <td>19240.0</td>\n      <td>250.0</td>\n      <td>['Extérieur et Chassis', 'Jantes alu', 'Peintu...</td>\n      <td>2020.0</td>\n      <td>II (2) 2.0 D2 ADBLUE 120 BUSINESS</td>\n      <td>Diesel</td>\n      <td>Manuelle</td>\n      <td>NaN</td>\n      <td>...</td>\n      <td>NaN</td>\n      <td>NaN</td>\n      <td>2.0</td>\n      <td>120</td>\n      <td>/auto-occasion-annonce-69111846101.html</td>\n      <td>CONTRISSON 55800</td>\n      <td>2.0</td>\n      <td>{'year': '2020', 'kilometers': ' 63 174 km', '...</td>\n      <td>None</td>\n      <td>None</td>\n    </tr>\n    <tr>\n      <th>5196</th>\n      <td>5196</td>\n      <td>citroen c3 iii phase 2</td>\n      <td>15460.0</td>\n      <td>210.0</td>\n      <td>['Extérieur et Chassis', 'Aide parking', 'Jant...</td>\n      <td>2022.0</td>\n      <td>1.2 PURETECH 83 SHINE</td>\n      <td>Essence</td>\n      <td>Manuelle</td>\n      <td>NaN</td>\n      <td>...</td>\n      <td>NaN</td>\n      <td>NaN</td>\n      <td>1.2</td>\n      <td>83</td>\n      <td>/auto-occasion-annonce-69112850719.html</td>\n      <td>NANTERRE 92000</td>\n      <td>1.0</td>\n      <td>{'year': '2022', 'kilometers': ' 22 629 km', '...</td>\n      <td>PureTech</td>\n      <td>None</td>\n    </tr>\n    <tr>\n      <th>5197</th>\n      <td>5197</td>\n      <td>ford ecosport phase 2</td>\n      <td>16510.0</td>\n      <td>220.0</td>\n      <td>['Extérieur et Chassis', 'Aide parking', 'Jant...</td>\n      <td>2022.0</td>\n      <td>1.0 ECOBOOST 125 ACTIVE</td>\n      <td>Essence</td>\n      <td>Manuelle</td>\n      <td>NaN</td>\n      <td>...</td>\n      <td>NaN</td>\n      <td>NaN</td>\n      <td>1.0</td>\n      <td>125</td>\n      <td>/auto-occasion-annonce-69113029185.html</td>\n      <td>NANTERRE 92000</td>\n      <td>1.0</td>\n      <td>{'year': '2022', 'kilometers': ' 94 729 km', '...</td>\n      <td>EcoBoost</td>\n      <td>None</td>\n    </tr>\n    <tr>\n      <th>5198</th>\n      <td>5198</td>\n      <td>nissan x-trail iii phase 2</td>\n      <td>25980.0</td>\n      <td>NaN</td>\n      <td>['Extérieur et Chassis', 'Phares à allumage au...</td>\n      <td>2020.0</td>\n      <td>1.7 DCI 150 N-CONNECTA</td>\n      <td>Diesel</td>\n      <td>Automatique</td>\n      <td>NaN</td>\n      <td>...</td>\n      <td>NaN</td>\n      <td>NaN</td>\n      <td>1.7</td>\n      <td>150</td>\n      <td>/auto-occasion-annonce-87102831129.html</td>\n      <td>CHARNAY LES MACON 71850</td>\n      <td>2.0</td>\n      <td>{'year': '2020', 'kilometers': ' 75 674 km', '...</td>\n      <td>dCi</td>\n      <td>None</td>\n    </tr>\n    <tr>\n      <th>5199</th>\n      <td>5199</td>\n      <td>peugeot 5008 ii</td>\n      <td>28070.0</td>\n      <td>NaN</td>\n      <td>['Extérieur et Chassis', 'Attelage', 'Pack vis...</td>\n      <td>2020.0</td>\n      <td>1.2 PURETECH 130 ALLURE</td>\n      <td>Essence</td>\n      <td>Automatique</td>\n      <td>NaN</td>\n      <td>...</td>\n      <td>NaN</td>\n      <td>NaN</td>\n      <td>1.2</td>\n      <td>130</td>\n      <td>/auto-occasion-annonce-69113065024.html</td>\n      <td>MERIGNAC 33700</td>\n      <td>1.0</td>\n      <td>{'year': '2020', 'kilometers': ' 45 156 km', '...</td>\n      <td>PureTech</td>\n      <td>None</td>\n    </tr>\n  </tbody>\n</table>\n<p>17160 rows × 24 columns</p>\n</div>"
     },
     "execution_count": 49,
     "metadata": {},
     "output_type": "execute_result"
    }
   ],
   "source": [
    "df"
   ],
   "metadata": {
    "collapsed": false
   }
  },
  {
   "cell_type": "code",
   "execution_count": 50,
   "outputs": [
    {
     "data": {
      "text/plain": "        date  fuel  transmission  kilometers  doors defauts  seller  power  \\\n3699  2023.0     7             1      4500.0    5.0     0.0       1  292.0   \n1427  2019.0     8             9     62105.0    5.0    14.0       0  180.0   \n8622  2019.0     8            14     37908.0    5.0     0.0       1   82.0   \n391   2024.0     8             1      5700.0    5.0     nan       2  130.0   \n6105  2023.0    10             1     12900.0    4.0     0.0       1  330.0   \n...      ...   ...           ...         ...    ...     ...     ...    ...   \n8845  2023.0     8            14      3000.0    5.0     0.0       1  100.0   \n9525  2020.0    17             1     13267.0    5.0     0.0       1  204.0   \n2951  2018.0     8            14     62170.0    5.0    12.0       1   75.0   \n860   2021.0    19             7     25727.0    5.0    17.0       0  160.0   \n3831  2020.0     7             1     71425.0    5.0     nan       2    0.0   \n\n      displacement  motorization_type  brand  model  \n3699           0.0                 35     36    516  \n1427           1.6                 18     43     68  \n8622           0.0                 18      8    243  \n391            1.2                 35     42    821  \n6105           2.0                 35     33    633  \n...            ...                ...    ...    ...  \n8845           1.2                 18     43      5  \n9525           0.0                 35      4    143  \n2951           1.0                 35     48    663  \n860            1.6                 12     46    787  \n3831           0.0                 35     22    642  \n\n[13728 rows x 12 columns]",
      "text/html": "<div>\n<style scoped>\n    .dataframe tbody tr th:only-of-type {\n        vertical-align: middle;\n    }\n\n    .dataframe tbody tr th {\n        vertical-align: top;\n    }\n\n    .dataframe thead th {\n        text-align: right;\n    }\n</style>\n<table border=\"1\" class=\"dataframe\">\n  <thead>\n    <tr style=\"text-align: right;\">\n      <th></th>\n      <th>date</th>\n      <th>fuel</th>\n      <th>transmission</th>\n      <th>kilometers</th>\n      <th>doors</th>\n      <th>defauts</th>\n      <th>seller</th>\n      <th>power</th>\n      <th>displacement</th>\n      <th>motorization_type</th>\n      <th>brand</th>\n      <th>model</th>\n    </tr>\n  </thead>\n  <tbody>\n    <tr>\n      <th>3699</th>\n      <td>2023.0</td>\n      <td>7</td>\n      <td>1</td>\n      <td>4500.0</td>\n      <td>5.0</td>\n      <td>0.0</td>\n      <td>1</td>\n      <td>292.0</td>\n      <td>0.0</td>\n      <td>35</td>\n      <td>36</td>\n      <td>516</td>\n    </tr>\n    <tr>\n      <th>1427</th>\n      <td>2019.0</td>\n      <td>8</td>\n      <td>9</td>\n      <td>62105.0</td>\n      <td>5.0</td>\n      <td>14.0</td>\n      <td>0</td>\n      <td>180.0</td>\n      <td>1.6</td>\n      <td>18</td>\n      <td>43</td>\n      <td>68</td>\n    </tr>\n    <tr>\n      <th>8622</th>\n      <td>2019.0</td>\n      <td>8</td>\n      <td>14</td>\n      <td>37908.0</td>\n      <td>5.0</td>\n      <td>0.0</td>\n      <td>1</td>\n      <td>82.0</td>\n      <td>0.0</td>\n      <td>18</td>\n      <td>8</td>\n      <td>243</td>\n    </tr>\n    <tr>\n      <th>391</th>\n      <td>2024.0</td>\n      <td>8</td>\n      <td>1</td>\n      <td>5700.0</td>\n      <td>5.0</td>\n      <td>nan</td>\n      <td>2</td>\n      <td>130.0</td>\n      <td>1.2</td>\n      <td>35</td>\n      <td>42</td>\n      <td>821</td>\n    </tr>\n    <tr>\n      <th>6105</th>\n      <td>2023.0</td>\n      <td>10</td>\n      <td>1</td>\n      <td>12900.0</td>\n      <td>4.0</td>\n      <td>0.0</td>\n      <td>1</td>\n      <td>330.0</td>\n      <td>2.0</td>\n      <td>35</td>\n      <td>33</td>\n      <td>633</td>\n    </tr>\n    <tr>\n      <th>...</th>\n      <td>...</td>\n      <td>...</td>\n      <td>...</td>\n      <td>...</td>\n      <td>...</td>\n      <td>...</td>\n      <td>...</td>\n      <td>...</td>\n      <td>...</td>\n      <td>...</td>\n      <td>...</td>\n      <td>...</td>\n    </tr>\n    <tr>\n      <th>8845</th>\n      <td>2023.0</td>\n      <td>8</td>\n      <td>14</td>\n      <td>3000.0</td>\n      <td>5.0</td>\n      <td>0.0</td>\n      <td>1</td>\n      <td>100.0</td>\n      <td>1.2</td>\n      <td>18</td>\n      <td>43</td>\n      <td>5</td>\n    </tr>\n    <tr>\n      <th>9525</th>\n      <td>2020.0</td>\n      <td>17</td>\n      <td>1</td>\n      <td>13267.0</td>\n      <td>5.0</td>\n      <td>0.0</td>\n      <td>1</td>\n      <td>204.0</td>\n      <td>0.0</td>\n      <td>35</td>\n      <td>4</td>\n      <td>143</td>\n    </tr>\n    <tr>\n      <th>2951</th>\n      <td>2018.0</td>\n      <td>8</td>\n      <td>14</td>\n      <td>62170.0</td>\n      <td>5.0</td>\n      <td>12.0</td>\n      <td>1</td>\n      <td>75.0</td>\n      <td>1.0</td>\n      <td>35</td>\n      <td>48</td>\n      <td>663</td>\n    </tr>\n    <tr>\n      <th>860</th>\n      <td>2021.0</td>\n      <td>19</td>\n      <td>7</td>\n      <td>25727.0</td>\n      <td>5.0</td>\n      <td>17.0</td>\n      <td>0</td>\n      <td>160.0</td>\n      <td>1.6</td>\n      <td>12</td>\n      <td>46</td>\n      <td>787</td>\n    </tr>\n    <tr>\n      <th>3831</th>\n      <td>2020.0</td>\n      <td>7</td>\n      <td>1</td>\n      <td>71425.0</td>\n      <td>5.0</td>\n      <td>nan</td>\n      <td>2</td>\n      <td>0.0</td>\n      <td>0.0</td>\n      <td>35</td>\n      <td>22</td>\n      <td>642</td>\n    </tr>\n  </tbody>\n</table>\n<p>13728 rows × 12 columns</p>\n</div>"
     },
     "execution_count": 50,
     "metadata": {},
     "output_type": "execute_result"
    }
   ],
   "source": [
    "X_train"
   ],
   "metadata": {
    "collapsed": false
   }
  },
  {
   "cell_type": "code",
   "execution_count": 63,
   "outputs": [],
   "source": [
    "X_train['defauts'] = X_train['defauts'].apply(float).fillna(0)"
   ],
   "metadata": {
    "collapsed": false
   }
  },
  {
   "cell_type": "code",
   "execution_count": 67,
   "outputs": [],
   "source": [
    "X_test['defauts'] = X_test['defauts'].apply(float).fillna(0)"
   ],
   "metadata": {
    "collapsed": false
   }
  },
  {
   "cell_type": "code",
   "execution_count": 64,
   "outputs": [
    {
     "name": "stdout",
     "output_type": "stream",
     "text": [
      "Best parameters: OrderedDict([('colsample_bytree', 0.5), ('gamma', 0.40765981103722093), ('learning_rate', 0.09707124383059604), ('max_depth', 7), ('min_child_weight', 6), ('reg_lambda', 0.0), ('subsample', 0.8651242897695882)])\n"
     ]
    }
   ],
   "source": [
    "from skopt import BayesSearchCV\n",
    "from skopt.space import Real, Integer\n",
    "from xgboost import XGBRegressor\n",
    "\n",
    "\n",
    "search_spaces = {\n",
    "    'max_depth': Integer(3, 7),\n",
    "    'gamma': Real(0, 1.0),\n",
    "    'reg_lambda': Real(0, 10.0),\n",
    "    'learning_rate': Real(0.01, 0.1),\n",
    "    'subsample': Real(0.5, 1.0),\n",
    "    'colsample_bytree': Real(0.5, 1.0),\n",
    "    'min_child_weight': Integer(1, 6)\n",
    "}\n",
    "\n",
    "xgb_reg = XGBRegressor(n_estimators=100)\n",
    "\n",
    "# Create a BayesSearchCV object\n",
    "bayes_search = BayesSearchCV(xgb_reg, search_spaces, n_iter=32, scoring='neg_mean_squared_error', n_jobs=-1, cv=3)\n",
    "\n",
    "# Fit the model\n",
    "result = bayes_search.fit(X_train, y_train)\n",
    "\n",
    "# Best parameters\n",
    "print(f\"Best parameters: {result.best_params_}\")\n"
   ],
   "metadata": {
    "collapsed": false
   }
  },
  {
   "cell_type": "code",
   "execution_count": 68,
   "outputs": [],
   "source": [
    "y_pred = bayes_search.predict(X_test.fillna(0))"
   ],
   "metadata": {
    "collapsed": false
   }
  },
  {
   "cell_type": "code",
   "execution_count": 69,
   "outputs": [],
   "source": [
    "from sklearn.metrics import r2_score, mean_squared_error"
   ],
   "metadata": {
    "collapsed": false
   }
  },
  {
   "cell_type": "code",
   "execution_count": 70,
   "outputs": [
    {
     "data": {
      "text/plain": "0.6238762003105507"
     },
     "execution_count": 70,
     "metadata": {},
     "output_type": "execute_result"
    }
   ],
   "source": [
    "r2_score(y_pred, y_test)"
   ],
   "metadata": {
    "collapsed": false
   }
  },
  {
   "cell_type": "code",
   "execution_count": 71,
   "outputs": [
    {
     "data": {
      "text/plain": "256055364.1532655"
     },
     "execution_count": 71,
     "metadata": {},
     "output_type": "execute_result"
    }
   ],
   "source": [
    "mean_squared_error(y_pred, y_test)"
   ],
   "metadata": {
    "collapsed": false
   }
  },
  {
   "cell_type": "code",
   "execution_count": 72,
   "outputs": [],
   "source": [
    "import matplotlib.pyplot as plt"
   ],
   "metadata": {
    "collapsed": false
   }
  },
  {
   "cell_type": "code",
   "execution_count": 73,
   "outputs": [
    {
     "data": {
      "text/plain": "<matplotlib.collections.PathCollection at 0x28dbd8b13d0>"
     },
     "execution_count": 73,
     "metadata": {},
     "output_type": "execute_result"
    },
    {
     "data": {
      "text/plain": "<Figure size 432x288 with 1 Axes>",
      "image/png": "[encoded data removed]"
     },
     "metadata": {},
     "output_type": "display_data"
    }
   ],
   "source": [
    "plt.scatter(y_test, y_pred)"
   ],
   "metadata": {
    "collapsed": false
   }
  },
  {
   "cell_type": "code",
   "execution_count": 74,
   "outputs": [
    {
     "name": "stderr",
     "output_type": "stream",
     "text": [
      "C:\\Users\\Enzo\\anaconda3\\lib\\site-packages\\seaborn\\_decorators.py:36: FutureWarning: Pass the following variables as keyword args: x, y. From version 0.12, the only valid positional argument will be `data`, and passing other arguments without an explicit keyword will result in an error or misinterpretation.\n",
      "  warnings.warn(\n"
     ]
    },
    {
     "data": {
      "text/plain": "<AxesSubplot:xlabel='price'>"
     },
     "execution_count": 74,
     "metadata": {},
     "output_type": "execute_result"
    },
    {
     "data": {
      "text/plain": "<Figure size 432x288 with 1 Axes>",
      "image/png": "[encoded data removed]"
     },
     "metadata": {},
     "output_type": "display_data"
    }
   ],
   "source": [
    "import seaborn as sns\n",
    "\n",
    "sns.regplot(y_test, y_pred)"
   ],
   "metadata": {
    "collapsed": false
   }
  },
  {
   "cell_type": "code",
   "execution_count": 75,
   "outputs": [
    {
     "data": {
      "text/plain": "                            name    date     fuel               transmission  \\\n0                 peugeot 308 sw  2016.0  Essence  Boîte manuelle 6 rapports   \n1                     citroen c4  2015.0   Diesel  Boîte manuelle 5 rapports   \n2                volkswagen polo  2014.0  Essence  Boîte manuelle 5 rapports   \n3                   toyota yaris  2016.0  Essence  Boîte manuelle 5 rapports   \n4              citroen c4 cactus  2016.0  Essence  Boîte manuelle 5 rapports   \n...                          ...     ...      ...                        ...   \n5195   volvo v40 (2e generation)  2020.0   Diesel                   Manuelle   \n5196      citroen c3 iii phase 2  2022.0  Essence                   Manuelle   \n5197       ford ecosport phase 2  2022.0  Essence                   Manuelle   \n5198  nissan x-trail iii phase 2  2020.0   Diesel                Automatique   \n5199             peugeot 5008 ii  2020.0  Essence                Automatique   \n\n      kilometers  doors  defauts  seller  power  displacement  \\\n0       106977.0    5.0     13.0  aramis  130.0           1.2   \n1       135390.0    5.0     22.0  aramis  100.0           1.6   \n2        80770.0    3.0     12.0  aramis   60.0           1.2   \n3        98195.0    5.0     14.0  aramis   70.0           1.0   \n4        42981.0    5.0     14.0  aramis   82.0           1.2   \n...          ...    ...      ...     ...    ...           ...   \n5195     63174.0    5.0      NaN     NaN  120.0           2.0   \n5196     22629.0    5.0      NaN     NaN   83.0           1.2   \n5197     94729.0    5.0      NaN     NaN  125.0           1.0   \n5198     75674.0    5.0      NaN     NaN  150.0           1.7   \n5199     45156.0    5.0      NaN     NaN  130.0           1.2   \n\n     motorization_type    price  \n0             PureTech  12499.0  \n1              BlueHDi  10699.0  \n2                 None  10499.0  \n3                VVT-i  10999.0  \n4             PureTech  12699.0  \n...                ...      ...  \n5195              None  19240.0  \n5196          PureTech  15460.0  \n5197          EcoBoost  16510.0  \n5198               dCi  25980.0  \n5199          PureTech  28070.0  \n\n[17160 rows x 12 columns]",
      "text/html": "<div>\n<style scoped>\n    .dataframe tbody tr th:only-of-type {\n        vertical-align: middle;\n    }\n\n    .dataframe tbody tr th {\n        vertical-align: top;\n    }\n\n    .dataframe thead th {\n        text-align: right;\n    }\n</style>\n<table border=\"1\" class=\"dataframe\">\n  <thead>\n    <tr style=\"text-align: right;\">\n      <th></th>\n      <th>name</th>\n      <th>date</th>\n      <th>fuel</th>\n      <th>transmission</th>\n      <th>kilometers</th>\n      <th>doors</th>\n      <th>defauts</th>\n      <th>seller</th>\n      <th>power</th>\n      <th>displacement</th>\n      <th>motorization_type</th>\n      <th>price</th>\n    </tr>\n  </thead>\n  <tbody>\n    <tr>\n      <th>0</th>\n      <td>peugeot 308 sw</td>\n      <td>2016.0</td>\n      <td>Essence</td>\n      <td>Boîte manuelle 6 rapports</td>\n      <td>106977.0</td>\n      <td>5.0</td>\n      <td>13.0</td>\n      <td>aramis</td>\n      <td>130.0</td>\n      <td>1.2</td>\n      <td>PureTech</td>\n      <td>12499.0</td>\n    </tr>\n    <tr>\n      <th>1</th>\n      <td>citroen c4</td>\n      <td>2015.0</td>\n      <td>Diesel</td>\n      <td>Boîte manuelle 5 rapports</td>\n      <td>135390.0</td>\n      <td>5.0</td>\n      <td>22.0</td>\n      <td>aramis</td>\n      <td>100.0</td>\n      <td>1.6</td>\n      <td>BlueHDi</td>\n      <td>10699.0</td>\n    </tr>\n    <tr>\n      <th>2</th>\n      <td>volkswagen polo</td>\n      <td>2014.0</td>\n      <td>Essence</td>\n      <td>Boîte manuelle 5 rapports</td>\n      <td>80770.0</td>\n      <td>3.0</td>\n      <td>12.0</td>\n      <td>aramis</td>\n      <td>60.0</td>\n      <td>1.2</td>\n      <td>None</td>\n      <td>10499.0</td>\n    </tr>\n    <tr>\n      <th>3</th>\n      <td>toyota yaris</td>\n      <td>2016.0</td>\n      <td>Essence</td>\n      <td>Boîte manuelle 5 rapports</td>\n      <td>98195.0</td>\n      <td>5.0</td>\n      <td>14.0</td>\n      <td>aramis</td>\n      <td>70.0</td>\n      <td>1.0</td>\n      <td>VVT-i</td>\n      <td>10999.0</td>\n    </tr>\n    <tr>\n      <th>4</th>\n      <td>citroen c4 cactus</td>\n      <td>2016.0</td>\n      <td>Essence</td>\n      <td>Boîte manuelle 5 rapports</td>\n      <td>42981.0</td>\n      <td>5.0</td>\n      <td>14.0</td>\n      <td>aramis</td>\n      <td>82.0</td>\n      <td>1.2</td>\n      <td>PureTech</td>\n      <td>12699.0</td>\n    </tr>\n    <tr>\n      <th>...</th>\n      <td>...</td>\n      <td>...</td>\n      <td>...</td>\n      <td>...</td>\n      <td>...</td>\n      <td>...</td>\n      <td>...</td>\n      <td>...</td>\n      <td>...</td>\n      <td>...</td>\n      <td>...</td>\n      <td>...</td>\n    </tr>\n    <tr>\n      <th>5195</th>\n      <td>volvo v40 (2e generation)</td>\n      <td>2020.0</td>\n      <td>Diesel</td>\n      <td>Manuelle</td>\n      <td>63174.0</td>\n      <td>5.0</td>\n      <td>NaN</td>\n      <td>NaN</td>\n      <td>120.0</td>\n      <td>2.0</td>\n      <td>None</td>\n      <td>19240.0</td>\n    </tr>\n    <tr>\n      <th>5196</th>\n      <td>citroen c3 iii phase 2</td>\n      <td>2022.0</td>\n      <td>Essence</td>\n      <td>Manuelle</td>\n      <td>22629.0</td>\n      <td>5.0</td>\n      <td>NaN</td>\n      <td>NaN</td>\n      <td>83.0</td>\n      <td>1.2</td>\n      <td>PureTech</td>\n      <td>15460.0</td>\n    </tr>\n    <tr>\n      <th>5197</th>\n      <td>ford ecosport phase 2</td>\n      <td>2022.0</td>\n      <td>Essence</td>\n      <td>Manuelle</td>\n      <td>94729.0</td>\n      <td>5.0</td>\n      <td>NaN</td>\n      <td>NaN</td>\n      <td>125.0</td>\n      <td>1.0</td>\n      <td>EcoBoost</td>\n      <td>16510.0</td>\n    </tr>\n    <tr>\n      <th>5198</th>\n      <td>nissan x-trail iii phase 2</td>\n      <td>2020.0</td>\n      <td>Diesel</td>\n      <td>Automatique</td>\n      <td>75674.0</td>\n      <td>5.0</td>\n      <td>NaN</td>\n      <td>NaN</td>\n      <td>150.0</td>\n      <td>1.7</td>\n      <td>dCi</td>\n      <td>25980.0</td>\n    </tr>\n    <tr>\n      <th>5199</th>\n      <td>peugeot 5008 ii</td>\n      <td>2020.0</td>\n      <td>Essence</td>\n      <td>Automatique</td>\n      <td>45156.0</td>\n      <td>5.0</td>\n      <td>NaN</td>\n      <td>NaN</td>\n      <td>130.0</td>\n      <td>1.2</td>\n      <td>PureTech</td>\n      <td>28070.0</td>\n    </tr>\n  </tbody>\n</table>\n<p>17160 rows × 12 columns</p>\n</div>"
     },
     "execution_count": 75,
     "metadata": {},
     "output_type": "execute_result"
    }
   ],
   "source": [
    "dd"
   ],
   "metadata": {
    "collapsed": false
   }
  },
  {
   "cell_type": "code",
   "execution_count": 76,
   "outputs": [
    {
     "data": {
      "text/plain": "0.6238762003105507"
     },
     "execution_count": 76,
     "metadata": {},
     "output_type": "execute_result"
    }
   ],
   "source": [
    "r2_score(y_pred, y_test)"
   ],
   "metadata": {
    "collapsed": false
   }
  }
 ],
 "metadata": {
  "kernelspec": {
   "display_name": "Python 3",
   "language": "python",
   "name": "python3"
  },
  "language_info": {
   "codemirror_mode": {
    "name": "ipython",
    "version": 2
   },
   "file_extension": ".py",
   "mimetype": "text/x-python",
   "name": "python",
   "nbconvert_exporter": "python",
   "pygments_lexer": "ipython2",
   "version": "2.7.6"
  }
 },
 "nbformat": 4,
 "nbformat_minor": 0
}
